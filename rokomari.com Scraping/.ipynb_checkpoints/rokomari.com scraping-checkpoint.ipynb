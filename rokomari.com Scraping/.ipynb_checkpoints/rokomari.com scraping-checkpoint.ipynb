{
 "cells": [
  {
   "cell_type": "code",
   "execution_count": 1,
   "id": "d41d7885",
   "metadata": {},
   "outputs": [],
   "source": [
    "from selenium import webdriver\n",
    "from selenium.webdriver.common.keys import Keys\n",
    "from selenium.webdriver.common.by import By\n",
    "import pandas as pd\n",
    "import time"
   ]
  },
  {
   "cell_type": "code",
   "execution_count": 2,
   "id": "068c324d",
   "metadata": {},
   "outputs": [
    {
     "name": "stderr",
     "output_type": "stream",
     "text": [
      "C:\\Users\\Minju Mojumder\\AppData\\Local\\Temp\\ipykernel_7460\\2198018425.py:1: DeprecationWarning: executable_path has been deprecated, please pass in a Service object\n",
      "  driver = webdriver.Chrome('../chromedriver.exe')\n"
     ]
    }
   ],
   "source": [
    "driver = webdriver.Chrome('../chromedriver.exe')"
   ]
  },
  {
   "cell_type": "markdown",
   "id": "72fded36",
   "metadata": {},
   "source": [
    "## Test"
   ]
  },
  {
   "cell_type": "code",
   "execution_count": 362,
   "id": "ec77b367",
   "metadata": {},
   "outputs": [],
   "source": [
    "driver.get('https://www.rokomari.com/book/968/')"
   ]
  },
  {
   "cell_type": "markdown",
   "id": "22f04f78",
   "metadata": {},
   "source": [
    "### Title"
   ]
  },
  {
   "cell_type": "code",
   "execution_count": 69,
   "id": "0d6019f0",
   "metadata": {},
   "outputs": [],
   "source": [
    "title = driver.find_elements(By.TAG_NAME, 'h1')"
   ]
  },
  {
   "cell_type": "code",
   "execution_count": 70,
   "id": "61a5899f",
   "metadata": {},
   "outputs": [
    {
     "data": {
      "text/plain": [
       "[<selenium.webdriver.remote.webelement.WebElement (session=\"8bfa336061fb15c2a393204902df1e77\", element=\"20413A90D2DE5EC08D8D067574DBC2EF_element_977\")>]"
      ]
     },
     "execution_count": 70,
     "metadata": {},
     "output_type": "execute_result"
    }
   ],
   "source": [
    "title"
   ]
  },
  {
   "cell_type": "code",
   "execution_count": 71,
   "id": "993044ca",
   "metadata": {},
   "outputs": [
    {
     "data": {
      "text/plain": [
       "'জোছনা ও জননীর গল্প (হার্ডকভার)'"
      ]
     },
     "execution_count": 71,
     "metadata": {},
     "output_type": "execute_result"
    }
   ],
   "source": [
    "title[0].text"
   ]
  },
  {
   "cell_type": "code",
   "execution_count": 72,
   "id": "291135cb",
   "metadata": {},
   "outputs": [
    {
     "data": {
      "text/plain": [
       "'জোছনা ও জননীর গল্প'"
      ]
     },
     "execution_count": 72,
     "metadata": {},
     "output_type": "execute_result"
    }
   ],
   "source": [
    "title[0].text.rstrip(' (হার্ডকভার)')"
   ]
  },
  {
   "cell_type": "markdown",
   "id": "6a436e1f",
   "metadata": {},
   "source": [
    "### Author(s)"
   ]
  },
  {
   "cell_type": "code",
   "execution_count": 73,
   "id": "f69865f1",
   "metadata": {},
   "outputs": [],
   "source": [
    "authors = driver.find_elements(By.CSS_SELECTOR, '#details-page > section.details-book-section.d-flex.align-items-base > div.details-book-main-info-wrapper > div > div.col.details-book-main-info.align-self-center > div.details-book-main-info__content > p.details-book-info__content-author')"
   ]
  },
  {
   "cell_type": "code",
   "execution_count": 74,
   "id": "6275e380",
   "metadata": {},
   "outputs": [
    {
     "data": {
      "text/plain": [
       "[<selenium.webdriver.remote.webelement.WebElement (session=\"8bfa336061fb15c2a393204902df1e77\", element=\"20413A90D2DE5EC08D8D067574DBC2EF_element_953\")>]"
      ]
     },
     "execution_count": 74,
     "metadata": {},
     "output_type": "execute_result"
    }
   ],
   "source": [
    "authors"
   ]
  },
  {
   "cell_type": "code",
   "execution_count": 75,
   "id": "be58d9d8",
   "metadata": {},
   "outputs": [
    {
     "data": {
      "text/plain": [
       "'by হুমায়ূন আহমেদ'"
      ]
     },
     "execution_count": 75,
     "metadata": {},
     "output_type": "execute_result"
    }
   ],
   "source": [
    "authors[0].text"
   ]
  },
  {
   "cell_type": "code",
   "execution_count": 76,
   "id": "607f1e72",
   "metadata": {},
   "outputs": [
    {
     "data": {
      "text/plain": [
       "'হুমায়ূন আহমেদ'"
      ]
     },
     "execution_count": 76,
     "metadata": {},
     "output_type": "execute_result"
    }
   ],
   "source": [
    "authors[0].text.lstrip('by ')"
   ]
  },
  {
   "cell_type": "markdown",
   "id": "3eedaad3",
   "metadata": {},
   "source": [
    "### Category"
   ]
  },
  {
   "cell_type": "code",
   "execution_count": 77,
   "id": "6d95b419",
   "metadata": {},
   "outputs": [],
   "source": [
    "category = driver.find_elements(By.CSS_SELECTOR, '#details-page > section.details-book-section.d-flex.align-items-base > div.details-book-main-info-wrapper > div > div.col.details-book-main-info.align-self-center > div.details-book-main-info__content > div.details-book-info__content-category.d-flex.align-items-center')"
   ]
  },
  {
   "cell_type": "code",
   "execution_count": 78,
   "id": "ca8a7bdc",
   "metadata": {},
   "outputs": [
    {
     "data": {
      "text/plain": [
       "[<selenium.webdriver.remote.webelement.WebElement (session=\"8bfa336061fb15c2a393204902df1e77\", element=\"20413A90D2DE5EC08D8D067574DBC2EF_element_954\")>]"
      ]
     },
     "execution_count": 78,
     "metadata": {},
     "output_type": "execute_result"
    }
   ],
   "source": [
    "category"
   ]
  },
  {
   "cell_type": "code",
   "execution_count": 79,
   "id": "df74aa42",
   "metadata": {},
   "outputs": [
    {
     "data": {
      "text/plain": [
       "'Category:\\n#2 Best Seller in\\nরাজনৈতিক ও মুক্তিযুদ্ধভিত্তিক উপন্যাস'"
      ]
     },
     "execution_count": 79,
     "metadata": {},
     "output_type": "execute_result"
    }
   ],
   "source": [
    "category[0].text"
   ]
  },
  {
   "cell_type": "code",
   "execution_count": 80,
   "id": "6441c3e3",
   "metadata": {},
   "outputs": [
    {
     "data": {
      "text/plain": [
       "'রাজনৈতিক ও মুক্তিযুদ্ধভিত্তিক উপন্যাস'"
      ]
     },
     "execution_count": 80,
     "metadata": {},
     "output_type": "execute_result"
    }
   ],
   "source": [
    "category[0].text.split('\\n')[-1]"
   ]
  },
  {
   "cell_type": "markdown",
   "id": "2748f877",
   "metadata": {},
   "source": [
    "### Rating"
   ]
  },
  {
   "cell_type": "code",
   "execution_count": 81,
   "id": "f8a4ba38",
   "metadata": {},
   "outputs": [],
   "source": [
    "rating = driver.find_elements(By.CSS_SELECTOR, '#summary > div.review-wrapper > div.d-flex.align-items-start.justify-content-start.mt-2 > div > div.review-wrapper__rating-summary > h3')"
   ]
  },
  {
   "cell_type": "code",
   "execution_count": 82,
   "id": "273796c9",
   "metadata": {},
   "outputs": [
    {
     "data": {
      "text/plain": [
       "[<selenium.webdriver.remote.webelement.WebElement (session=\"8bfa336061fb15c2a393204902df1e77\", element=\"20413A90D2DE5EC08D8D067574DBC2EF_element_1062\")>]"
      ]
     },
     "execution_count": 82,
     "metadata": {},
     "output_type": "execute_result"
    }
   ],
   "source": [
    "rating"
   ]
  },
  {
   "cell_type": "code",
   "execution_count": 83,
   "id": "88200839",
   "metadata": {},
   "outputs": [
    {
     "data": {
      "text/plain": [
       "'4.62'"
      ]
     },
     "execution_count": 83,
     "metadata": {},
     "output_type": "execute_result"
    }
   ],
   "source": [
    "rating[0].text"
   ]
  },
  {
   "cell_type": "markdown",
   "id": "acd4df69",
   "metadata": {},
   "source": [
    "### Number of Rating and Reviews"
   ]
  },
  {
   "cell_type": "code",
   "execution_count": 89,
   "id": "e7627cba",
   "metadata": {},
   "outputs": [],
   "source": [
    "no_of_ratings_and_reviews = driver.find_elements(By.CSS_SELECTOR, '#js--rating-review-count-summary')"
   ]
  },
  {
   "cell_type": "code",
   "execution_count": 90,
   "id": "8f92d883",
   "metadata": {},
   "outputs": [
    {
     "data": {
      "text/plain": [
       "[<selenium.webdriver.remote.webelement.WebElement (session=\"8bfa336061fb15c2a393204902df1e77\", element=\"20413A90D2DE5EC08D8D067574DBC2EF_element_1065\")>]"
      ]
     },
     "execution_count": 90,
     "metadata": {},
     "output_type": "execute_result"
    }
   ],
   "source": [
    "no_of_ratings_and_reviews"
   ]
  },
  {
   "cell_type": "code",
   "execution_count": 91,
   "id": "92f0dba6",
   "metadata": {},
   "outputs": [
    {
     "data": {
      "text/plain": [
       "'306 Ratings and 120 Reviews'"
      ]
     },
     "execution_count": 91,
     "metadata": {},
     "output_type": "execute_result"
    }
   ],
   "source": [
    "no_of_ratings_and_reviews[0].text"
   ]
  },
  {
   "cell_type": "code",
   "execution_count": 92,
   "id": "9c33a4d5",
   "metadata": {},
   "outputs": [
    {
     "data": {
      "text/plain": [
       "'306'"
      ]
     },
     "execution_count": 92,
     "metadata": {},
     "output_type": "execute_result"
    }
   ],
   "source": [
    "no_of_ratings = no_of_ratings_and_reviews[0].text.split()[0]\n",
    "no_of_ratings"
   ]
  },
  {
   "cell_type": "code",
   "execution_count": 93,
   "id": "a05d2f2f",
   "metadata": {},
   "outputs": [
    {
     "data": {
      "text/plain": [
       "'120'"
      ]
     },
     "execution_count": 93,
     "metadata": {},
     "output_type": "execute_result"
    }
   ],
   "source": [
    "no_of_reviews = no_of_ratings_and_reviews[0].text.split()[3]\n",
    "no_of_reviews"
   ]
  },
  {
   "cell_type": "markdown",
   "id": "4209e3bb",
   "metadata": {},
   "source": [
    "### Actual Price"
   ]
  },
  {
   "cell_type": "code",
   "execution_count": 94,
   "id": "f722ebfe",
   "metadata": {},
   "outputs": [],
   "source": [
    "actual_price = driver.find_element(By.CSS_SELECTOR, '#details-page > section.details-book-section.d-flex.align-items-base > div.details-book-main-info-wrapper > div > div.col.details-book-main-info.align-self-center > div.details-book-main-info__content > div.details-book-info__content-book-price > strike')"
   ]
  },
  {
   "cell_type": "code",
   "execution_count": 95,
   "id": "cfec7ceb",
   "metadata": {},
   "outputs": [
    {
     "data": {
      "text/plain": [
       "<selenium.webdriver.remote.webelement.WebElement (session=\"8bfa336061fb15c2a393204902df1e77\", element=\"20413A90D2DE5EC08D8D067574DBC2EF_element_1078\")>"
      ]
     },
     "execution_count": 95,
     "metadata": {},
     "output_type": "execute_result"
    }
   ],
   "source": [
    "actual_price"
   ]
  },
  {
   "cell_type": "code",
   "execution_count": 96,
   "id": "fb7931db",
   "metadata": {},
   "outputs": [
    {
     "data": {
      "text/plain": [
       "'TK. 800'"
      ]
     },
     "execution_count": 96,
     "metadata": {},
     "output_type": "execute_result"
    }
   ],
   "source": [
    "actual_price.text"
   ]
  },
  {
   "cell_type": "code",
   "execution_count": 97,
   "id": "2c8ae2d6",
   "metadata": {},
   "outputs": [
    {
     "data": {
      "text/plain": [
       "'800'"
      ]
     },
     "execution_count": 97,
     "metadata": {},
     "output_type": "execute_result"
    }
   ],
   "source": [
    "actual_price.text.split()[1]"
   ]
  },
  {
   "cell_type": "markdown",
   "id": "d97e08ca",
   "metadata": {},
   "source": [
    "### Discount Price"
   ]
  },
  {
   "cell_type": "code",
   "execution_count": 98,
   "id": "2d995cef",
   "metadata": {},
   "outputs": [],
   "source": [
    "discount_price = driver.find_element(By.CSS_SELECTOR, '#details-page > section.details-book-section.d-flex.align-items-base > div.details-book-main-info-wrapper > div > div.col.details-book-main-info.align-self-center > div.details-book-main-info__content > div.details-book-info__content-book-price > span.sell-price')"
   ]
  },
  {
   "cell_type": "code",
   "execution_count": 99,
   "id": "73eb300a",
   "metadata": {},
   "outputs": [
    {
     "data": {
      "text/plain": [
       "<selenium.webdriver.remote.webelement.WebElement (session=\"8bfa336061fb15c2a393204902df1e77\", element=\"20413A90D2DE5EC08D8D067574DBC2EF_element_1080\")>"
      ]
     },
     "execution_count": 99,
     "metadata": {},
     "output_type": "execute_result"
    }
   ],
   "source": [
    "discount_price"
   ]
  },
  {
   "cell_type": "code",
   "execution_count": 100,
   "id": "b41d2172",
   "metadata": {},
   "outputs": [
    {
     "data": {
      "text/plain": [
       "'TK. 600'"
      ]
     },
     "execution_count": 100,
     "metadata": {},
     "output_type": "execute_result"
    }
   ],
   "source": [
    "discount_price.text"
   ]
  },
  {
   "cell_type": "code",
   "execution_count": 101,
   "id": "607546cc",
   "metadata": {},
   "outputs": [
    {
     "data": {
      "text/plain": [
       "'600'"
      ]
     },
     "execution_count": 101,
     "metadata": {},
     "output_type": "execute_result"
    }
   ],
   "source": [
    "discount_price.text.split()[1]"
   ]
  },
  {
   "cell_type": "markdown",
   "id": "0e3f710e",
   "metadata": {},
   "source": [
    "### Discount Amount and Percentage"
   ]
  },
  {
   "cell_type": "code",
   "execution_count": 102,
   "id": "6cf89b3d",
   "metadata": {},
   "outputs": [
    {
     "data": {
      "text/plain": [
       "<selenium.webdriver.remote.webelement.WebElement (session=\"8bfa336061fb15c2a393204902df1e77\", element=\"20413A90D2DE5EC08D8D067574DBC2EF_element_995\")>"
      ]
     },
     "execution_count": 102,
     "metadata": {},
     "output_type": "execute_result"
    }
   ],
   "source": [
    "discount_amount_percentage = driver.find_element(By.CSS_SELECTOR, '#details-page > section.details-book-section.d-flex.align-items-base > div.details-book-main-info-wrapper > div > div.col.details-book-main-info.align-self-center > div.details-book-main-info__content > div.details-book-info__content-book-price > span.discount > span')\n",
    "discount_amount_percentage"
   ]
  },
  {
   "cell_type": "code",
   "execution_count": 103,
   "id": "7f01d769",
   "metadata": {},
   "outputs": [
    {
     "data": {
      "text/plain": [
       "'You Save TK. 200 (25%)'"
      ]
     },
     "execution_count": 103,
     "metadata": {},
     "output_type": "execute_result"
    }
   ],
   "source": [
    "discount_amount_percentage.text"
   ]
  },
  {
   "cell_type": "code",
   "execution_count": 105,
   "id": "4d560bb1",
   "metadata": {},
   "outputs": [
    {
     "data": {
      "text/plain": [
       "'200'"
      ]
     },
     "execution_count": 105,
     "metadata": {},
     "output_type": "execute_result"
    }
   ],
   "source": [
    "discount_amount = discount_amount_percentage.text.split()[3]\n",
    "discount_amount"
   ]
  },
  {
   "cell_type": "code",
   "execution_count": 109,
   "id": "9ea8929d",
   "metadata": {},
   "outputs": [
    {
     "data": {
      "text/plain": [
       "'25%'"
      ]
     },
     "execution_count": 109,
     "metadata": {},
     "output_type": "execute_result"
    }
   ],
   "source": [
    "discount_percentage = discount_amount_percentage.text.split()[4]\n",
    "discount_percentage.strip('()')"
   ]
  },
  {
   "cell_type": "markdown",
   "id": "fbb468b8",
   "metadata": {},
   "source": [
    "### Stock Availability and Number of Copies Available"
   ]
  },
  {
   "cell_type": "code",
   "execution_count": 364,
   "id": "397c6ceb",
   "metadata": {},
   "outputs": [
    {
     "data": {
      "text/plain": [
       "<selenium.webdriver.remote.webelement.WebElement (session=\"04e5eecfb534d88216f6ba589d1417c8\", element=\"2000B32BF5DFFBA0A58CD8C5906907E2_element_2566\")>"
      ]
     },
     "execution_count": 364,
     "metadata": {},
     "output_type": "execute_result"
    }
   ],
   "source": [
    "stock_availability_and_no_of_copies_available = driver.find_element(By.CLASS_NAME, 'stock-available')\n",
    "stock_availability_and_no_of_copies_available"
   ]
  },
  {
   "cell_type": "code",
   "execution_count": 370,
   "id": "46ff1eb3",
   "metadata": {},
   "outputs": [
    {
     "data": {
      "text/plain": [
       "'In Stock (37 copies available)'"
      ]
     },
     "execution_count": 370,
     "metadata": {},
     "output_type": "execute_result"
    }
   ],
   "source": [
    "stock_availability_and_no_of_copies_available.text"
   ]
  },
  {
   "cell_type": "code",
   "execution_count": 367,
   "id": "b3921bb8",
   "metadata": {},
   "outputs": [],
   "source": [
    "if 'only' in stock_availability_and_no_of_copies_available.text:\n",
    "    stock_availability = stock_availability_and_no_of_copies_available.text.split('\\n')[0].strip()\n",
    "    no_of_copies_available = stock_availability_and_no_of_copies_available.text.split('\\n')[1].split()[1]\n",
    "elif 'available' in stock_availability_and_no_of_copies_available.text:\n",
    "    stock_availability = stock_availability_and_no_of_copies_available.text.split('(')[0].strip()\n",
    "    no_of_copies_available = stock_availability_and_no_of_copies_available.text.split('(')[1].split()[0]"
   ]
  },
  {
   "cell_type": "code",
   "execution_count": 368,
   "id": "94cd2f50",
   "metadata": {},
   "outputs": [
    {
     "data": {
      "text/plain": [
       "'In Stock'"
      ]
     },
     "execution_count": 368,
     "metadata": {},
     "output_type": "execute_result"
    }
   ],
   "source": [
    "stock_availability"
   ]
  },
  {
   "cell_type": "code",
   "execution_count": 369,
   "id": "8730e236",
   "metadata": {},
   "outputs": [
    {
     "data": {
      "text/plain": [
       "'37'"
      ]
     },
     "execution_count": 369,
     "metadata": {},
     "output_type": "execute_result"
    }
   ],
   "source": [
    "no_of_copies_available"
   ]
  },
  {
   "cell_type": "code",
   "execution_count": 380,
   "id": "28c32915",
   "metadata": {},
   "outputs": [
    {
     "name": "stdout",
     "output_type": "stream",
     "text": [
      "In Stock\n",
      "(only 1 copy left)\n",
      "\n",
      "\n",
      "\n",
      "Stock Available: In Stock\n",
      "No of copies available: 1\n"
     ]
    }
   ],
   "source": [
    "driver.get('https://www.rokomari.com/book/18/')\n",
    "\n",
    "stock_availability_and_no_of_copies_available = driver.find_element(By.CLASS_NAME, 'stock-available')\n",
    "print(stock_availability_and_no_of_copies_available.text)\n",
    "\n",
    "if 'only' in stock_availability_and_no_of_copies_available.text:\n",
    "    stock_availability = stock_availability_and_no_of_copies_available.text.split('\\n')[0].strip()\n",
    "    no_of_copies_available = stock_availability_and_no_of_copies_available.text.split('\\n')[1].split()[1]\n",
    "elif 'available' in stock_availability_and_no_of_copies_available.text:\n",
    "    stock_availability = stock_availability_and_no_of_copies_available.text.split('(')[0].strip()\n",
    "    no_of_copies_available = stock_availability_and_no_of_copies_available.text.split('(')[1].split()[0]\n",
    "    \n",
    "print('\\n\\n')\n",
    "print(f'Stock Available: {stock_availability}')\n",
    "print(f'No of copies available: {no_of_copies_available}')"
   ]
  },
  {
   "cell_type": "markdown",
   "id": "2436c47b",
   "metadata": {},
   "source": [
    "### Publisher"
   ]
  },
  {
   "cell_type": "code",
   "execution_count": 137,
   "id": "dd346974",
   "metadata": {},
   "outputs": [
    {
     "data": {
      "text/plain": [
       "<selenium.webdriver.remote.webelement.WebElement (session=\"8bfa336061fb15c2a393204902df1e77\", element=\"20413A90D2DE5EC08D8D067574DBC2EF_element_1139\")>"
      ]
     },
     "execution_count": 137,
     "metadata": {},
     "output_type": "execute_result"
    }
   ],
   "source": [
    "puslisher = driver.find_element(By.CSS_SELECTOR, '#book-additional-specification > table > tbody > tr:nth-child(3) > td.publisher-link > a')\n",
    "puslisher"
   ]
  },
  {
   "cell_type": "code",
   "execution_count": 138,
   "id": "e5fa8f00",
   "metadata": {},
   "outputs": [
    {
     "data": {
      "text/plain": [
       "'অন্যপ্রকাশ'"
      ]
     },
     "execution_count": 138,
     "metadata": {},
     "output_type": "execute_result"
    }
   ],
   "source": [
    "puslisher.text"
   ]
  },
  {
   "cell_type": "markdown",
   "id": "d07c8369",
   "metadata": {},
   "source": [
    "### ISBN"
   ]
  },
  {
   "cell_type": "code",
   "execution_count": 139,
   "id": "55268d53",
   "metadata": {},
   "outputs": [
    {
     "data": {
      "text/plain": [
       "<selenium.webdriver.remote.webelement.WebElement (session=\"8bfa336061fb15c2a393204902df1e77\", element=\"20413A90D2DE5EC08D8D067574DBC2EF_element_1117\")>"
      ]
     },
     "execution_count": 139,
     "metadata": {},
     "output_type": "execute_result"
    }
   ],
   "source": [
    "ISBN = driver.find_element(By.CSS_SELECTOR, '#book-additional-specification > table > tbody > tr:nth-child(4) > td:nth-child(2)')\n",
    "ISBN"
   ]
  },
  {
   "cell_type": "code",
   "execution_count": 140,
   "id": "82ca4944",
   "metadata": {},
   "outputs": [
    {
     "data": {
      "text/plain": [
       "'9848682767'"
      ]
     },
     "execution_count": 140,
     "metadata": {},
     "output_type": "execute_result"
    }
   ],
   "source": [
    "ISBN.text"
   ]
  },
  {
   "cell_type": "markdown",
   "id": "a8173624",
   "metadata": {},
   "source": [
    "### Edition"
   ]
  },
  {
   "cell_type": "code",
   "execution_count": 141,
   "id": "691ef8dd",
   "metadata": {},
   "outputs": [
    {
     "data": {
      "text/plain": [
       "<selenium.webdriver.remote.webelement.WebElement (session=\"8bfa336061fb15c2a393204902df1e77\", element=\"20413A90D2DE5EC08D8D067574DBC2EF_element_1144\")>"
      ]
     },
     "execution_count": 141,
     "metadata": {},
     "output_type": "execute_result"
    }
   ],
   "source": [
    "edition = driver.find_element(By.CSS_SELECTOR, '#book-additional-specification > table > tbody > tr:nth-child(5) > td:nth-child(2)')\n",
    "edition"
   ]
  },
  {
   "cell_type": "code",
   "execution_count": 142,
   "id": "bf3b2829",
   "metadata": {},
   "outputs": [
    {
     "data": {
      "text/plain": [
       "'8th'"
      ]
     },
     "execution_count": 142,
     "metadata": {},
     "output_type": "execute_result"
    }
   ],
   "source": [
    "edition.text"
   ]
  },
  {
   "cell_type": "markdown",
   "id": "5a21410d",
   "metadata": {},
   "source": [
    "### Number of Pages"
   ]
  },
  {
   "cell_type": "code",
   "execution_count": 143,
   "id": "7c844e63",
   "metadata": {},
   "outputs": [
    {
     "data": {
      "text/plain": [
       "<selenium.webdriver.remote.webelement.WebElement (session=\"8bfa336061fb15c2a393204902df1e77\", element=\"20413A90D2DE5EC08D8D067574DBC2EF_element_1119\")>"
      ]
     },
     "execution_count": 143,
     "metadata": {},
     "output_type": "execute_result"
    }
   ],
   "source": [
    "no_of_pages = driver.find_element(By.CSS_SELECTOR, '#book-additional-specification > table > tbody > tr:nth-child(6) > td:nth-child(2)')\n",
    "no_of_pages"
   ]
  },
  {
   "cell_type": "code",
   "execution_count": 144,
   "id": "22b56e9e",
   "metadata": {},
   "outputs": [
    {
     "data": {
      "text/plain": [
       "'528'"
      ]
     },
     "execution_count": 144,
     "metadata": {},
     "output_type": "execute_result"
    }
   ],
   "source": [
    "no_of_pages.text"
   ]
  },
  {
   "cell_type": "markdown",
   "id": "4c635030",
   "metadata": {},
   "source": [
    "### Country"
   ]
  },
  {
   "cell_type": "code",
   "execution_count": 145,
   "id": "5b3c07ac",
   "metadata": {},
   "outputs": [
    {
     "data": {
      "text/plain": [
       "<selenium.webdriver.remote.webelement.WebElement (session=\"8bfa336061fb15c2a393204902df1e77\", element=\"20413A90D2DE5EC08D8D067574DBC2EF_element_1154\")>"
      ]
     },
     "execution_count": 145,
     "metadata": {},
     "output_type": "execute_result"
    }
   ],
   "source": [
    "country = driver.find_element(By.CSS_SELECTOR, '#book-additional-specification > table > tbody > tr:nth-child(7) > td:nth-child(2)')\n",
    "country"
   ]
  },
  {
   "cell_type": "code",
   "execution_count": 146,
   "id": "66dc167a",
   "metadata": {},
   "outputs": [
    {
     "data": {
      "text/plain": [
       "'বাংলাদেশ'"
      ]
     },
     "execution_count": 146,
     "metadata": {},
     "output_type": "execute_result"
    }
   ],
   "source": [
    "country.text"
   ]
  },
  {
   "cell_type": "markdown",
   "id": "eb504e29",
   "metadata": {},
   "source": [
    "### Language"
   ]
  },
  {
   "cell_type": "code",
   "execution_count": 147,
   "id": "7b329697",
   "metadata": {},
   "outputs": [
    {
     "data": {
      "text/plain": [
       "<selenium.webdriver.remote.webelement.WebElement (session=\"8bfa336061fb15c2a393204902df1e77\", element=\"20413A90D2DE5EC08D8D067574DBC2EF_element_1158\")>"
      ]
     },
     "execution_count": 147,
     "metadata": {},
     "output_type": "execute_result"
    }
   ],
   "source": [
    "language  = driver.find_element(By.CSS_SELECTOR, '#book-additional-specification > table > tbody > tr:nth-child(8) > td:nth-child(2)')\n",
    "language"
   ]
  },
  {
   "cell_type": "code",
   "execution_count": 148,
   "id": "9b0d912c",
   "metadata": {},
   "outputs": [
    {
     "data": {
      "text/plain": [
       "'বাংলা'"
      ]
     },
     "execution_count": 148,
     "metadata": {},
     "output_type": "execute_result"
    }
   ],
   "source": [
    "language.text"
   ]
  },
  {
   "cell_type": "code",
   "execution_count": null,
   "id": "e04ec8b5",
   "metadata": {},
   "outputs": [],
   "source": []
  },
  {
   "cell_type": "code",
   "execution_count": null,
   "id": "2a786b22",
   "metadata": {},
   "outputs": [],
   "source": []
  },
  {
   "cell_type": "markdown",
   "id": "1c1bf8f7",
   "metadata": {},
   "source": [
    "## Main"
   ]
  },
  {
   "cell_type": "code",
   "execution_count": 3,
   "id": "17180a41",
   "metadata": {},
   "outputs": [],
   "source": [
    "def title_scrap(driver):\n",
    "    try:\n",
    "        title_element = driver.find_element(By.TAG_NAME, 'h1')\n",
    "        title = title_element.text.rstrip('(হার্ডকভার)').strip()\n",
    "        return title\n",
    "    except:\n",
    "        return 'N/A'"
   ]
  },
  {
   "cell_type": "code",
   "execution_count": 4,
   "id": "e04a9be3",
   "metadata": {},
   "outputs": [],
   "source": [
    "def author_scrap(driver):\n",
    "    try:\n",
    "        authors_element = driver.find_element(By.CSS_SELECTOR, '#details-page > section.details-book-section.d-flex.align-items-base > div.details-book-main-info-wrapper > div > div.col.details-book-main-info.align-self-center > div.details-book-main-info__content > p.details-book-info__content-author')\n",
    "        authors = authors_element.text.lstrip('by ')\n",
    "        return authors\n",
    "    except:\n",
    "        return 'N/A'"
   ]
  },
  {
   "cell_type": "code",
   "execution_count": 5,
   "id": "a6cccdb9",
   "metadata": {},
   "outputs": [],
   "source": [
    "def category_scrap(driver):\n",
    "    try:\n",
    "        category_element = driver.find_element(By.CSS_SELECTOR, '#details-page > section.details-book-section.d-flex.align-items-base > div.details-book-main-info-wrapper > div > div.col.details-book-main-info.align-self-center > div.details-book-main-info__content > div.details-book-info__content-category.d-flex.align-items-center')\n",
    "        category = category_element.text.split('\\n')[-1]\n",
    "        return category\n",
    "    except:\n",
    "        return 'N/A'"
   ]
  },
  {
   "cell_type": "code",
   "execution_count": 6,
   "id": "db89e6c4",
   "metadata": {},
   "outputs": [],
   "source": [
    "def rating_scrap(driver):\n",
    "    try:\n",
    "        rating_element = driver.find_element(By.CSS_SELECTOR, '#summary > div.review-wrapper > div.d-flex.align-items-start.justify-content-start.mt-2 > div > div.review-wrapper__rating-summary > h3')\n",
    "        rating = rating_element.text\n",
    "        return rating\n",
    "    except:\n",
    "        return 'N/A'"
   ]
  },
  {
   "cell_type": "code",
   "execution_count": 7,
   "id": "fe3af659",
   "metadata": {},
   "outputs": [],
   "source": [
    "def no_of_rating_and_review_scrap(driver):\n",
    "    try:\n",
    "        no_of_ratings_and_reviews_element = driver.find_element(By.CSS_SELECTOR, '#js--rating-review-count-summary')\n",
    "        no_of_ratings = no_of_ratings_and_reviews_element.text.split()[0]\n",
    "        no_of_reviews = no_of_ratings_and_reviews_element.text.split()[3]\n",
    "        return no_of_ratings, no_of_reviews\n",
    "    except:\n",
    "        return 'N/A', 'N/A'"
   ]
  },
  {
   "cell_type": "code",
   "execution_count": 8,
   "id": "a2c06cf0",
   "metadata": {},
   "outputs": [],
   "source": [
    "def actual_price_scrap(driver):\n",
    "    try:\n",
    "        actual_price_element = driver.find_element(By.CSS_SELECTOR, '#details-page > section.details-book-section.d-flex.align-items-base > div.details-book-main-info-wrapper > div > div.col.details-book-main-info.align-self-center > div.details-book-main-info__content > div.details-book-info__content-book-price > strike')\n",
    "        actual_price = actual_price_element.text.split()[1]\n",
    "        return actual_price\n",
    "    except:\n",
    "        return 'N/A'"
   ]
  },
  {
   "cell_type": "code",
   "execution_count": 9,
   "id": "1e058e84",
   "metadata": {},
   "outputs": [],
   "source": [
    "def actual_price_scrap(driver):\n",
    "    try:\n",
    "        actual_price_element = driver.find_element(By.CSS_SELECTOR, '#details-page > section.details-book-section.d-flex.align-items-base > div.details-book-main-info-wrapper > div > div.col.details-book-main-info.align-self-center > div.details-book-main-info__content > div.details-book-info__content-book-price > strike')\n",
    "        actual_price = actual_price_element.text.split()[1]\n",
    "        return actual_price\n",
    "    except:\n",
    "        return 'N/A'"
   ]
  },
  {
   "cell_type": "code",
   "execution_count": 10,
   "id": "9345c3c3",
   "metadata": {},
   "outputs": [],
   "source": [
    "def discount_price_scrap(driver):\n",
    "    try:\n",
    "        discount_price_element = driver.find_element(By.CSS_SELECTOR, '#details-page > section.details-book-section.d-flex.align-items-base > div.details-book-main-info-wrapper > div > div.col.details-book-main-info.align-self-center > div.details-book-main-info__content > div.details-book-info__content-book-price > span.sell-price')\n",
    "        discount_price = discount_price_element.text.split()[1]\n",
    "        return discount_price\n",
    "    except:\n",
    "        return 'N/A'"
   ]
  },
  {
   "cell_type": "code",
   "execution_count": 11,
   "id": "0070a7c4",
   "metadata": {},
   "outputs": [],
   "source": [
    "def discount_amount_and_percentage_scrap(driver):\n",
    "    try:\n",
    "        discount_amount_percentage_element = driver.find_element(By.CSS_SELECTOR, '#details-page > section.details-book-section.d-flex.align-items-base > div.details-book-main-info-wrapper > div > div.col.details-book-main-info.align-self-center > div.details-book-main-info__content > div.details-book-info__content-book-price > span.discount > span')\n",
    "        discount_amount = discount_amount_percentage_element.text.split()[3]\n",
    "        discount_percentage = discount_amount_percentage_element.text.split()[4].strip('()')\n",
    "        return discount_amount, discount_percentage\n",
    "    except:\n",
    "        return 'N/A', 'N/A'"
   ]
  },
  {
   "cell_type": "code",
   "execution_count": 12,
   "id": "e32dbd8c",
   "metadata": {},
   "outputs": [],
   "source": [
    "def stock_availability_and_copies_available_scrap(driver):\n",
    "    try:\n",
    "        stock_availability_and_no_of_copies_available_element = driver.find_element(By.CLASS_NAME, 'stock-available')\n",
    "        if 'only' in stock_availability_and_no_of_copies_available_element.text:\n",
    "            stock_availability = stock_availability_and_no_of_copies_available_element.text.split('\\n')[0].strip()\n",
    "            no_of_copies_available = stock_availability_and_no_of_copies_available_element.text.split('\\n')[1].split()[1]\n",
    "        elif 'available' in stock_availability_and_no_of_copies_available_element.text:\n",
    "            stock_availability = stock_availability_and_no_of_copies_available_element.text.split('(')[0].strip()\n",
    "            no_of_copies_available = stock_availability_and_no_of_copies_available_element.text.split('(')[1].split()[0]\n",
    "        return stock_availability, no_of_copies_available\n",
    "    except:\n",
    "        return 'N/A', 'N/A'"
   ]
  },
  {
   "cell_type": "code",
   "execution_count": 13,
   "id": "b49248ab",
   "metadata": {},
   "outputs": [],
   "source": [
    "def publisher_scrap(driver):\n",
    "    try:\n",
    "        for i in range(1,9): #There are at most 8 specification for each book\n",
    "            if driver.find_element(By.CSS_SELECTOR, f'#book-additional-specification > table > tbody > tr:nth-child({i}) > td:nth-child(1)').text == 'Publisher':\n",
    "                puslisher_element = driver.find_element(By.CSS_SELECTOR, f'#book-additional-specification > table > tbody > tr:nth-child({i}) > td.publisher-link > a')\n",
    "                publisher = puslisher_element.text \n",
    "                break\n",
    "            \n",
    "#         if driver.find_element(By.CSS_SELECTOR, '#book-additional-specification > table > tbody > tr:nth-child(1) > td:nth-child(1)').text == 'Publisher':\n",
    "#             puslisher_element = driver.find_element(By.CSS_SELECTOR, '#book-additional-specification > table > tbody > tr:nth-child(1) > td.publisher-link > a')\n",
    "#             publisher = puslisher_element.text   \n",
    "#         elif driver.find_element(By.CSS_SELECTOR, '#book-additional-specification > table > tbody > tr:nth-child(2) > td:nth-child(1)').text == 'Publisher':\n",
    "#             puslisher_element = driver.find_element(By.CSS_SELECTOR, '#book-additional-specification > table > tbody > tr:nth-child(2) > td.publisher-link > a')\n",
    "#             publisher = puslisher_element.text \n",
    "#         elif driver.find_element(By.CSS_SELECTOR, '#book-additional-specification > table > tbody > tr:nth-child(3) > td:nth-child(1)').text == 'Publisher':\n",
    "#             puslisher_element = driver.find_element(By.CSS_SELECTOR, '#book-additional-specification > table > tbody > tr:nth-child(3) > td.publisher-link > a')\n",
    "#             publisher = puslisher_element.text \n",
    "#         elif driver.find_element(By.CSS_SELECTOR, '#book-additional-specification > table > tbody > tr:nth-child(4) > td:nth-child(1)').text == 'Publisher':\n",
    "#             puslisher_element = driver.find_element(By.CSS_SELECTOR, '#book-additional-specification > table > tbody > tr:nth-child(4) > td.publisher-link > a')\n",
    "#             publisher = puslisher_element.text \n",
    "#         elif driver.find_element(By.CSS_SELECTOR, '#book-additional-specification > table > tbody > tr:nth-child(5) > td:nth-child(1)').text == 'Publisher':\n",
    "#             puslisher_element = driver.find_element(By.CSS_SELECTOR, '#book-additional-specification > table > tbody > tr:nth-child(5) > td.publisher-link > a')\n",
    "#             publisher = puslisher_element.text \n",
    "#         elif driver.find_element(By.CSS_SELECTOR, '#book-additional-specification > table > tbody > tr:nth-child(6) > td:nth-child(1)').text == 'Publisher':\n",
    "#             puslisher_element = driver.find_element(By.CSS_SELECTOR, '#book-additional-specification > table > tbody > tr:nth-child(6) > td.publisher-link > a')\n",
    "#             publisher = puslisher_element.text \n",
    "#         elif driver.find_element(By.CSS_SELECTOR, '#book-additional-specification > table > tbody > tr:nth-child(7) > td:nth-child(1)').text == 'Publisher':\n",
    "#             puslisher_element = driver.find_element(By.CSS_SELECTOR, '#book-additional-specification > table > tbody > tr:nth-child(7) > td.publisher-link > a')\n",
    "#             publisher = puslisher_element.text \n",
    "#         elif driver.find_element(By.CSS_SELECTOR, '#book-additional-specification > table > tbody > tr:nth-child(8) > td:nth-child(1)').text == 'Publisher':\n",
    "#             puslisher_element = driver.find_element(By.CSS_SELECTOR, '#book-additional-specification > table > tbody > tr:nth-child(8) > td.publisher-link > a')\n",
    "#             publisher = puslisher_element.text \n",
    "        return publisher \n",
    "    except:\n",
    "        return 'N/A'"
   ]
  },
  {
   "cell_type": "code",
   "execution_count": 14,
   "id": "2a318f4c",
   "metadata": {},
   "outputs": [],
   "source": [
    "def ISBN_scrap(driver):\n",
    "    try:\n",
    "        for i in range(1,9): #There are at most 8 specification for each book\n",
    "            if driver.find_element(By.CSS_SELECTOR, f'#book-additional-specification > table > tbody > tr:nth-child({i}) > td:nth-child(1)').text == 'ISBN':\n",
    "                ISBN_element = driver.find_element(By.CSS_SELECTOR, f'#book-additional-specification > table > tbody > tr:nth-child({i}) > td:nth-child(2)')\n",
    "                ISBN = ISBN_element.text\n",
    "                break\n",
    "            \n",
    "#         if driver.find_element(By.CSS_SELECTOR, '#book-additional-specification > table > tbody > tr:nth-child(1) > td:nth-child(1)').text == 'ISBN':\n",
    "#             ISBN_element = driver.find_element(By.CSS_SELECTOR, '#book-additional-specification > table > tbody > tr:nth-child(1) > td:nth-child(2)')\n",
    "#             ISBN = ISBN_element.text\n",
    "#         elif driver.find_element(By.CSS_SELECTOR, '#book-additional-specification > table > tbody > tr:nth-child(2) > td:nth-child(1)').text == 'ISBN':\n",
    "#             ISBN_element = driver.find_element(By.CSS_SELECTOR, '#book-additional-specification > table > tbody > tr:nth-child(2) > td:nth-child(2)')\n",
    "#             ISBN = ISBN_element.text\n",
    "#         elif driver.find_element(By.CSS_SELECTOR, '#book-additional-specification > table > tbody > tr:nth-child(3) > td:nth-child(1)').text == 'ISBN':\n",
    "#             ISBN_element = driver.find_element(By.CSS_SELECTOR, '#book-additional-specification > table > tbody > tr:nth-child(3) > td:nth-child(2)')\n",
    "#             ISBN = ISBN_element.text\n",
    "#         elif driver.find_element(By.CSS_SELECTOR, '#book-additional-specification > table > tbody > tr:nth-child(4) > td:nth-child(1)').text == 'ISBN':\n",
    "#             ISBN_element = driver.find_element(By.CSS_SELECTOR, '#book-additional-specification > table > tbody > tr:nth-child(4) > td:nth-child(2)')\n",
    "#             ISBN = ISBN_element.text\n",
    "#         elif driver.find_element(By.CSS_SELECTOR, '#book-additional-specification > table > tbody > tr:nth-child(5) > td:nth-child(1)').text == 'ISBN':\n",
    "#             ISBN_element = driver.find_element(By.CSS_SELECTOR, '#book-additional-specification > table > tbody > tr:nth-child(5) > td:nth-child(2)')\n",
    "#             ISBN = ISBN_element.text\n",
    "#         elif driver.find_element(By.CSS_SELECTOR, '#book-additional-specification > table > tbody > tr:nth-child(6) > td:nth-child(1)').text == 'ISBN':\n",
    "#             ISBN_element = driver.find_element(By.CSS_SELECTOR, '#book-additional-specification > table > tbody > tr:nth-child(6) > td:nth-child(2)')\n",
    "#             ISBN = ISBN_element.text\n",
    "#         elif driver.find_element(By.CSS_SELECTOR, '#book-additional-specification > table > tbody > tr:nth-child(7) > td:nth-child(1)').text == 'ISBN':\n",
    "#             ISBN_element = driver.find_element(By.CSS_SELECTOR, '#book-additional-specification > table > tbody > tr:nth-child(7) > td:nth-child(2)')\n",
    "#             ISBN = ISBN_element.text\n",
    "#         elif driver.find_element(By.CSS_SELECTOR, '#book-additional-specification > table > tbody > tr:nth-child(8) > td:nth-child(1)').text == 'ISBN':\n",
    "#             ISBN_element = driver.find_element(By.CSS_SELECTOR, '#book-additional-specification > table > tbody > tr:nth-child(8) > td:nth-child(2)')\n",
    "#             ISBN = ISBN_element.text\n",
    "        return ISBN\n",
    "    except:\n",
    "        return 'N/A'"
   ]
  },
  {
   "cell_type": "code",
   "execution_count": 15,
   "id": "46a5b1ab",
   "metadata": {},
   "outputs": [],
   "source": [
    "def edition_scrap(driver):\n",
    "    try:\n",
    "        for i in range(1,9): #There are at most 8 specification for each book\n",
    "            if driver.find_element(By.CSS_SELECTOR, f'#book-additional-specification > table > tbody > tr:nth-child({i}) > td:nth-child(1)').text == 'Edition':\n",
    "                edition_element = driver.find_element(By.CSS_SELECTOR, f'#book-additional-specification > table > tbody > tr:nth-child({i}) > td:nth-child(2)')\n",
    "                edition = edition_element.text\n",
    "                break\n",
    "            \n",
    "#         if driver.find_element(By.CSS_SELECTOR, '#book-additional-specification > table > tbody > tr:nth-child(1) > td:nth-child(1)').text == 'Edition':\n",
    "#             edition_element = driver.find_element(By.CSS_SELECTOR, '#book-additional-specification > table > tbody > tr:nth-child(1) > td:nth-child(2)')\n",
    "#             edition = edition_element.text\n",
    "#         elif driver.find_element(By.CSS_SELECTOR, '#book-additional-specification > table > tbody > tr:nth-child(2) > td:nth-child(1)').text == 'Edition':\n",
    "#             edition_element = driver.find_element(By.CSS_SELECTOR, '#book-additional-specification > table > tbody > tr:nth-child(2) > td:nth-child(2)')\n",
    "#             edition = edition_element.text\n",
    "#         elif driver.find_element(By.CSS_SELECTOR, '#book-additional-specification > table > tbody > tr:nth-child(3) > td:nth-child(1)').text == 'Edition':\n",
    "#             edition_element = driver.find_element(By.CSS_SELECTOR, '#book-additional-specification > table > tbody > tr:nth-child(3) > td:nth-child(2)')\n",
    "#             edition = edition_element.text\n",
    "#         elif driver.find_element(By.CSS_SELECTOR, '#book-additional-specification > table > tbody > tr:nth-child(4) > td:nth-child(1)').text == 'Edition':\n",
    "#             edition_element = driver.find_element(By.CSS_SELECTOR, '#book-additional-specification > table > tbody > tr:nth-child(4) > td:nth-child(2)')\n",
    "#             edition = edition_element.text\n",
    "#         elif driver.find_element(By.CSS_SELECTOR, '#book-additional-specification > table > tbody > tr:nth-child(5) > td:nth-child(1)').text == 'Edition':\n",
    "#             edition_element = driver.find_element(By.CSS_SELECTOR, '#book-additional-specification > table > tbody > tr:nth-child(5) > td:nth-child(2)')\n",
    "#             edition = edition_element.text\n",
    "#         elif driver.find_element(By.CSS_SELECTOR, '#book-additional-specification > table > tbody > tr:nth-child(6) > td:nth-child(1)').text == 'Edition':\n",
    "#             edition_element = driver.find_element(By.CSS_SELECTOR, '#book-additional-specification > table > tbody > tr:nth-child(6) > td:nth-child(2)')\n",
    "#             edition = edition_element.text\n",
    "#         elif driver.find_element(By.CSS_SELECTOR, '#book-additional-specification > table > tbody > tr:nth-child(7) > td:nth-child(1)').text == 'Edition':\n",
    "#             edition_element = driver.find_element(By.CSS_SELECTOR, '#book-additional-specification > table > tbody > tr:nth-child(7) > td:nth-child(2)')\n",
    "#             edition = edition_element.text\n",
    "#         elif driver.find_element(By.CSS_SELECTOR, '#book-additional-specification > table > tbody > tr:nth-child(8) > td:nth-child(1)').text == 'Edition':\n",
    "#             edition_element = driver.find_element(By.CSS_SELECTOR, '#book-additional-specification > table > tbody > tr:nth-child(8) > td:nth-child(2)')\n",
    "#             edition = edition_element.text\n",
    "        return edition\n",
    "    except:\n",
    "        return 'N/A'"
   ]
  },
  {
   "cell_type": "code",
   "execution_count": 16,
   "id": "59c170a4",
   "metadata": {},
   "outputs": [],
   "source": [
    "def no_of_pages_scrap(driver):\n",
    "    try:\n",
    "        for i in range(1,9): #There are at most 8 specification for each book\n",
    "            if driver.find_element(By.CSS_SELECTOR, f'#book-additional-specification > table > tbody > tr:nth-child({i}) > td:nth-child(1)').text == 'Number of Pages':\n",
    "                no_of_pages_element = driver.find_element(By.CSS_SELECTOR, f'#book-additional-specification > table > tbody > tr:nth-child({i}) > td:nth-child(2)')\n",
    "                no_of_pages = no_of_pages_element.text\n",
    "                break\n",
    "                \n",
    "#         if driver.find_element(By.CSS_SELECTOR, '#book-additional-specification > table > tbody > tr:nth-child(1) > td:nth-child(1)').text == 'Number of Pages':\n",
    "#             no_of_pages_element = driver.find_element(By.CSS_SELECTOR, '#book-additional-specification > table > tbody > tr:nth-child(1) > td:nth-child(2)')\n",
    "#             no_of_pages = no_of_pages_element.text\n",
    "#         elif driver.find_element(By.CSS_SELECTOR, '#book-additional-specification > table > tbody > tr:nth-child(2) > td:nth-child(1)').text == 'Number of Pages':\n",
    "#             no_of_pages_element = driver.find_element(By.CSS_SELECTOR, '#book-additional-specification > table > tbody > tr:nth-child(2) > td:nth-child(2)')\n",
    "#             no_of_pages = no_of_pages_element.text\n",
    "#         elif driver.find_element(By.CSS_SELECTOR, '#book-additional-specification > table > tbody > tr:nth-child(3) > td:nth-child(1)').text == 'Number of Pages':\n",
    "#             no_of_pages_element = driver.find_element(By.CSS_SELECTOR, '#book-additional-specification > table > tbody > tr:nth-child(3) > td:nth-child(2)')\n",
    "#             no_of_pages = no_of_pages_element.text\n",
    "#         elif driver.find_element(By.CSS_SELECTOR, '#book-additional-specification > table > tbody > tr:nth-child(4) > td:nth-child(1)').text == 'Number of Pages':\n",
    "#             no_of_pages_element = driver.find_element(By.CSS_SELECTOR, '#book-additional-specification > table > tbody > tr:nth-child(4) > td:nth-child(2)')\n",
    "#             no_of_pages = no_of_pages_element.text\n",
    "#         elif driver.find_element(By.CSS_SELECTOR, '#book-additional-specification > table > tbody > tr:nth-child(5) > td:nth-child(1)').text == 'Number of Pages':\n",
    "#             no_of_pages_element = driver.find_element(By.CSS_SELECTOR, '#book-additional-specification > table > tbody > tr:nth-child(5) > td:nth-child(2)')\n",
    "#             no_of_pages = no_of_pages_element.text\n",
    "#         elif driver.find_element(By.CSS_SELECTOR, '#book-additional-specification > table > tbody > tr:nth-child(6) > td:nth-child(1)').text == 'Number of Pages':\n",
    "#             no_of_pages_element = driver.find_element(By.CSS_SELECTOR, '#book-additional-specification > table > tbody > tr:nth-child(6) > td:nth-child(2)')\n",
    "#             no_of_pages = no_of_pages_element.text\n",
    "#         elif driver.find_element(By.CSS_SELECTOR, '#book-additional-specification > table > tbody > tr:nth-child(7) > td:nth-child(1)').text == 'Number of Pages':\n",
    "#             no_of_pages_element = driver.find_element(By.CSS_SELECTOR, '#book-additional-specification > table > tbody > tr:nth-child(7) > td:nth-child(2)')\n",
    "#             no_of_pages = no_of_pages_element.text\n",
    "#         elif driver.find_element(By.CSS_SELECTOR, '#book-additional-specification > table > tbody > tr:nth-child(8) > td:nth-child(1)').text == 'Number of Pages':\n",
    "#             no_of_pages_element = driver.find_element(By.CSS_SELECTOR, '#book-additional-specification > table > tbody > tr:nth-child(8) > td:nth-child(2)')\n",
    "#             no_of_pages = no_of_pages_element.text\n",
    "        return no_of_pages\n",
    "    except:\n",
    "        return 'N/A'"
   ]
  },
  {
   "cell_type": "code",
   "execution_count": 17,
   "id": "d27e51aa",
   "metadata": {},
   "outputs": [],
   "source": [
    "def country_scrap(driver):\n",
    "    try:\n",
    "        for i in range(1,9): #There are at most 8 specification for each book\n",
    "            if driver.find_element(By.CSS_SELECTOR, f'#book-additional-specification > table > tbody > tr:nth-child({i}) > td:nth-child(1)').text == 'Country':\n",
    "                country_element = driver.find_element(By.CSS_SELECTOR, f'#book-additional-specification > table > tbody > tr:nth-child({i}) > td:nth-child(2)')\n",
    "                country = country_element.text\n",
    "                break\n",
    "#         if driver.find_element(By.CSS_SELECTOR, '#book-additional-specification > table > tbody > tr:nth-child(1) > td:nth-child(1)').text == 'Country':\n",
    "#             country_element = driver.find_element(By.CSS_SELECTOR, '#book-additional-specification > table > tbody > tr:nth-child(1) > td:nth-child(2)')\n",
    "#             country = country_element.text\n",
    "#         elif driver.find_element(By.CSS_SELECTOR, '#book-additional-specification > table > tbody > tr:nth-child(2) > td:nth-child(1)').text == 'Country':\n",
    "#             country_element = driver.find_element(By.CSS_SELECTOR, '#book-additional-specification > table > tbody > tr:nth-child(2) > td:nth-child(2)')\n",
    "#             country = country_element.text\n",
    "#         elif driver.find_element(By.CSS_SELECTOR, '#book-additional-specification > table > tbody > tr:nth-child(3) > td:nth-child(1)').text == 'Country':\n",
    "#             country_element = driver.find_element(By.CSS_SELECTOR, '#book-additional-specification > table > tbody > tr:nth-child(3) > td:nth-child(2)')\n",
    "#             country = country_element.text\n",
    "#         elif driver.find_element(By.CSS_SELECTOR, '#book-additional-specification > table > tbody > tr:nth-child(4) > td:nth-child(1)').text == 'Country':\n",
    "#             country_element = driver.find_element(By.CSS_SELECTOR, '#book-additional-specification > table > tbody > tr:nth-child(4) > td:nth-child(2)')\n",
    "#             country = country_element.text\n",
    "#         elif driver.find_element(By.CSS_SELECTOR, '#book-additional-specification > table > tbody > tr:nth-child(5) > td:nth-child(1)').text == 'Country':\n",
    "#             country_element = driver.find_element(By.CSS_SELECTOR, '#book-additional-specification > table > tbody > tr:nth-child(5) > td:nth-child(2)')\n",
    "#             country = country_element.text\n",
    "#         elif driver.find_element(By.CSS_SELECTOR, '#book-additional-specification > table > tbody > tr:nth-child(6) > td:nth-child(1)').text == 'Country':\n",
    "#             country_element = driver.find_element(By.CSS_SELECTOR, '#book-additional-specification > table > tbody > tr:nth-child(6) > td:nth-child(2)')\n",
    "#             country = country_element.text\n",
    "#         elif driver.find_element(By.CSS_SELECTOR, '#book-additional-specification > table > tbody > tr:nth-child(7) > td:nth-child(1)').text == 'Country':\n",
    "#             country_element = driver.find_element(By.CSS_SELECTOR, '#book-additional-specification > table > tbody > tr:nth-child(7) > td:nth-child(2)')\n",
    "#             country = country_element.text\n",
    "#         elif driver.find_element(By.CSS_SELECTOR, '#book-additional-specification > table > tbody > tr:nth-child(8) > td:nth-child(1)').text == 'Country':\n",
    "#             country_element = driver.find_element(By.CSS_SELECTOR, '#book-additional-specification > table > tbody > tr:nth-child(8) > td:nth-child(2)')\n",
    "#             country = country_element.text\n",
    "        return country\n",
    "    except:\n",
    "        return 'N/A'"
   ]
  },
  {
   "cell_type": "code",
   "execution_count": 18,
   "id": "45c072f6",
   "metadata": {},
   "outputs": [],
   "source": [
    "def language_scrap(driver):\n",
    "    try:\n",
    "        for i in range(1,9): #There are at most 8 specification for each book\n",
    "            if driver.find_element(By.CSS_SELECTOR, f'#book-additional-specification > table > tbody > tr:nth-child({i}) > td:nth-child(1)').text == 'Language':\n",
    "                language_element  = driver.find_element(By.CSS_SELECTOR, f'#book-additional-specification > table > tbody > tr:nth-child({i}) > td:nth-child(2)')\n",
    "                language = language_element.text\n",
    "                break\n",
    "                \n",
    "#         if driver.find_element(By.CSS_SELECTOR, '#book-additional-specification > table > tbody > tr:nth-child(1) > td:nth-child(1)').text == 'Language':\n",
    "#             language_element  = driver.find_element(By.CSS_SELECTOR, '#book-additional-specification > table > tbody > tr:nth-child(1) > td:nth-child(2)')\n",
    "#             language = language_element.text\n",
    "#         elif driver.find_element(By.CSS_SELECTOR, '#book-additional-specification > table > tbody > tr:nth-child(2) > td:nth-child(1)').text == 'Language':\n",
    "#             language_element  = driver.find_element(By.CSS_SELECTOR, '#book-additional-specification > table > tbody > tr:nth-child(2) > td:nth-child(2)')\n",
    "#             language = language_element.text\n",
    "#         elif driver.find_element(By.CSS_SELECTOR, '#book-additional-specification > table > tbody > tr:nth-child(3) > td:nth-child(1)').text == 'Language':\n",
    "#             language_element  = driver.find_element(By.CSS_SELECTOR, '#book-additional-specification > table > tbody > tr:nth-child(3) > td:nth-child(2)')\n",
    "#             language = language_element.text\n",
    "#         elif driver.find_element(By.CSS_SELECTOR, '#book-additional-specification > table > tbody > tr:nth-child(4) > td:nth-child(1)').text == 'Language':\n",
    "#             language_element  = driver.find_element(By.CSS_SELECTOR, '#book-additional-specification > table > tbody > tr:nth-child(4) > td:nth-child(2)')\n",
    "#             language = language_element.text\n",
    "#         elif driver.find_element(By.CSS_SELECTOR, '#book-additional-specification > table > tbody > tr:nth-child(5) > td:nth-child(1)').text == 'Language':\n",
    "#             language_element  = driver.find_element(By.CSS_SELECTOR, '#book-additional-specification > table > tbody > tr:nth-child(5) > td:nth-child(2)')\n",
    "#             language = language_element.text\n",
    "#         elif driver.find_element(By.CSS_SELECTOR, '#book-additional-specification > table > tbody > tr:nth-child(6) > td:nth-child(1)').text == 'Language':\n",
    "#             language_element  = driver.find_element(By.CSS_SELECTOR, '#book-additional-specification > table > tbody > tr:nth-child(6) > td:nth-child(2)')\n",
    "#             language = language_element.text\n",
    "#         elif driver.find_element(By.CSS_SELECTOR, '#book-additional-specification > table > tbody > tr:nth-child(7) > td:nth-child(1)').text == 'Language':\n",
    "#             language_element  = driver.find_element(By.CSS_SELECTOR, '#book-additional-specification > table > tbody > tr:nth-child(7) > td:nth-child(2)')\n",
    "#             language = language_element.text\n",
    "#         elif driver.find_element(By.CSS_SELECTOR, '#book-additional-specification > table > tbody > tr:nth-child(8) > td:nth-child(1)').text == 'Language':\n",
    "#             language_element  = driver.find_element(By.CSS_SELECTOR, '#book-additional-specification > table > tbody > tr:nth-child(8) > td:nth-child(2)')\n",
    "#             language = language_element.text\n",
    "        return language\n",
    "    except:\n",
    "        return 'N/A'"
   ]
  },
  {
   "cell_type": "code",
   "execution_count": null,
   "id": "a7c5f577",
   "metadata": {},
   "outputs": [],
   "source": []
  },
  {
   "cell_type": "code",
   "execution_count": null,
   "id": "4a78fbfd",
   "metadata": {},
   "outputs": [],
   "source": [
    "title_list = []\n",
    "authors_list = []\n",
    "category_list = []\n",
    "rating_list = []\n",
    "no_of_ratings_list = []\n",
    "no_of_reviews_list = []\n",
    "actual_price_list = []\n",
    "discount_price_list = []\n",
    "discount_amount_list = []\n",
    "discount_percentage_list = []\n",
    "stock_availability_list = []\n",
    "no_of_copies_available_list = []\n",
    "publisher_list = []\n",
    "ISBN_list = []\n",
    "edition_list = []\n",
    "number_of_pages_list = []\n",
    "country_list = []\n",
    "language_list = []\n",
    "\n",
    "for i in range(1, 51000): #There are 176,999 books available on rokomari.com as of 04/03/2024\n",
    "    driver.get(f'https://www.rokomari.com/book/{i}/')\n",
    "    \n",
    "    title = title_scrap(driver)\n",
    "    if title == 'N/A' or title == 'This site can’t be reached':\n",
    "        continue\n",
    "    authors = author_scrap(driver)\n",
    "    category = category_scrap(driver)\n",
    "    rating = rating_scrap(driver)\n",
    "    no_of_ratings, no_of_reviews = no_of_rating_and_review_scrap(driver)\n",
    "    actual_price = actual_price_scrap(driver)\n",
    "    discount_price = discount_price_scrap(driver)\n",
    "    discount_amount, discount_percentage = discount_amount_and_percentage_scrap(driver)\n",
    "    stock_availability, no_of_copies_available = stock_availability_and_copies_available_scrap(driver)\n",
    "    \n",
    "    try:\n",
    "        # Find the element with the CSS selector '#book-additional-specification-tab'\n",
    "        element = driver.find_element(By.CSS_SELECTOR, '#book-additional-specification-tab')\n",
    "        # Scroll the element into view using JavaScript\n",
    "        driver.execute_script(\"arguments[0].scrollIntoView(true);\", element)\n",
    "        # Click the element using JavaScript\n",
    "        driver.execute_script(\"arguments[0].click();\", element)\n",
    "        time.sleep(0.5)\n",
    "    except:\n",
    "        pass\n",
    "        # print(i, '--> No Book Found')\n",
    "    \n",
    "    publisher = publisher_scrap(driver)\n",
    "    ISBN = ISBN_scrap(driver)\n",
    "    edition = edition_scrap(driver)\n",
    "    number_of_pages = no_of_pages_scrap(driver)\n",
    "    country = country_scrap(driver)\n",
    "    language = language_scrap(driver)\n",
    "    \n",
    "    title_list.append(title)\n",
    "    authors_list.append(authors)\n",
    "    category_list.append(category)\n",
    "    rating_list.append(rating)\n",
    "    no_of_ratings_list.append(no_of_ratings)\n",
    "    no_of_reviews_list.append(no_of_reviews)\n",
    "    actual_price_list.append(actual_price)\n",
    "    discount_price_list.append(discount_price)\n",
    "    discount_amount_list.append(discount_amount)\n",
    "    discount_percentage_list.append(discount_percentage)\n",
    "    stock_availability_list.append(stock_availability)\n",
    "    no_of_copies_available_list.append(no_of_copies_available)\n",
    "    publisher_list.append(publisher)\n",
    "    ISBN_list.append(ISBN)\n",
    "    edition_list.append(edition)\n",
    "    number_of_pages_list.append(number_of_pages)\n",
    "    country_list.append(country)\n",
    "    language_list.append(language)\n",
    "    \n",
    "    \n",
    "df_lst = [title_list, authors_list, category_list, rating_list, no_of_ratings_list, no_of_reviews_list, actual_price_list,\n",
    "          discount_price_list, discount_amount_list, discount_percentage_list, stock_availability_list, no_of_copies_available_list,\n",
    "          publisher_list, ISBN_list, edition_list, number_of_pages_list, country_list, language_list]\n",
    "\n",
    "column_lst = ['Title', 'Authors', 'Category', 'Rating', 'No_of_Rating', 'No_of_Review', 'Actual_Price', 'Discount_Price', \n",
    "              'Discount_Amount', 'Discount_Percentage', 'Stock_Availability', 'No_of_Copies_Available', 'Publisher', 'ISBN_No',\n",
    "              'Edition', 'No_of_Pages', 'Country', 'Language']\n",
    "df = pd.DataFrame(df_lst).T\n",
    "df.columns = column_lst\n",
    "df.to_csv('rokomari_book_list_2024.csv', index=False)\n",
    "    "
   ]
  },
  {
   "cell_type": "code",
   "execution_count": 20,
   "id": "a6d0c119",
   "metadata": {},
   "outputs": [],
   "source": [
    "df_lst = [title_list, authors_list, category_list, rating_list, no_of_ratings_list, no_of_reviews_list, actual_price_list,\n",
    "          discount_price_list, discount_amount_list, discount_percentage_list, stock_availability_list, no_of_copies_available_list,\n",
    "          publisher_list, ISBN_list, edition_list, number_of_pages_list, country_list, language_list]\n",
    "\n",
    "column_lst = ['Title', 'Authors', 'Category', 'Rating', 'No_of_Rating', 'No_of_Review', 'Actual_Price', 'Discount_Price', \n",
    "              'Discount_Amount', 'Discount_Percentage', 'Stock_Availability', 'No_of_Copies_Available', 'Publisher', 'ISBN_No',\n",
    "              'Edition', 'No_of_Pages', 'Country', 'Language']\n",
    "df = pd.DataFrame(df_lst).T\n",
    "df.columns = column_lst\n",
    "df.to_csv('rokomari_book_list_2024.csv', index=False)"
   ]
  },
  {
   "cell_type": "code",
   "execution_count": 25,
   "id": "713d3dba",
   "metadata": {
    "scrolled": true
   },
   "outputs": [
    {
     "data": {
      "text/html": [
       "<div>\n",
       "<style scoped>\n",
       "    .dataframe tbody tr th:only-of-type {\n",
       "        vertical-align: middle;\n",
       "    }\n",
       "\n",
       "    .dataframe tbody tr th {\n",
       "        vertical-align: top;\n",
       "    }\n",
       "\n",
       "    .dataframe thead th {\n",
       "        text-align: right;\n",
       "    }\n",
       "</style>\n",
       "<table border=\"1\" class=\"dataframe\">\n",
       "  <thead>\n",
       "    <tr style=\"text-align: right;\">\n",
       "      <th></th>\n",
       "      <th>Title</th>\n",
       "      <th>Authors</th>\n",
       "      <th>Category</th>\n",
       "      <th>Rating</th>\n",
       "      <th>No_of_Rating</th>\n",
       "      <th>No_of_Review</th>\n",
       "      <th>Actual_Price</th>\n",
       "      <th>Discount_Price</th>\n",
       "      <th>Discount_Amount</th>\n",
       "      <th>Discount_Percentage</th>\n",
       "      <th>Stock_Availability</th>\n",
       "      <th>No_of_Copies_Available</th>\n",
       "      <th>Publisher</th>\n",
       "      <th>ISBN_No</th>\n",
       "      <th>Edition</th>\n",
       "      <th>No_of_Pages</th>\n",
       "      <th>Country</th>\n",
       "      <th>Language</th>\n",
       "    </tr>\n",
       "  </thead>\n",
       "  <tbody>\n",
       "    <tr>\n",
       "      <th>0</th>\n",
       "      <td>সুশাসনের সন্ধানে</td>\n",
       "      <td>আতিউর রহমান</td>\n",
       "      <td>প্রসঙ্গ বাংলাদেশ</td>\n",
       "      <td>5.00</td>\n",
       "      <td>5.0</td>\n",
       "      <td>2.0</td>\n",
       "      <td>325</td>\n",
       "      <td>280</td>\n",
       "      <td>45</td>\n",
       "      <td>14%</td>\n",
       "      <td>NaN</td>\n",
       "      <td>NaN</td>\n",
       "      <td>অন্যপ্রকাশ</td>\n",
       "      <td>9848682368</td>\n",
       "      <td>1st Published, 2003</td>\n",
       "      <td>216.0</td>\n",
       "      <td>বাংলাদেশ</td>\n",
       "      <td>বাংলা</td>\n",
       "    </tr>\n",
       "    <tr>\n",
       "      <th>1</th>\n",
       "      <td>শেষের কবিতা</td>\n",
       "      <td>রবীন্দ্রনাথ ঠাকুর</td>\n",
       "      <td>চিরায়ত উপন্যাস</td>\n",
       "      <td>4.23</td>\n",
       "      <td>83.0</td>\n",
       "      <td>46.0</td>\n",
       "      <td>200</td>\n",
       "      <td>150</td>\n",
       "      <td>50</td>\n",
       "      <td>25%</td>\n",
       "      <td>NaN</td>\n",
       "      <td>NaN</td>\n",
       "      <td>বিশ্বসাহিত্য ভবন</td>\n",
       "      <td>98483091351</td>\n",
       "      <td>1st Published, 2014</td>\n",
       "      <td>78.0</td>\n",
       "      <td>বাংলাদেশ</td>\n",
       "      <td>বাংলা</td>\n",
       "    </tr>\n",
       "    <tr>\n",
       "      <th>2</th>\n",
       "      <td>নৌকাডুবি</td>\n",
       "      <td>রবীন্দ্রনাথ ঠাকুর</td>\n",
       "      <td>চিরায়ত উপন্যাস</td>\n",
       "      <td>4.40</td>\n",
       "      <td>20.0</td>\n",
       "      <td>10.0</td>\n",
       "      <td>320</td>\n",
       "      <td>240</td>\n",
       "      <td>80</td>\n",
       "      <td>25%</td>\n",
       "      <td>In Stock</td>\n",
       "      <td>2</td>\n",
       "      <td>NaN</td>\n",
       "      <td>NaN</td>\n",
       "      <td>1st Published, 2019</td>\n",
       "      <td>156.0</td>\n",
       "      <td>বাংলাদেশ</td>\n",
       "      <td>বাংলা</td>\n",
       "    </tr>\n",
       "    <tr>\n",
       "      <th>3</th>\n",
       "      <td>গোরা</td>\n",
       "      <td>রবীন্দ্রনাথ ঠাকুর</td>\n",
       "      <td>চিরায়ত উপন্যাস</td>\n",
       "      <td>4.75</td>\n",
       "      <td>8.0</td>\n",
       "      <td>3.0</td>\n",
       "      <td>300</td>\n",
       "      <td>225</td>\n",
       "      <td>75</td>\n",
       "      <td>25%</td>\n",
       "      <td>In Stock</td>\n",
       "      <td>1</td>\n",
       "      <td>বিশ্বসাহিত্য ভবন</td>\n",
       "      <td>NaN</td>\n",
       "      <td>1st Published, 2018</td>\n",
       "      <td>239.0</td>\n",
       "      <td>বাংলাদেশ</td>\n",
       "      <td>বাংলা</td>\n",
       "    </tr>\n",
       "    <tr>\n",
       "      <th>4</th>\n",
       "      <td>চোখের বালি</td>\n",
       "      <td>রবীন্দ্রনাথ ঠাকুর</td>\n",
       "      <td>চিরায়ত উপন্যাস</td>\n",
       "      <td>4.92</td>\n",
       "      <td>13.0</td>\n",
       "      <td>8.0</td>\n",
       "      <td>300</td>\n",
       "      <td>225</td>\n",
       "      <td>75</td>\n",
       "      <td>25%</td>\n",
       "      <td>In Stock</td>\n",
       "      <td>1</td>\n",
       "      <td>NaN</td>\n",
       "      <td>NaN</td>\n",
       "      <td>NaN</td>\n",
       "      <td>NaN</td>\n",
       "      <td>NaN</td>\n",
       "      <td>NaN</td>\n",
       "    </tr>\n",
       "    <tr>\n",
       "      <th>...</th>\n",
       "      <td>...</td>\n",
       "      <td>...</td>\n",
       "      <td>...</td>\n",
       "      <td>...</td>\n",
       "      <td>...</td>\n",
       "      <td>...</td>\n",
       "      <td>...</td>\n",
       "      <td>...</td>\n",
       "      <td>...</td>\n",
       "      <td>...</td>\n",
       "      <td>...</td>\n",
       "      <td>...</td>\n",
       "      <td>...</td>\n",
       "      <td>...</td>\n",
       "      <td>...</td>\n",
       "      <td>...</td>\n",
       "      <td>...</td>\n",
       "      <td>...</td>\n",
       "    </tr>\n",
       "    <tr>\n",
       "      <th>4491</th>\n",
       "      <td>রচনাসমগ্র-২</td>\n",
       "      <td>শেখ হাসিনা</td>\n",
       "      <td>রচনা সংকলন ও সমগ্র</td>\n",
       "      <td>2.80</td>\n",
       "      <td>5.0</td>\n",
       "      <td>1.0</td>\n",
       "      <td>700</td>\n",
       "      <td>525</td>\n",
       "      <td>175</td>\n",
       "      <td>25%</td>\n",
       "      <td>NaN</td>\n",
       "      <td>NaN</td>\n",
       "      <td>মাওলা ব্রাদার্স</td>\n",
       "      <td>9847015601478</td>\n",
       "      <td>6th Printed, 2018</td>\n",
       "      <td>388.0</td>\n",
       "      <td>বাংলাদেশ</td>\n",
       "      <td>বাংলা</td>\n",
       "    </tr>\n",
       "    <tr>\n",
       "      <th>4492</th>\n",
       "      <td>মোনাজাতউদ্দিন রচনাসমগ্র-১</td>\n",
       "      <td>মোনাজাতউদ্দিন ,  ড. আতিউর রহমান (সম্পাদক)</td>\n",
       "      <td>রচনা সংকলন ও সমগ্র</td>\n",
       "      <td>5.00</td>\n",
       "      <td>1.0</td>\n",
       "      <td>1.0</td>\n",
       "      <td>600</td>\n",
       "      <td>533</td>\n",
       "      <td>67</td>\n",
       "      <td>11%</td>\n",
       "      <td>NaN</td>\n",
       "      <td>NaN</td>\n",
       "      <td>মাওলা ব্রাদার্স</td>\n",
       "      <td>9847015601522</td>\n",
       "      <td>2nd Printed, 2014</td>\n",
       "      <td>496.0</td>\n",
       "      <td>বাংলাদেশ</td>\n",
       "      <td>NaN</td>\n",
       "    </tr>\n",
       "    <tr>\n",
       "      <th>4493</th>\n",
       "      <td>মোনাজাতউদ্দিন রচনাসমগ্র-২</td>\n",
       "      <td>মোনাজাতউদ্দিন ,  ড. আতিউর রহমান (সম্পাদক)</td>\n",
       "      <td>রচনা সংকলন ও সমগ্র</td>\n",
       "      <td>NaN</td>\n",
       "      <td>NaN</td>\n",
       "      <td>NaN</td>\n",
       "      <td>600</td>\n",
       "      <td>450</td>\n",
       "      <td>150</td>\n",
       "      <td>25%</td>\n",
       "      <td>In Stock</td>\n",
       "      <td>1</td>\n",
       "      <td>মাওলা ব্রাদার্স</td>\n",
       "      <td>9847015601720</td>\n",
       "      <td>1st Published, 2010</td>\n",
       "      <td>608.0</td>\n",
       "      <td>বাংলাদেশ</td>\n",
       "      <td>NaN</td>\n",
       "    </tr>\n",
       "    <tr>\n",
       "      <th>4494</th>\n",
       "      <td>বাংলার লোক-সংস্কৃতি</td>\n",
       "      <td>ওয়াকিল আহমদ</td>\n",
       "      <td>জীবন, জীবিকা ও সংস্কৃতি</td>\n",
       "      <td>NaN</td>\n",
       "      <td>NaN</td>\n",
       "      <td>NaN</td>\n",
       "      <td>400</td>\n",
       "      <td>358</td>\n",
       "      <td>42</td>\n",
       "      <td>10%</td>\n",
       "      <td>In Stock</td>\n",
       "      <td>3</td>\n",
       "      <td>গতিধারা</td>\n",
       "      <td>9789848946114</td>\n",
       "      <td>5th Edition, 2012</td>\n",
       "      <td>366.0</td>\n",
       "      <td>বাংলাদেশ</td>\n",
       "      <td>বাংলা</td>\n",
       "    </tr>\n",
       "    <tr>\n",
       "      <th>4495</th>\n",
       "      <td>বাংলা লোকসংগীতের ধারা-১ম খণ্ড</td>\n",
       "      <td>ওয়াকিল আহমদ</td>\n",
       "      <td>লোক সংগীত</td>\n",
       "      <td>NaN</td>\n",
       "      <td>NaN</td>\n",
       "      <td>NaN</td>\n",
       "      <td>500</td>\n",
       "      <td>375</td>\n",
       "      <td>125</td>\n",
       "      <td>25%</td>\n",
       "      <td>NaN</td>\n",
       "      <td>NaN</td>\n",
       "      <td>বাতায়ন প্রকাশন</td>\n",
       "      <td>9789844740068</td>\n",
       "      <td>2nd Published, 2015</td>\n",
       "      <td>592.0</td>\n",
       "      <td>বাংলাদেশ</td>\n",
       "      <td>বাংলা</td>\n",
       "    </tr>\n",
       "  </tbody>\n",
       "</table>\n",
       "<p>4496 rows × 18 columns</p>\n",
       "</div>"
      ],
      "text/plain": [
       "                              Title  \\\n",
       "0                  সুশাসনের সন্ধানে   \n",
       "1                       শেষের কবিতা   \n",
       "2                          নৌকাডুবি   \n",
       "3                              গোরা   \n",
       "4                        চোখের বালি   \n",
       "...                             ...   \n",
       "4491                    রচনাসমগ্র-২   \n",
       "4492      মোনাজাতউদ্দিন রচনাসমগ্র-১   \n",
       "4493      মোনাজাতউদ্দিন রচনাসমগ্র-২   \n",
       "4494            বাংলার লোক-সংস্কৃতি   \n",
       "4495  বাংলা লোকসংগীতের ধারা-১ম খণ্ড   \n",
       "\n",
       "                                        Authors                 Category  \\\n",
       "0                                   আতিউর রহমান         প্রসঙ্গ বাংলাদেশ   \n",
       "1                             রবীন্দ্রনাথ ঠাকুর           চিরায়ত উপন্যাস   \n",
       "2                             রবীন্দ্রনাথ ঠাকুর           চিরায়ত উপন্যাস   \n",
       "3                             রবীন্দ্রনাথ ঠাকুর           চিরায়ত উপন্যাস   \n",
       "4                             রবীন্দ্রনাথ ঠাকুর           চিরায়ত উপন্যাস   \n",
       "...                                         ...                      ...   \n",
       "4491                                 শেখ হাসিনা       রচনা সংকলন ও সমগ্র   \n",
       "4492  মোনাজাতউদ্দিন ,  ড. আতিউর রহমান (সম্পাদক)       রচনা সংকলন ও সমগ্র   \n",
       "4493  মোনাজাতউদ্দিন ,  ড. আতিউর রহমান (সম্পাদক)       রচনা সংকলন ও সমগ্র   \n",
       "4494                                ওয়াকিল আহমদ  জীবন, জীবিকা ও সংস্কৃতি   \n",
       "4495                                ওয়াকিল আহমদ                লোক সংগীত   \n",
       "\n",
       "      Rating  No_of_Rating  No_of_Review Actual_Price Discount_Price  \\\n",
       "0       5.00           5.0           2.0          325            280   \n",
       "1       4.23          83.0          46.0          200            150   \n",
       "2       4.40          20.0          10.0          320            240   \n",
       "3       4.75           8.0           3.0          300            225   \n",
       "4       4.92          13.0           8.0          300            225   \n",
       "...      ...           ...           ...          ...            ...   \n",
       "4491    2.80           5.0           1.0          700            525   \n",
       "4492    5.00           1.0           1.0          600            533   \n",
       "4493     NaN           NaN           NaN          600            450   \n",
       "4494     NaN           NaN           NaN          400            358   \n",
       "4495     NaN           NaN           NaN          500            375   \n",
       "\n",
       "     Discount_Amount Discount_Percentage Stock_Availability  \\\n",
       "0                 45                 14%                NaN   \n",
       "1                 50                 25%                NaN   \n",
       "2                 80                 25%           In Stock   \n",
       "3                 75                 25%           In Stock   \n",
       "4                 75                 25%           In Stock   \n",
       "...              ...                 ...                ...   \n",
       "4491             175                 25%                NaN   \n",
       "4492              67                 11%                NaN   \n",
       "4493             150                 25%           In Stock   \n",
       "4494              42                 10%           In Stock   \n",
       "4495             125                 25%                NaN   \n",
       "\n",
       "     No_of_Copies_Available         Publisher        ISBN_No  \\\n",
       "0                       NaN        অন্যপ্রকাশ     9848682368   \n",
       "1                       NaN  বিশ্বসাহিত্য ভবন    98483091351   \n",
       "2                         2               NaN            NaN   \n",
       "3                         1  বিশ্বসাহিত্য ভবন            NaN   \n",
       "4                         1               NaN            NaN   \n",
       "...                     ...               ...            ...   \n",
       "4491                    NaN   মাওলা ব্রাদার্স  9847015601478   \n",
       "4492                    NaN   মাওলা ব্রাদার্স  9847015601522   \n",
       "4493                      1   মাওলা ব্রাদার্স  9847015601720   \n",
       "4494                      3           গতিধারা  9789848946114   \n",
       "4495                    NaN   বাতায়ন প্রকাশন  9789844740068   \n",
       "\n",
       "                  Edition  No_of_Pages   Country Language  \n",
       "0     1st Published, 2003        216.0  বাংলাদেশ    বাংলা  \n",
       "1     1st Published, 2014         78.0  বাংলাদেশ    বাংলা  \n",
       "2     1st Published, 2019        156.0  বাংলাদেশ    বাংলা  \n",
       "3     1st Published, 2018        239.0  বাংলাদেশ    বাংলা  \n",
       "4                     NaN          NaN       NaN      NaN  \n",
       "...                   ...          ...       ...      ...  \n",
       "4491    6th Printed, 2018        388.0  বাংলাদেশ    বাংলা  \n",
       "4492    2nd Printed, 2014        496.0  বাংলাদেশ      NaN  \n",
       "4493  1st Published, 2010        608.0  বাংলাদেশ      NaN  \n",
       "4494    5th Edition, 2012        366.0  বাংলাদেশ    বাংলা  \n",
       "4495  2nd Published, 2015        592.0  বাংলাদেশ    বাংলা  \n",
       "\n",
       "[4496 rows x 18 columns]"
      ]
     },
     "execution_count": 25,
     "metadata": {},
     "output_type": "execute_result"
    }
   ],
   "source": [
    "import pandas as pd\n",
    "dfa = pd.read_csv('rokomari_book_list_2024.csv')\n",
    "dfa"
   ]
  },
  {
   "cell_type": "code",
   "execution_count": null,
   "id": "5e12a0a8",
   "metadata": {},
   "outputs": [],
   "source": [
    "df['Authors'].value_counts()[:30]"
   ]
  },
  {
   "cell_type": "code",
   "execution_count": null,
   "id": "feca7cf6",
   "metadata": {},
   "outputs": [],
   "source": []
  }
 ],
 "metadata": {
  "kernelspec": {
   "display_name": "Python 3 (ipykernel)",
   "language": "python",
   "name": "python3"
  },
  "language_info": {
   "codemirror_mode": {
    "name": "ipython",
    "version": 3
   },
   "file_extension": ".py",
   "mimetype": "text/x-python",
   "name": "python",
   "nbconvert_exporter": "python",
   "pygments_lexer": "ipython3",
   "version": "3.9.12"
  }
 },
 "nbformat": 4,
 "nbformat_minor": 5
}

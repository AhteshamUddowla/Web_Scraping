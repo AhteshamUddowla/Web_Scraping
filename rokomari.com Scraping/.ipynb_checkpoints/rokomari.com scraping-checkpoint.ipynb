{
 "cells": [
  {
   "cell_type": "code",
   "execution_count": 1,
   "id": "d41d7885",
   "metadata": {},
   "outputs": [],
   "source": [
    "from selenium import webdriver\n",
    "from selenium.webdriver.common.keys import Keys\n",
    "from selenium.webdriver.common.by import By\n",
    "import pandas as pd\n",
    "import time"
   ]
  },
  {
   "cell_type": "code",
   "execution_count": null,
   "id": "068c324d",
   "metadata": {},
   "outputs": [],
   "source": [
    "driver = webdriver.Chrome('../chromedriver.exe')"
   ]
  },
  {
   "cell_type": "markdown",
   "id": "72fded36",
   "metadata": {},
   "source": [
    "## Test Elements"
   ]
  },
  {
   "cell_type": "code",
   "execution_count": 362,
   "id": "ec77b367",
   "metadata": {},
   "outputs": [],
   "source": [
    "driver.get('https://www.rokomari.com/book/968/')"
   ]
  },
  {
   "cell_type": "markdown",
   "id": "22f04f78",
   "metadata": {},
   "source": [
    "### Title"
   ]
  },
  {
   "cell_type": "code",
   "execution_count": 69,
   "id": "0d6019f0",
   "metadata": {},
   "outputs": [],
   "source": [
    "title = driver.find_elements(By.TAG_NAME, 'h1')"
   ]
  },
  {
   "cell_type": "code",
   "execution_count": 70,
   "id": "61a5899f",
   "metadata": {},
   "outputs": [
    {
     "data": {
      "text/plain": [
       "[<selenium.webdriver.remote.webelement.WebElement (session=\"8bfa336061fb15c2a393204902df1e77\", element=\"20413A90D2DE5EC08D8D067574DBC2EF_element_977\")>]"
      ]
     },
     "execution_count": 70,
     "metadata": {},
     "output_type": "execute_result"
    }
   ],
   "source": [
    "title"
   ]
  },
  {
   "cell_type": "code",
   "execution_count": 71,
   "id": "993044ca",
   "metadata": {},
   "outputs": [
    {
     "data": {
      "text/plain": [
       "'জোছনা ও জননীর গল্প (হার্ডকভার)'"
      ]
     },
     "execution_count": 71,
     "metadata": {},
     "output_type": "execute_result"
    }
   ],
   "source": [
    "title[0].text"
   ]
  },
  {
   "cell_type": "code",
   "execution_count": 72,
   "id": "291135cb",
   "metadata": {},
   "outputs": [
    {
     "data": {
      "text/plain": [
       "'জোছনা ও জননীর গল্প'"
      ]
     },
     "execution_count": 72,
     "metadata": {},
     "output_type": "execute_result"
    }
   ],
   "source": [
    "title[0].text.rstrip(' (হার্ডকভার)')"
   ]
  },
  {
   "cell_type": "markdown",
   "id": "6a436e1f",
   "metadata": {},
   "source": [
    "### Author(s)"
   ]
  },
  {
   "cell_type": "code",
   "execution_count": 73,
   "id": "f69865f1",
   "metadata": {},
   "outputs": [],
   "source": [
    "authors = driver.find_elements(By.CSS_SELECTOR, '#details-page > section.details-book-section.d-flex.align-items-base > div.details-book-main-info-wrapper > div > div.col.details-book-main-info.align-self-center > div.details-book-main-info__content > p.details-book-info__content-author')"
   ]
  },
  {
   "cell_type": "code",
   "execution_count": 74,
   "id": "6275e380",
   "metadata": {},
   "outputs": [
    {
     "data": {
      "text/plain": [
       "[<selenium.webdriver.remote.webelement.WebElement (session=\"8bfa336061fb15c2a393204902df1e77\", element=\"20413A90D2DE5EC08D8D067574DBC2EF_element_953\")>]"
      ]
     },
     "execution_count": 74,
     "metadata": {},
     "output_type": "execute_result"
    }
   ],
   "source": [
    "authors"
   ]
  },
  {
   "cell_type": "code",
   "execution_count": 75,
   "id": "be58d9d8",
   "metadata": {},
   "outputs": [
    {
     "data": {
      "text/plain": [
       "'by হুমায়ূন আহমেদ'"
      ]
     },
     "execution_count": 75,
     "metadata": {},
     "output_type": "execute_result"
    }
   ],
   "source": [
    "authors[0].text"
   ]
  },
  {
   "cell_type": "code",
   "execution_count": 76,
   "id": "607f1e72",
   "metadata": {},
   "outputs": [
    {
     "data": {
      "text/plain": [
       "'হুমায়ূন আহমেদ'"
      ]
     },
     "execution_count": 76,
     "metadata": {},
     "output_type": "execute_result"
    }
   ],
   "source": [
    "authors[0].text.lstrip('by ')"
   ]
  },
  {
   "cell_type": "markdown",
   "id": "3eedaad3",
   "metadata": {},
   "source": [
    "### Category"
   ]
  },
  {
   "cell_type": "code",
   "execution_count": 77,
   "id": "6d95b419",
   "metadata": {},
   "outputs": [],
   "source": [
    "category = driver.find_elements(By.CSS_SELECTOR, '#details-page > section.details-book-section.d-flex.align-items-base > div.details-book-main-info-wrapper > div > div.col.details-book-main-info.align-self-center > div.details-book-main-info__content > div.details-book-info__content-category.d-flex.align-items-center')"
   ]
  },
  {
   "cell_type": "code",
   "execution_count": 78,
   "id": "ca8a7bdc",
   "metadata": {},
   "outputs": [
    {
     "data": {
      "text/plain": [
       "[<selenium.webdriver.remote.webelement.WebElement (session=\"8bfa336061fb15c2a393204902df1e77\", element=\"20413A90D2DE5EC08D8D067574DBC2EF_element_954\")>]"
      ]
     },
     "execution_count": 78,
     "metadata": {},
     "output_type": "execute_result"
    }
   ],
   "source": [
    "category"
   ]
  },
  {
   "cell_type": "code",
   "execution_count": 79,
   "id": "df74aa42",
   "metadata": {},
   "outputs": [
    {
     "data": {
      "text/plain": [
       "'Category:\\n#2 Best Seller in\\nরাজনৈতিক ও মুক্তিযুদ্ধভিত্তিক উপন্যাস'"
      ]
     },
     "execution_count": 79,
     "metadata": {},
     "output_type": "execute_result"
    }
   ],
   "source": [
    "category[0].text"
   ]
  },
  {
   "cell_type": "code",
   "execution_count": 80,
   "id": "6441c3e3",
   "metadata": {},
   "outputs": [
    {
     "data": {
      "text/plain": [
       "'রাজনৈতিক ও মুক্তিযুদ্ধভিত্তিক উপন্যাস'"
      ]
     },
     "execution_count": 80,
     "metadata": {},
     "output_type": "execute_result"
    }
   ],
   "source": [
    "category[0].text.split('\\n')[-1]"
   ]
  },
  {
   "cell_type": "markdown",
   "id": "2748f877",
   "metadata": {},
   "source": [
    "### Rating"
   ]
  },
  {
   "cell_type": "code",
   "execution_count": 81,
   "id": "f8a4ba38",
   "metadata": {},
   "outputs": [],
   "source": [
    "rating = driver.find_elements(By.CSS_SELECTOR, '#summary > div.review-wrapper > div.d-flex.align-items-start.justify-content-start.mt-2 > div > div.review-wrapper__rating-summary > h3')"
   ]
  },
  {
   "cell_type": "code",
   "execution_count": 82,
   "id": "273796c9",
   "metadata": {},
   "outputs": [
    {
     "data": {
      "text/plain": [
       "[<selenium.webdriver.remote.webelement.WebElement (session=\"8bfa336061fb15c2a393204902df1e77\", element=\"20413A90D2DE5EC08D8D067574DBC2EF_element_1062\")>]"
      ]
     },
     "execution_count": 82,
     "metadata": {},
     "output_type": "execute_result"
    }
   ],
   "source": [
    "rating"
   ]
  },
  {
   "cell_type": "code",
   "execution_count": 83,
   "id": "88200839",
   "metadata": {},
   "outputs": [
    {
     "data": {
      "text/plain": [
       "'4.62'"
      ]
     },
     "execution_count": 83,
     "metadata": {},
     "output_type": "execute_result"
    }
   ],
   "source": [
    "rating[0].text"
   ]
  },
  {
   "cell_type": "markdown",
   "id": "acd4df69",
   "metadata": {},
   "source": [
    "### Number of Rating and Reviews"
   ]
  },
  {
   "cell_type": "code",
   "execution_count": 89,
   "id": "e7627cba",
   "metadata": {},
   "outputs": [],
   "source": [
    "no_of_ratings_and_reviews = driver.find_elements(By.CSS_SELECTOR, '#js--rating-review-count-summary')"
   ]
  },
  {
   "cell_type": "code",
   "execution_count": 90,
   "id": "8f92d883",
   "metadata": {},
   "outputs": [
    {
     "data": {
      "text/plain": [
       "[<selenium.webdriver.remote.webelement.WebElement (session=\"8bfa336061fb15c2a393204902df1e77\", element=\"20413A90D2DE5EC08D8D067574DBC2EF_element_1065\")>]"
      ]
     },
     "execution_count": 90,
     "metadata": {},
     "output_type": "execute_result"
    }
   ],
   "source": [
    "no_of_ratings_and_reviews"
   ]
  },
  {
   "cell_type": "code",
   "execution_count": 91,
   "id": "92f0dba6",
   "metadata": {},
   "outputs": [
    {
     "data": {
      "text/plain": [
       "'306 Ratings and 120 Reviews'"
      ]
     },
     "execution_count": 91,
     "metadata": {},
     "output_type": "execute_result"
    }
   ],
   "source": [
    "no_of_ratings_and_reviews[0].text"
   ]
  },
  {
   "cell_type": "code",
   "execution_count": 92,
   "id": "9c33a4d5",
   "metadata": {},
   "outputs": [
    {
     "data": {
      "text/plain": [
       "'306'"
      ]
     },
     "execution_count": 92,
     "metadata": {},
     "output_type": "execute_result"
    }
   ],
   "source": [
    "no_of_ratings = no_of_ratings_and_reviews[0].text.split()[0]\n",
    "no_of_ratings"
   ]
  },
  {
   "cell_type": "code",
   "execution_count": 93,
   "id": "a05d2f2f",
   "metadata": {},
   "outputs": [
    {
     "data": {
      "text/plain": [
       "'120'"
      ]
     },
     "execution_count": 93,
     "metadata": {},
     "output_type": "execute_result"
    }
   ],
   "source": [
    "no_of_reviews = no_of_ratings_and_reviews[0].text.split()[3]\n",
    "no_of_reviews"
   ]
  },
  {
   "cell_type": "markdown",
   "id": "4209e3bb",
   "metadata": {},
   "source": [
    "### Original Price"
   ]
  },
  {
   "cell_type": "code",
   "execution_count": 94,
   "id": "f722ebfe",
   "metadata": {},
   "outputs": [],
   "source": [
    "original_price = driver.find_element(By.CSS_SELECTOR, '#details-page > section.details-book-section.d-flex.align-items-base > div.details-book-main-info-wrapper > div > div.col.details-book-main-info.align-self-center > div.details-book-main-info__content > div.details-book-info__content-book-price > strike')"
   ]
  },
  {
   "cell_type": "code",
   "execution_count": 95,
   "id": "cfec7ceb",
   "metadata": {},
   "outputs": [
    {
     "data": {
      "text/plain": [
       "<selenium.webdriver.remote.webelement.WebElement (session=\"8bfa336061fb15c2a393204902df1e77\", element=\"20413A90D2DE5EC08D8D067574DBC2EF_element_1078\")>"
      ]
     },
     "execution_count": 95,
     "metadata": {},
     "output_type": "execute_result"
    }
   ],
   "source": [
    "original_price"
   ]
  },
  {
   "cell_type": "code",
   "execution_count": 96,
   "id": "fb7931db",
   "metadata": {},
   "outputs": [
    {
     "data": {
      "text/plain": [
       "'TK. 800'"
      ]
     },
     "execution_count": 96,
     "metadata": {},
     "output_type": "execute_result"
    }
   ],
   "source": [
    "original_price.text"
   ]
  },
  {
   "cell_type": "code",
   "execution_count": 97,
   "id": "2c8ae2d6",
   "metadata": {},
   "outputs": [
    {
     "data": {
      "text/plain": [
       "'800'"
      ]
     },
     "execution_count": 97,
     "metadata": {},
     "output_type": "execute_result"
    }
   ],
   "source": [
    "original_price.text.split()[1]"
   ]
  },
  {
   "cell_type": "markdown",
   "id": "d97e08ca",
   "metadata": {},
   "source": [
    "### Sell Price"
   ]
  },
  {
   "cell_type": "code",
   "execution_count": 98,
   "id": "2d995cef",
   "metadata": {},
   "outputs": [],
   "source": [
    "sell_price = driver.find_element(By.CSS_SELECTOR, '#details-page > section.details-book-section.d-flex.align-items-base > div.details-book-main-info-wrapper > div > div.col.details-book-main-info.align-self-center > div.details-book-main-info__content > div.details-book-info__content-book-price > span.sell-price')"
   ]
  },
  {
   "cell_type": "code",
   "execution_count": 99,
   "id": "73eb300a",
   "metadata": {},
   "outputs": [
    {
     "data": {
      "text/plain": [
       "<selenium.webdriver.remote.webelement.WebElement (session=\"8bfa336061fb15c2a393204902df1e77\", element=\"20413A90D2DE5EC08D8D067574DBC2EF_element_1080\")>"
      ]
     },
     "execution_count": 99,
     "metadata": {},
     "output_type": "execute_result"
    }
   ],
   "source": [
    "sell_price"
   ]
  },
  {
   "cell_type": "code",
   "execution_count": 100,
   "id": "b41d2172",
   "metadata": {},
   "outputs": [
    {
     "data": {
      "text/plain": [
       "'TK. 600'"
      ]
     },
     "execution_count": 100,
     "metadata": {},
     "output_type": "execute_result"
    }
   ],
   "source": [
    "sell_price.text"
   ]
  },
  {
   "cell_type": "code",
   "execution_count": 101,
   "id": "607546cc",
   "metadata": {},
   "outputs": [
    {
     "data": {
      "text/plain": [
       "'600'"
      ]
     },
     "execution_count": 101,
     "metadata": {},
     "output_type": "execute_result"
    }
   ],
   "source": [
    "sell_price.text.split()[1]"
   ]
  },
  {
   "cell_type": "markdown",
   "id": "0e3f710e",
   "metadata": {},
   "source": [
    "### Discount Amount and Percentage"
   ]
  },
  {
   "cell_type": "code",
   "execution_count": 102,
   "id": "6cf89b3d",
   "metadata": {},
   "outputs": [
    {
     "data": {
      "text/plain": [
       "<selenium.webdriver.remote.webelement.WebElement (session=\"8bfa336061fb15c2a393204902df1e77\", element=\"20413A90D2DE5EC08D8D067574DBC2EF_element_995\")>"
      ]
     },
     "execution_count": 102,
     "metadata": {},
     "output_type": "execute_result"
    }
   ],
   "source": [
    "discount_amount_percentage = driver.find_element(By.CSS_SELECTOR, '#details-page > section.details-book-section.d-flex.align-items-base > div.details-book-main-info-wrapper > div > div.col.details-book-main-info.align-self-center > div.details-book-main-info__content > div.details-book-info__content-book-price > span.discount > span')\n",
    "discount_amount_percentage"
   ]
  },
  {
   "cell_type": "code",
   "execution_count": 103,
   "id": "7f01d769",
   "metadata": {},
   "outputs": [
    {
     "data": {
      "text/plain": [
       "'You Save TK. 200 (25%)'"
      ]
     },
     "execution_count": 103,
     "metadata": {},
     "output_type": "execute_result"
    }
   ],
   "source": [
    "discount_amount_percentage.text"
   ]
  },
  {
   "cell_type": "code",
   "execution_count": 105,
   "id": "4d560bb1",
   "metadata": {},
   "outputs": [
    {
     "data": {
      "text/plain": [
       "'200'"
      ]
     },
     "execution_count": 105,
     "metadata": {},
     "output_type": "execute_result"
    }
   ],
   "source": [
    "discount_amount = discount_amount_percentage.text.split()[3]\n",
    "discount_amount"
   ]
  },
  {
   "cell_type": "code",
   "execution_count": 109,
   "id": "9ea8929d",
   "metadata": {},
   "outputs": [
    {
     "data": {
      "text/plain": [
       "'25%'"
      ]
     },
     "execution_count": 109,
     "metadata": {},
     "output_type": "execute_result"
    }
   ],
   "source": [
    "discount_percentage = discount_amount_percentage.text.split()[4]\n",
    "discount_percentage.strip('()')"
   ]
  },
  {
   "cell_type": "markdown",
   "id": "fbb468b8",
   "metadata": {},
   "source": [
    "### Stock Availability and Number of Copies Available"
   ]
  },
  {
   "cell_type": "code",
   "execution_count": 364,
   "id": "397c6ceb",
   "metadata": {},
   "outputs": [
    {
     "data": {
      "text/plain": [
       "<selenium.webdriver.remote.webelement.WebElement (session=\"04e5eecfb534d88216f6ba589d1417c8\", element=\"2000B32BF5DFFBA0A58CD8C5906907E2_element_2566\")>"
      ]
     },
     "execution_count": 364,
     "metadata": {},
     "output_type": "execute_result"
    }
   ],
   "source": [
    "stock_availability_and_no_of_copies_available = driver.find_element(By.CLASS_NAME, 'stock-available')\n",
    "stock_availability_and_no_of_copies_available"
   ]
  },
  {
   "cell_type": "code",
   "execution_count": 370,
   "id": "46ff1eb3",
   "metadata": {},
   "outputs": [
    {
     "data": {
      "text/plain": [
       "'In Stock (37 copies available)'"
      ]
     },
     "execution_count": 370,
     "metadata": {},
     "output_type": "execute_result"
    }
   ],
   "source": [
    "stock_availability_and_no_of_copies_available.text"
   ]
  },
  {
   "cell_type": "code",
   "execution_count": 367,
   "id": "b3921bb8",
   "metadata": {},
   "outputs": [],
   "source": [
    "if 'only' in stock_availability_and_no_of_copies_available.text:\n",
    "    stock_availability = stock_availability_and_no_of_copies_available.text.split('\\n')[0].strip()\n",
    "    no_of_copies_available = stock_availability_and_no_of_copies_available.text.split('\\n')[1].split()[1]\n",
    "elif 'available' in stock_availability_and_no_of_copies_available.text:\n",
    "    stock_availability = stock_availability_and_no_of_copies_available.text.split('(')[0].strip()\n",
    "    no_of_copies_available = stock_availability_and_no_of_copies_available.text.split('(')[1].split()[0]"
   ]
  },
  {
   "cell_type": "code",
   "execution_count": 368,
   "id": "94cd2f50",
   "metadata": {},
   "outputs": [
    {
     "data": {
      "text/plain": [
       "'In Stock'"
      ]
     },
     "execution_count": 368,
     "metadata": {},
     "output_type": "execute_result"
    }
   ],
   "source": [
    "stock_availability"
   ]
  },
  {
   "cell_type": "code",
   "execution_count": 369,
   "id": "8730e236",
   "metadata": {},
   "outputs": [
    {
     "data": {
      "text/plain": [
       "'37'"
      ]
     },
     "execution_count": 369,
     "metadata": {},
     "output_type": "execute_result"
    }
   ],
   "source": [
    "no_of_copies_available"
   ]
  },
  {
   "cell_type": "code",
   "execution_count": 380,
   "id": "28c32915",
   "metadata": {},
   "outputs": [
    {
     "name": "stdout",
     "output_type": "stream",
     "text": [
      "In Stock\n",
      "(only 1 copy left)\n",
      "\n",
      "\n",
      "\n",
      "Stock Available: In Stock\n",
      "No of copies available: 1\n"
     ]
    }
   ],
   "source": [
    "driver.get('https://www.rokomari.com/book/18/')\n",
    "\n",
    "stock_availability_and_no_of_copies_available = driver.find_element(By.CLASS_NAME, 'stock-available')\n",
    "print(stock_availability_and_no_of_copies_available.text)\n",
    "\n",
    "if 'only' in stock_availability_and_no_of_copies_available.text:\n",
    "    stock_availability = stock_availability_and_no_of_copies_available.text.split('\\n')[0].strip()\n",
    "    no_of_copies_available = stock_availability_and_no_of_copies_available.text.split('\\n')[1].split()[1]\n",
    "elif 'available' in stock_availability_and_no_of_copies_available.text:\n",
    "    stock_availability = stock_availability_and_no_of_copies_available.text.split('(')[0].strip()\n",
    "    no_of_copies_available = stock_availability_and_no_of_copies_available.text.split('(')[1].split()[0]\n",
    "    \n",
    "print('\\n\\n')\n",
    "print(f'Stock Available: {stock_availability}')\n",
    "print(f'No of copies available: {no_of_copies_available}')"
   ]
  },
  {
   "cell_type": "markdown",
   "id": "2436c47b",
   "metadata": {},
   "source": [
    "### Publisher"
   ]
  },
  {
   "cell_type": "code",
   "execution_count": 137,
   "id": "dd346974",
   "metadata": {},
   "outputs": [
    {
     "data": {
      "text/plain": [
       "<selenium.webdriver.remote.webelement.WebElement (session=\"8bfa336061fb15c2a393204902df1e77\", element=\"20413A90D2DE5EC08D8D067574DBC2EF_element_1139\")>"
      ]
     },
     "execution_count": 137,
     "metadata": {},
     "output_type": "execute_result"
    }
   ],
   "source": [
    "puslisher = driver.find_element(By.CSS_SELECTOR, '#book-additional-specification > table > tbody > tr:nth-child(3) > td.publisher-link > a')\n",
    "puslisher"
   ]
  },
  {
   "cell_type": "code",
   "execution_count": 138,
   "id": "e5fa8f00",
   "metadata": {},
   "outputs": [
    {
     "data": {
      "text/plain": [
       "'অন্যপ্রকাশ'"
      ]
     },
     "execution_count": 138,
     "metadata": {},
     "output_type": "execute_result"
    }
   ],
   "source": [
    "puslisher.text"
   ]
  },
  {
   "cell_type": "markdown",
   "id": "d07c8369",
   "metadata": {},
   "source": [
    "### ISBN"
   ]
  },
  {
   "cell_type": "code",
   "execution_count": 139,
   "id": "55268d53",
   "metadata": {},
   "outputs": [
    {
     "data": {
      "text/plain": [
       "<selenium.webdriver.remote.webelement.WebElement (session=\"8bfa336061fb15c2a393204902df1e77\", element=\"20413A90D2DE5EC08D8D067574DBC2EF_element_1117\")>"
      ]
     },
     "execution_count": 139,
     "metadata": {},
     "output_type": "execute_result"
    }
   ],
   "source": [
    "ISBN = driver.find_element(By.CSS_SELECTOR, '#book-additional-specification > table > tbody > tr:nth-child(4) > td:nth-child(2)')\n",
    "ISBN"
   ]
  },
  {
   "cell_type": "code",
   "execution_count": 140,
   "id": "82ca4944",
   "metadata": {},
   "outputs": [
    {
     "data": {
      "text/plain": [
       "'9848682767'"
      ]
     },
     "execution_count": 140,
     "metadata": {},
     "output_type": "execute_result"
    }
   ],
   "source": [
    "ISBN.text"
   ]
  },
  {
   "cell_type": "markdown",
   "id": "a8173624",
   "metadata": {},
   "source": [
    "### Edition"
   ]
  },
  {
   "cell_type": "code",
   "execution_count": 141,
   "id": "691ef8dd",
   "metadata": {},
   "outputs": [
    {
     "data": {
      "text/plain": [
       "<selenium.webdriver.remote.webelement.WebElement (session=\"8bfa336061fb15c2a393204902df1e77\", element=\"20413A90D2DE5EC08D8D067574DBC2EF_element_1144\")>"
      ]
     },
     "execution_count": 141,
     "metadata": {},
     "output_type": "execute_result"
    }
   ],
   "source": [
    "edition = driver.find_element(By.CSS_SELECTOR, '#book-additional-specification > table > tbody > tr:nth-child(5) > td:nth-child(2)')\n",
    "edition"
   ]
  },
  {
   "cell_type": "code",
   "execution_count": 142,
   "id": "bf3b2829",
   "metadata": {},
   "outputs": [
    {
     "data": {
      "text/plain": [
       "'8th'"
      ]
     },
     "execution_count": 142,
     "metadata": {},
     "output_type": "execute_result"
    }
   ],
   "source": [
    "edition.text"
   ]
  },
  {
   "cell_type": "markdown",
   "id": "5a21410d",
   "metadata": {},
   "source": [
    "### Number of Pages"
   ]
  },
  {
   "cell_type": "code",
   "execution_count": 143,
   "id": "7c844e63",
   "metadata": {},
   "outputs": [
    {
     "data": {
      "text/plain": [
       "<selenium.webdriver.remote.webelement.WebElement (session=\"8bfa336061fb15c2a393204902df1e77\", element=\"20413A90D2DE5EC08D8D067574DBC2EF_element_1119\")>"
      ]
     },
     "execution_count": 143,
     "metadata": {},
     "output_type": "execute_result"
    }
   ],
   "source": [
    "no_of_pages = driver.find_element(By.CSS_SELECTOR, '#book-additional-specification > table > tbody > tr:nth-child(6) > td:nth-child(2)')\n",
    "no_of_pages"
   ]
  },
  {
   "cell_type": "code",
   "execution_count": 144,
   "id": "22b56e9e",
   "metadata": {},
   "outputs": [
    {
     "data": {
      "text/plain": [
       "'528'"
      ]
     },
     "execution_count": 144,
     "metadata": {},
     "output_type": "execute_result"
    }
   ],
   "source": [
    "no_of_pages.text"
   ]
  },
  {
   "cell_type": "markdown",
   "id": "4c635030",
   "metadata": {},
   "source": [
    "### Country"
   ]
  },
  {
   "cell_type": "code",
   "execution_count": 145,
   "id": "5b3c07ac",
   "metadata": {},
   "outputs": [
    {
     "data": {
      "text/plain": [
       "<selenium.webdriver.remote.webelement.WebElement (session=\"8bfa336061fb15c2a393204902df1e77\", element=\"20413A90D2DE5EC08D8D067574DBC2EF_element_1154\")>"
      ]
     },
     "execution_count": 145,
     "metadata": {},
     "output_type": "execute_result"
    }
   ],
   "source": [
    "country = driver.find_element(By.CSS_SELECTOR, '#book-additional-specification > table > tbody > tr:nth-child(7) > td:nth-child(2)')\n",
    "country"
   ]
  },
  {
   "cell_type": "code",
   "execution_count": 146,
   "id": "66dc167a",
   "metadata": {},
   "outputs": [
    {
     "data": {
      "text/plain": [
       "'বাংলাদেশ'"
      ]
     },
     "execution_count": 146,
     "metadata": {},
     "output_type": "execute_result"
    }
   ],
   "source": [
    "country.text"
   ]
  },
  {
   "cell_type": "markdown",
   "id": "eb504e29",
   "metadata": {},
   "source": [
    "### Language"
   ]
  },
  {
   "cell_type": "code",
   "execution_count": 147,
   "id": "7b329697",
   "metadata": {},
   "outputs": [
    {
     "data": {
      "text/plain": [
       "<selenium.webdriver.remote.webelement.WebElement (session=\"8bfa336061fb15c2a393204902df1e77\", element=\"20413A90D2DE5EC08D8D067574DBC2EF_element_1158\")>"
      ]
     },
     "execution_count": 147,
     "metadata": {},
     "output_type": "execute_result"
    }
   ],
   "source": [
    "language  = driver.find_element(By.CSS_SELECTOR, '#book-additional-specification > table > tbody > tr:nth-child(8) > td:nth-child(2)')\n",
    "language"
   ]
  },
  {
   "cell_type": "code",
   "execution_count": 148,
   "id": "9b0d912c",
   "metadata": {},
   "outputs": [
    {
     "data": {
      "text/plain": [
       "'বাংলা'"
      ]
     },
     "execution_count": 148,
     "metadata": {},
     "output_type": "execute_result"
    }
   ],
   "source": [
    "language.text"
   ]
  },
  {
   "cell_type": "code",
   "execution_count": null,
   "id": "2a786b22",
   "metadata": {},
   "outputs": [],
   "source": []
  },
  {
   "cell_type": "markdown",
   "id": "1c1bf8f7",
   "metadata": {},
   "source": [
    "## Main Section"
   ]
  },
  {
   "cell_type": "code",
   "execution_count": 3,
   "id": "17180a41",
   "metadata": {},
   "outputs": [],
   "source": [
    "def title_scrap(driver):\n",
    "    try:\n",
    "        title_element = driver.find_element(By.TAG_NAME, 'h1')\n",
    "        title = title_element.text.rstrip('(হার্ডকভার)').strip()\n",
    "        return title\n",
    "    except:\n",
    "        return 'N/A'"
   ]
  },
  {
   "cell_type": "code",
   "execution_count": 4,
   "id": "e04a9be3",
   "metadata": {},
   "outputs": [],
   "source": [
    "def author_scrap(driver):\n",
    "    try:\n",
    "        authors_element = driver.find_element(By.CSS_SELECTOR, '#details-page > section.details-book-section.d-flex.align-items-base > div.details-book-main-info-wrapper > div > div.col.details-book-main-info.align-self-center > div.details-book-main-info__content > p.details-book-info__content-author')\n",
    "        authors = authors_element.text.lstrip('by ')\n",
    "        return authors\n",
    "    except:\n",
    "        return 'N/A'"
   ]
  },
  {
   "cell_type": "code",
   "execution_count": 5,
   "id": "a6cccdb9",
   "metadata": {},
   "outputs": [],
   "source": [
    "def category_scrap(driver):\n",
    "    try:\n",
    "        category_element = driver.find_element(By.CSS_SELECTOR, '#details-page > section.details-book-section.d-flex.align-items-base > div.details-book-main-info-wrapper > div > div.col.details-book-main-info.align-self-center > div.details-book-main-info__content > div.details-book-info__content-category.d-flex.align-items-center')\n",
    "        category = category_element.text.split('\\n')[-1]\n",
    "        return category\n",
    "    except:\n",
    "        return 'N/A'"
   ]
  },
  {
   "cell_type": "code",
   "execution_count": 6,
   "id": "db89e6c4",
   "metadata": {},
   "outputs": [],
   "source": [
    "def rating_scrap(driver):\n",
    "    try:\n",
    "        rating_element = driver.find_element(By.CSS_SELECTOR, '#summary > div.review-wrapper > div.d-flex.align-items-start.justify-content-start.mt-2 > div > div.review-wrapper__rating-summary > h3')\n",
    "        rating = rating_element.text\n",
    "        return rating\n",
    "    except:\n",
    "        return 'N/A'"
   ]
  },
  {
   "cell_type": "code",
   "execution_count": 7,
   "id": "fe3af659",
   "metadata": {},
   "outputs": [],
   "source": [
    "def no_of_rating_and_review_scrap(driver):\n",
    "    try:\n",
    "        no_of_ratings_and_reviews_element = driver.find_element(By.CSS_SELECTOR, '#js--rating-review-count-summary')\n",
    "        no_of_ratings = no_of_ratings_and_reviews_element.text.split()[0]\n",
    "        no_of_reviews = no_of_ratings_and_reviews_element.text.split()[3]\n",
    "        return no_of_ratings, no_of_reviews\n",
    "    except:\n",
    "        return 'N/A', 'N/A'"
   ]
  },
  {
   "cell_type": "code",
   "execution_count": 8,
   "id": "a2c06cf0",
   "metadata": {},
   "outputs": [],
   "source": [
    "def original_price_scrap(driver):\n",
    "    try:\n",
    "        original_price_element = driver.find_element(By.CSS_SELECTOR, '#details-page > section.details-book-section.d-flex.align-items-base > div.details-book-main-info-wrapper > div > div.col.details-book-main-info.align-self-center > div.details-book-main-info__content > div.details-book-info__content-book-price > strike')\n",
    "        original_price = actual_price_element.text.split()[1]\n",
    "        return original_price\n",
    "    except:\n",
    "        return 'N/A'"
   ]
  },
  {
   "cell_type": "code",
   "execution_count": 10,
   "id": "9345c3c3",
   "metadata": {},
   "outputs": [],
   "source": [
    "def sell_price_scrap(driver):\n",
    "    try:\n",
    "        sell_price_element = driver.find_element(By.CSS_SELECTOR, '#details-page > section.details-book-section.d-flex.align-items-base > div.details-book-main-info-wrapper > div > div.col.details-book-main-info.align-self-center > div.details-book-main-info__content > div.details-book-info__content-book-price > span.sell-price')\n",
    "        sell_price = discount_price_element.text.split()[1]\n",
    "        return sell_price\n",
    "    except:\n",
    "        return 'N/A'"
   ]
  },
  {
   "cell_type": "code",
   "execution_count": 11,
   "id": "0070a7c4",
   "metadata": {},
   "outputs": [],
   "source": [
    "def discount_amount_and_percentage_scrap(driver):\n",
    "    try:\n",
    "        discount_amount_percentage_element = driver.find_element(By.CSS_SELECTOR, '#details-page > section.details-book-section.d-flex.align-items-base > div.details-book-main-info-wrapper > div > div.col.details-book-main-info.align-self-center > div.details-book-main-info__content > div.details-book-info__content-book-price > span.discount > span')\n",
    "        discount_amount = discount_amount_percentage_element.text.split()[3]\n",
    "        discount_percentage = discount_amount_percentage_element.text.split()[4].strip('()')\n",
    "        return discount_amount, discount_percentage\n",
    "    except:\n",
    "        return 'N/A', 'N/A'"
   ]
  },
  {
   "cell_type": "code",
   "execution_count": 12,
   "id": "e32dbd8c",
   "metadata": {},
   "outputs": [],
   "source": [
    "def stock_availability_and_copies_available_scrap(driver):\n",
    "    try:\n",
    "        stock_availability_and_no_of_copies_available_element = driver.find_element(By.CLASS_NAME, 'stock-available')\n",
    "        if 'only' in stock_availability_and_no_of_copies_available_element.text:\n",
    "            stock_availability = stock_availability_and_no_of_copies_available_element.text.split('\\n')[0].strip()\n",
    "            no_of_copies_available = stock_availability_and_no_of_copies_available_element.text.split('\\n')[1].split()[1]\n",
    "        elif 'available' in stock_availability_and_no_of_copies_available_element.text:\n",
    "            stock_availability = stock_availability_and_no_of_copies_available_element.text.split('(')[0].strip()\n",
    "            no_of_copies_available = stock_availability_and_no_of_copies_available_element.text.split('(')[1].split()[0]\n",
    "        return stock_availability, no_of_copies_available\n",
    "    except:\n",
    "        return 'N/A', 'N/A'"
   ]
  },
  {
   "cell_type": "code",
   "execution_count": 13,
   "id": "b49248ab",
   "metadata": {},
   "outputs": [],
   "source": [
    "def publisher_scrap(driver):\n",
    "    try:\n",
    "        for i in range(1,9): #There are at most 8 specification for each book\n",
    "            if driver.find_element(By.CSS_SELECTOR, f'#book-additional-specification > table > tbody > tr:nth-child({i}) > td:nth-child(1)').text == 'Publisher':\n",
    "                puslisher_element = driver.find_element(By.CSS_SELECTOR, f'#book-additional-specification > table > tbody > tr:nth-child({i}) > td.publisher-link > a')\n",
    "                publisher = puslisher_element.text \n",
    "                break\n",
    "            \n",
    "#         if driver.find_element(By.CSS_SELECTOR, '#book-additional-specification > table > tbody > tr:nth-child(1) > td:nth-child(1)').text == 'Publisher':\n",
    "#             puslisher_element = driver.find_element(By.CSS_SELECTOR, '#book-additional-specification > table > tbody > tr:nth-child(1) > td.publisher-link > a')\n",
    "#             publisher = puslisher_element.text   \n",
    "#         elif driver.find_element(By.CSS_SELECTOR, '#book-additional-specification > table > tbody > tr:nth-child(2) > td:nth-child(1)').text == 'Publisher':\n",
    "#             puslisher_element = driver.find_element(By.CSS_SELECTOR, '#book-additional-specification > table > tbody > tr:nth-child(2) > td.publisher-link > a')\n",
    "#             publisher = puslisher_element.text \n",
    "#         elif driver.find_element(By.CSS_SELECTOR, '#book-additional-specification > table > tbody > tr:nth-child(3) > td:nth-child(1)').text == 'Publisher':\n",
    "#             puslisher_element = driver.find_element(By.CSS_SELECTOR, '#book-additional-specification > table > tbody > tr:nth-child(3) > td.publisher-link > a')\n",
    "#             publisher = puslisher_element.text \n",
    "#         elif driver.find_element(By.CSS_SELECTOR, '#book-additional-specification > table > tbody > tr:nth-child(4) > td:nth-child(1)').text == 'Publisher':\n",
    "#             puslisher_element = driver.find_element(By.CSS_SELECTOR, '#book-additional-specification > table > tbody > tr:nth-child(4) > td.publisher-link > a')\n",
    "#             publisher = puslisher_element.text \n",
    "#         elif driver.find_element(By.CSS_SELECTOR, '#book-additional-specification > table > tbody > tr:nth-child(5) > td:nth-child(1)').text == 'Publisher':\n",
    "#             puslisher_element = driver.find_element(By.CSS_SELECTOR, '#book-additional-specification > table > tbody > tr:nth-child(5) > td.publisher-link > a')\n",
    "#             publisher = puslisher_element.text \n",
    "#         elif driver.find_element(By.CSS_SELECTOR, '#book-additional-specification > table > tbody > tr:nth-child(6) > td:nth-child(1)').text == 'Publisher':\n",
    "#             puslisher_element = driver.find_element(By.CSS_SELECTOR, '#book-additional-specification > table > tbody > tr:nth-child(6) > td.publisher-link > a')\n",
    "#             publisher = puslisher_element.text \n",
    "#         elif driver.find_element(By.CSS_SELECTOR, '#book-additional-specification > table > tbody > tr:nth-child(7) > td:nth-child(1)').text == 'Publisher':\n",
    "#             puslisher_element = driver.find_element(By.CSS_SELECTOR, '#book-additional-specification > table > tbody > tr:nth-child(7) > td.publisher-link > a')\n",
    "#             publisher = puslisher_element.text \n",
    "#         elif driver.find_element(By.CSS_SELECTOR, '#book-additional-specification > table > tbody > tr:nth-child(8) > td:nth-child(1)').text == 'Publisher':\n",
    "#             puslisher_element = driver.find_element(By.CSS_SELECTOR, '#book-additional-specification > table > tbody > tr:nth-child(8) > td.publisher-link > a')\n",
    "#             publisher = puslisher_element.text \n",
    "        return publisher \n",
    "    except:\n",
    "        return 'N/A'"
   ]
  },
  {
   "cell_type": "code",
   "execution_count": 14,
   "id": "2a318f4c",
   "metadata": {},
   "outputs": [],
   "source": [
    "def ISBN_scrap(driver):\n",
    "    try:\n",
    "        for i in range(1,9): #There are at most 8 specification for each book\n",
    "            if driver.find_element(By.CSS_SELECTOR, f'#book-additional-specification > table > tbody > tr:nth-child({i}) > td:nth-child(1)').text == 'ISBN':\n",
    "                ISBN_element = driver.find_element(By.CSS_SELECTOR, f'#book-additional-specification > table > tbody > tr:nth-child({i}) > td:nth-child(2)')\n",
    "                ISBN = ISBN_element.text\n",
    "                break\n",
    "            \n",
    "#         if driver.find_element(By.CSS_SELECTOR, '#book-additional-specification > table > tbody > tr:nth-child(1) > td:nth-child(1)').text == 'ISBN':\n",
    "#             ISBN_element = driver.find_element(By.CSS_SELECTOR, '#book-additional-specification > table > tbody > tr:nth-child(1) > td:nth-child(2)')\n",
    "#             ISBN = ISBN_element.text\n",
    "#         elif driver.find_element(By.CSS_SELECTOR, '#book-additional-specification > table > tbody > tr:nth-child(2) > td:nth-child(1)').text == 'ISBN':\n",
    "#             ISBN_element = driver.find_element(By.CSS_SELECTOR, '#book-additional-specification > table > tbody > tr:nth-child(2) > td:nth-child(2)')\n",
    "#             ISBN = ISBN_element.text\n",
    "#         elif driver.find_element(By.CSS_SELECTOR, '#book-additional-specification > table > tbody > tr:nth-child(3) > td:nth-child(1)').text == 'ISBN':\n",
    "#             ISBN_element = driver.find_element(By.CSS_SELECTOR, '#book-additional-specification > table > tbody > tr:nth-child(3) > td:nth-child(2)')\n",
    "#             ISBN = ISBN_element.text\n",
    "#         elif driver.find_element(By.CSS_SELECTOR, '#book-additional-specification > table > tbody > tr:nth-child(4) > td:nth-child(1)').text == 'ISBN':\n",
    "#             ISBN_element = driver.find_element(By.CSS_SELECTOR, '#book-additional-specification > table > tbody > tr:nth-child(4) > td:nth-child(2)')\n",
    "#             ISBN = ISBN_element.text\n",
    "#         elif driver.find_element(By.CSS_SELECTOR, '#book-additional-specification > table > tbody > tr:nth-child(5) > td:nth-child(1)').text == 'ISBN':\n",
    "#             ISBN_element = driver.find_element(By.CSS_SELECTOR, '#book-additional-specification > table > tbody > tr:nth-child(5) > td:nth-child(2)')\n",
    "#             ISBN = ISBN_element.text\n",
    "#         elif driver.find_element(By.CSS_SELECTOR, '#book-additional-specification > table > tbody > tr:nth-child(6) > td:nth-child(1)').text == 'ISBN':\n",
    "#             ISBN_element = driver.find_element(By.CSS_SELECTOR, '#book-additional-specification > table > tbody > tr:nth-child(6) > td:nth-child(2)')\n",
    "#             ISBN = ISBN_element.text\n",
    "#         elif driver.find_element(By.CSS_SELECTOR, '#book-additional-specification > table > tbody > tr:nth-child(7) > td:nth-child(1)').text == 'ISBN':\n",
    "#             ISBN_element = driver.find_element(By.CSS_SELECTOR, '#book-additional-specification > table > tbody > tr:nth-child(7) > td:nth-child(2)')\n",
    "#             ISBN = ISBN_element.text\n",
    "#         elif driver.find_element(By.CSS_SELECTOR, '#book-additional-specification > table > tbody > tr:nth-child(8) > td:nth-child(1)').text == 'ISBN':\n",
    "#             ISBN_element = driver.find_element(By.CSS_SELECTOR, '#book-additional-specification > table > tbody > tr:nth-child(8) > td:nth-child(2)')\n",
    "#             ISBN = ISBN_element.text\n",
    "        return ISBN\n",
    "    except:\n",
    "        return 'N/A'"
   ]
  },
  {
   "cell_type": "code",
   "execution_count": 15,
   "id": "46a5b1ab",
   "metadata": {},
   "outputs": [],
   "source": [
    "def edition_scrap(driver):\n",
    "    try:\n",
    "        for i in range(1,9): #There are at most 8 specification for each book\n",
    "            if driver.find_element(By.CSS_SELECTOR, f'#book-additional-specification > table > tbody > tr:nth-child({i}) > td:nth-child(1)').text == 'Edition':\n",
    "                edition_element = driver.find_element(By.CSS_SELECTOR, f'#book-additional-specification > table > tbody > tr:nth-child({i}) > td:nth-child(2)')\n",
    "                edition = edition_element.text\n",
    "                break\n",
    "            \n",
    "#         if driver.find_element(By.CSS_SELECTOR, '#book-additional-specification > table > tbody > tr:nth-child(1) > td:nth-child(1)').text == 'Edition':\n",
    "#             edition_element = driver.find_element(By.CSS_SELECTOR, '#book-additional-specification > table > tbody > tr:nth-child(1) > td:nth-child(2)')\n",
    "#             edition = edition_element.text\n",
    "#         elif driver.find_element(By.CSS_SELECTOR, '#book-additional-specification > table > tbody > tr:nth-child(2) > td:nth-child(1)').text == 'Edition':\n",
    "#             edition_element = driver.find_element(By.CSS_SELECTOR, '#book-additional-specification > table > tbody > tr:nth-child(2) > td:nth-child(2)')\n",
    "#             edition = edition_element.text\n",
    "#         elif driver.find_element(By.CSS_SELECTOR, '#book-additional-specification > table > tbody > tr:nth-child(3) > td:nth-child(1)').text == 'Edition':\n",
    "#             edition_element = driver.find_element(By.CSS_SELECTOR, '#book-additional-specification > table > tbody > tr:nth-child(3) > td:nth-child(2)')\n",
    "#             edition = edition_element.text\n",
    "#         elif driver.find_element(By.CSS_SELECTOR, '#book-additional-specification > table > tbody > tr:nth-child(4) > td:nth-child(1)').text == 'Edition':\n",
    "#             edition_element = driver.find_element(By.CSS_SELECTOR, '#book-additional-specification > table > tbody > tr:nth-child(4) > td:nth-child(2)')\n",
    "#             edition = edition_element.text\n",
    "#         elif driver.find_element(By.CSS_SELECTOR, '#book-additional-specification > table > tbody > tr:nth-child(5) > td:nth-child(1)').text == 'Edition':\n",
    "#             edition_element = driver.find_element(By.CSS_SELECTOR, '#book-additional-specification > table > tbody > tr:nth-child(5) > td:nth-child(2)')\n",
    "#             edition = edition_element.text\n",
    "#         elif driver.find_element(By.CSS_SELECTOR, '#book-additional-specification > table > tbody > tr:nth-child(6) > td:nth-child(1)').text == 'Edition':\n",
    "#             edition_element = driver.find_element(By.CSS_SELECTOR, '#book-additional-specification > table > tbody > tr:nth-child(6) > td:nth-child(2)')\n",
    "#             edition = edition_element.text\n",
    "#         elif driver.find_element(By.CSS_SELECTOR, '#book-additional-specification > table > tbody > tr:nth-child(7) > td:nth-child(1)').text == 'Edition':\n",
    "#             edition_element = driver.find_element(By.CSS_SELECTOR, '#book-additional-specification > table > tbody > tr:nth-child(7) > td:nth-child(2)')\n",
    "#             edition = edition_element.text\n",
    "#         elif driver.find_element(By.CSS_SELECTOR, '#book-additional-specification > table > tbody > tr:nth-child(8) > td:nth-child(1)').text == 'Edition':\n",
    "#             edition_element = driver.find_element(By.CSS_SELECTOR, '#book-additional-specification > table > tbody > tr:nth-child(8) > td:nth-child(2)')\n",
    "#             edition = edition_element.text\n",
    "        return edition\n",
    "    except:\n",
    "        return 'N/A'"
   ]
  },
  {
   "cell_type": "code",
   "execution_count": 16,
   "id": "59c170a4",
   "metadata": {},
   "outputs": [],
   "source": [
    "def no_of_pages_scrap(driver):\n",
    "    try:\n",
    "        for i in range(1,9): #There are at most 8 specification for each book\n",
    "            if driver.find_element(By.CSS_SELECTOR, f'#book-additional-specification > table > tbody > tr:nth-child({i}) > td:nth-child(1)').text == 'Number of Pages':\n",
    "                no_of_pages_element = driver.find_element(By.CSS_SELECTOR, f'#book-additional-specification > table > tbody > tr:nth-child({i}) > td:nth-child(2)')\n",
    "                no_of_pages = no_of_pages_element.text\n",
    "                break\n",
    "                \n",
    "#         if driver.find_element(By.CSS_SELECTOR, '#book-additional-specification > table > tbody > tr:nth-child(1) > td:nth-child(1)').text == 'Number of Pages':\n",
    "#             no_of_pages_element = driver.find_element(By.CSS_SELECTOR, '#book-additional-specification > table > tbody > tr:nth-child(1) > td:nth-child(2)')\n",
    "#             no_of_pages = no_of_pages_element.text\n",
    "#         elif driver.find_element(By.CSS_SELECTOR, '#book-additional-specification > table > tbody > tr:nth-child(2) > td:nth-child(1)').text == 'Number of Pages':\n",
    "#             no_of_pages_element = driver.find_element(By.CSS_SELECTOR, '#book-additional-specification > table > tbody > tr:nth-child(2) > td:nth-child(2)')\n",
    "#             no_of_pages = no_of_pages_element.text\n",
    "#         elif driver.find_element(By.CSS_SELECTOR, '#book-additional-specification > table > tbody > tr:nth-child(3) > td:nth-child(1)').text == 'Number of Pages':\n",
    "#             no_of_pages_element = driver.find_element(By.CSS_SELECTOR, '#book-additional-specification > table > tbody > tr:nth-child(3) > td:nth-child(2)')\n",
    "#             no_of_pages = no_of_pages_element.text\n",
    "#         elif driver.find_element(By.CSS_SELECTOR, '#book-additional-specification > table > tbody > tr:nth-child(4) > td:nth-child(1)').text == 'Number of Pages':\n",
    "#             no_of_pages_element = driver.find_element(By.CSS_SELECTOR, '#book-additional-specification > table > tbody > tr:nth-child(4) > td:nth-child(2)')\n",
    "#             no_of_pages = no_of_pages_element.text\n",
    "#         elif driver.find_element(By.CSS_SELECTOR, '#book-additional-specification > table > tbody > tr:nth-child(5) > td:nth-child(1)').text == 'Number of Pages':\n",
    "#             no_of_pages_element = driver.find_element(By.CSS_SELECTOR, '#book-additional-specification > table > tbody > tr:nth-child(5) > td:nth-child(2)')\n",
    "#             no_of_pages = no_of_pages_element.text\n",
    "#         elif driver.find_element(By.CSS_SELECTOR, '#book-additional-specification > table > tbody > tr:nth-child(6) > td:nth-child(1)').text == 'Number of Pages':\n",
    "#             no_of_pages_element = driver.find_element(By.CSS_SELECTOR, '#book-additional-specification > table > tbody > tr:nth-child(6) > td:nth-child(2)')\n",
    "#             no_of_pages = no_of_pages_element.text\n",
    "#         elif driver.find_element(By.CSS_SELECTOR, '#book-additional-specification > table > tbody > tr:nth-child(7) > td:nth-child(1)').text == 'Number of Pages':\n",
    "#             no_of_pages_element = driver.find_element(By.CSS_SELECTOR, '#book-additional-specification > table > tbody > tr:nth-child(7) > td:nth-child(2)')\n",
    "#             no_of_pages = no_of_pages_element.text\n",
    "#         elif driver.find_element(By.CSS_SELECTOR, '#book-additional-specification > table > tbody > tr:nth-child(8) > td:nth-child(1)').text == 'Number of Pages':\n",
    "#             no_of_pages_element = driver.find_element(By.CSS_SELECTOR, '#book-additional-specification > table > tbody > tr:nth-child(8) > td:nth-child(2)')\n",
    "#             no_of_pages = no_of_pages_element.text\n",
    "        return no_of_pages\n",
    "    except:\n",
    "        return 'N/A'"
   ]
  },
  {
   "cell_type": "code",
   "execution_count": 17,
   "id": "d27e51aa",
   "metadata": {},
   "outputs": [],
   "source": [
    "def country_scrap(driver):\n",
    "    try:\n",
    "        for i in range(1,9): #There are at most 8 specification for each book\n",
    "            if driver.find_element(By.CSS_SELECTOR, f'#book-additional-specification > table > tbody > tr:nth-child({i}) > td:nth-child(1)').text == 'Country':\n",
    "                country_element = driver.find_element(By.CSS_SELECTOR, f'#book-additional-specification > table > tbody > tr:nth-child({i}) > td:nth-child(2)')\n",
    "                country = country_element.text\n",
    "                break\n",
    "#         if driver.find_element(By.CSS_SELECTOR, '#book-additional-specification > table > tbody > tr:nth-child(1) > td:nth-child(1)').text == 'Country':\n",
    "#             country_element = driver.find_element(By.CSS_SELECTOR, '#book-additional-specification > table > tbody > tr:nth-child(1) > td:nth-child(2)')\n",
    "#             country = country_element.text\n",
    "#         elif driver.find_element(By.CSS_SELECTOR, '#book-additional-specification > table > tbody > tr:nth-child(2) > td:nth-child(1)').text == 'Country':\n",
    "#             country_element = driver.find_element(By.CSS_SELECTOR, '#book-additional-specification > table > tbody > tr:nth-child(2) > td:nth-child(2)')\n",
    "#             country = country_element.text\n",
    "#         elif driver.find_element(By.CSS_SELECTOR, '#book-additional-specification > table > tbody > tr:nth-child(3) > td:nth-child(1)').text == 'Country':\n",
    "#             country_element = driver.find_element(By.CSS_SELECTOR, '#book-additional-specification > table > tbody > tr:nth-child(3) > td:nth-child(2)')\n",
    "#             country = country_element.text\n",
    "#         elif driver.find_element(By.CSS_SELECTOR, '#book-additional-specification > table > tbody > tr:nth-child(4) > td:nth-child(1)').text == 'Country':\n",
    "#             country_element = driver.find_element(By.CSS_SELECTOR, '#book-additional-specification > table > tbody > tr:nth-child(4) > td:nth-child(2)')\n",
    "#             country = country_element.text\n",
    "#         elif driver.find_element(By.CSS_SELECTOR, '#book-additional-specification > table > tbody > tr:nth-child(5) > td:nth-child(1)').text == 'Country':\n",
    "#             country_element = driver.find_element(By.CSS_SELECTOR, '#book-additional-specification > table > tbody > tr:nth-child(5) > td:nth-child(2)')\n",
    "#             country = country_element.text\n",
    "#         elif driver.find_element(By.CSS_SELECTOR, '#book-additional-specification > table > tbody > tr:nth-child(6) > td:nth-child(1)').text == 'Country':\n",
    "#             country_element = driver.find_element(By.CSS_SELECTOR, '#book-additional-specification > table > tbody > tr:nth-child(6) > td:nth-child(2)')\n",
    "#             country = country_element.text\n",
    "#         elif driver.find_element(By.CSS_SELECTOR, '#book-additional-specification > table > tbody > tr:nth-child(7) > td:nth-child(1)').text == 'Country':\n",
    "#             country_element = driver.find_element(By.CSS_SELECTOR, '#book-additional-specification > table > tbody > tr:nth-child(7) > td:nth-child(2)')\n",
    "#             country = country_element.text\n",
    "#         elif driver.find_element(By.CSS_SELECTOR, '#book-additional-specification > table > tbody > tr:nth-child(8) > td:nth-child(1)').text == 'Country':\n",
    "#             country_element = driver.find_element(By.CSS_SELECTOR, '#book-additional-specification > table > tbody > tr:nth-child(8) > td:nth-child(2)')\n",
    "#             country = country_element.text\n",
    "        return country\n",
    "    except:\n",
    "        return 'N/A'"
   ]
  },
  {
   "cell_type": "code",
   "execution_count": 18,
   "id": "45c072f6",
   "metadata": {},
   "outputs": [],
   "source": [
    "def language_scrap(driver):\n",
    "    try:\n",
    "        for i in range(1,9): #There are at most 8 specification for each book\n",
    "            if driver.find_element(By.CSS_SELECTOR, f'#book-additional-specification > table > tbody > tr:nth-child({i}) > td:nth-child(1)').text == 'Language':\n",
    "                language_element  = driver.find_element(By.CSS_SELECTOR, f'#book-additional-specification > table > tbody > tr:nth-child({i}) > td:nth-child(2)')\n",
    "                language = language_element.text\n",
    "                break\n",
    "                \n",
    "#         if driver.find_element(By.CSS_SELECTOR, '#book-additional-specification > table > tbody > tr:nth-child(1) > td:nth-child(1)').text == 'Language':\n",
    "#             language_element  = driver.find_element(By.CSS_SELECTOR, '#book-additional-specification > table > tbody > tr:nth-child(1) > td:nth-child(2)')\n",
    "#             language = language_element.text\n",
    "#         elif driver.find_element(By.CSS_SELECTOR, '#book-additional-specification > table > tbody > tr:nth-child(2) > td:nth-child(1)').text == 'Language':\n",
    "#             language_element  = driver.find_element(By.CSS_SELECTOR, '#book-additional-specification > table > tbody > tr:nth-child(2) > td:nth-child(2)')\n",
    "#             language = language_element.text\n",
    "#         elif driver.find_element(By.CSS_SELECTOR, '#book-additional-specification > table > tbody > tr:nth-child(3) > td:nth-child(1)').text == 'Language':\n",
    "#             language_element  = driver.find_element(By.CSS_SELECTOR, '#book-additional-specification > table > tbody > tr:nth-child(3) > td:nth-child(2)')\n",
    "#             language = language_element.text\n",
    "#         elif driver.find_element(By.CSS_SELECTOR, '#book-additional-specification > table > tbody > tr:nth-child(4) > td:nth-child(1)').text == 'Language':\n",
    "#             language_element  = driver.find_element(By.CSS_SELECTOR, '#book-additional-specification > table > tbody > tr:nth-child(4) > td:nth-child(2)')\n",
    "#             language = language_element.text\n",
    "#         elif driver.find_element(By.CSS_SELECTOR, '#book-additional-specification > table > tbody > tr:nth-child(5) > td:nth-child(1)').text == 'Language':\n",
    "#             language_element  = driver.find_element(By.CSS_SELECTOR, '#book-additional-specification > table > tbody > tr:nth-child(5) > td:nth-child(2)')\n",
    "#             language = language_element.text\n",
    "#         elif driver.find_element(By.CSS_SELECTOR, '#book-additional-specification > table > tbody > tr:nth-child(6) > td:nth-child(1)').text == 'Language':\n",
    "#             language_element  = driver.find_element(By.CSS_SELECTOR, '#book-additional-specification > table > tbody > tr:nth-child(6) > td:nth-child(2)')\n",
    "#             language = language_element.text\n",
    "#         elif driver.find_element(By.CSS_SELECTOR, '#book-additional-specification > table > tbody > tr:nth-child(7) > td:nth-child(1)').text == 'Language':\n",
    "#             language_element  = driver.find_element(By.CSS_SELECTOR, '#book-additional-specification > table > tbody > tr:nth-child(7) > td:nth-child(2)')\n",
    "#             language = language_element.text\n",
    "#         elif driver.find_element(By.CSS_SELECTOR, '#book-additional-specification > table > tbody > tr:nth-child(8) > td:nth-child(1)').text == 'Language':\n",
    "#             language_element  = driver.find_element(By.CSS_SELECTOR, '#book-additional-specification > table > tbody > tr:nth-child(8) > td:nth-child(2)')\n",
    "#             language = language_element.text\n",
    "        return language\n",
    "    except:\n",
    "        return 'N/A'"
   ]
  },
  {
   "cell_type": "code",
   "execution_count": null,
   "id": "a7c5f577",
   "metadata": {},
   "outputs": [],
   "source": []
  },
  {
   "cell_type": "code",
   "execution_count": 26,
   "id": "4a78fbfd",
   "metadata": {},
   "outputs": [],
   "source": [
    "title_list = []\n",
    "authors_list = []\n",
    "category_list = []\n",
    "rating_list = []\n",
    "no_of_ratings_list = []\n",
    "no_of_reviews_list = []\n",
    "original_price_list = []\n",
    "sell_price_list = []\n",
    "discount_amount_list = []\n",
    "discount_percentage_list = []\n",
    "stock_availability_list = []\n",
    "no_of_copies_available_list = []\n",
    "publisher_list = []\n",
    "ISBN_list = []\n",
    "edition_list = []\n",
    "number_of_pages_list = []\n",
    "country_list = []\n",
    "language_list = []\n",
    "\n",
    "for i in range(1, 23500): #There are 176,999 books available on rokomari.com as of 04/03/2024\n",
    "    driver.get(f'https://www.rokomari.com/book/{i}/')\n",
    "    \n",
    "    title = title_scrap(driver)\n",
    "    if title == 'N/A' or title == 'This site can’t be reached':\n",
    "        continue\n",
    "    authors = author_scrap(driver)\n",
    "    category = category_scrap(driver)\n",
    "    rating = rating_scrap(driver)\n",
    "    no_of_ratings, no_of_reviews = no_of_rating_and_review_scrap(driver)\n",
    "    original_price = original_price_scrap(driver)\n",
    "    sell_price = sell_price_scrap(driver)\n",
    "    discount_amount, discount_percentage = discount_amount_and_percentage_scrap(driver)\n",
    "    stock_availability, no_of_copies_available = stock_availability_and_copies_available_scrap(driver)\n",
    "    \n",
    "    try:\n",
    "        # Find the element with the CSS selector '#book-additional-specification-tab'\n",
    "        element = driver.find_element(By.CSS_SELECTOR, '#book-additional-specification-tab')\n",
    "        # Scroll the element into view using JavaScript\n",
    "        driver.execute_script(\"arguments[0].scrollIntoView(true);\", element)\n",
    "        # Click the element using JavaScript\n",
    "        driver.execute_script(\"arguments[0].click();\", element)\n",
    "        time.sleep(1.5)\n",
    "    except:\n",
    "        pass\n",
    "        # print(i, '--> No Book Found')\n",
    "    \n",
    "    publisher = publisher_scrap(driver)\n",
    "    ISBN = ISBN_scrap(driver)\n",
    "    edition = edition_scrap(driver)\n",
    "    number_of_pages = no_of_pages_scrap(driver)\n",
    "    country = country_scrap(driver)\n",
    "    language = language_scrap(driver)\n",
    "    \n",
    "    title_list.append(title)\n",
    "    authors_list.append(authors)\n",
    "    category_list.append(category)\n",
    "    rating_list.append(rating)\n",
    "    no_of_ratings_list.append(no_of_ratings)\n",
    "    no_of_reviews_list.append(no_of_reviews)\n",
    "    original_price_list.append(original_price)\n",
    "    sell_price_list.append(sell_price)\n",
    "    discount_amount_list.append(discount_amount)\n",
    "    discount_percentage_list.append(discount_percentage)\n",
    "    stock_availability_list.append(stock_availability)\n",
    "    no_of_copies_available_list.append(no_of_copies_available)\n",
    "    publisher_list.append(publisher)\n",
    "    ISBN_list.append(ISBN)\n",
    "    edition_list.append(edition)\n",
    "    number_of_pages_list.append(number_of_pages)\n",
    "    country_list.append(country)\n",
    "    language_list.append(language)\n",
    "    \n",
    "    \n",
    "df_lst = [title_list, authors_list, category_list, rating_list, no_of_ratings_list, no_of_reviews_list, original_price_list,\n",
    "          sell_price_list, discount_amount_list, discount_percentage_list, stock_availability_list, no_of_copies_available_list,\n",
    "          publisher_list, ISBN_list, edition_list, number_of_pages_list, country_list, language_list]\n",
    "\n",
    "column_lst = ['Title', 'Authors', 'Category', 'Rating', 'No_of_Rating', 'No_of_Review', 'Original_Price', 'Sell_Price', \n",
    "              'Discount_Amount', 'Discount_Percentage', 'Stock_Availability', 'No_of_Copies_Available', 'Publisher', 'ISBN_No',\n",
    "              'Edition', 'No_of_Pages', 'Country', 'Language']\n",
    "df = pd.DataFrame(df_lst).T\n",
    "df.columns = column_lst\n",
    "df.to_csv('rokomari_book_list_2024.csv', index=False)\n",
    "    "
   ]
  },
  {
   "cell_type": "code",
   "execution_count": 128,
   "id": "d5ffafc9",
   "metadata": {},
   "outputs": [
    {
     "data": {
      "text/html": [
       "<div>\n",
       "<style scoped>\n",
       "    .dataframe tbody tr th:only-of-type {\n",
       "        vertical-align: middle;\n",
       "    }\n",
       "\n",
       "    .dataframe tbody tr th {\n",
       "        vertical-align: top;\n",
       "    }\n",
       "\n",
       "    .dataframe thead th {\n",
       "        text-align: right;\n",
       "    }\n",
       "</style>\n",
       "<table border=\"1\" class=\"dataframe\">\n",
       "  <thead>\n",
       "    <tr style=\"text-align: right;\">\n",
       "      <th></th>\n",
       "      <th>Title</th>\n",
       "      <th>Authors</th>\n",
       "      <th>Category</th>\n",
       "      <th>Rating</th>\n",
       "      <th>No_of_Rating</th>\n",
       "      <th>No_of_Review</th>\n",
       "      <th>Original_Price</th>\n",
       "      <th>Sell_Price</th>\n",
       "      <th>Discount_Amount</th>\n",
       "      <th>Discount_Percentage</th>\n",
       "      <th>Stock_Availability</th>\n",
       "      <th>No_of_Copies_Available</th>\n",
       "      <th>Publisher</th>\n",
       "      <th>ISBN_No</th>\n",
       "      <th>Edition</th>\n",
       "      <th>No_of_Pages</th>\n",
       "      <th>Country</th>\n",
       "      <th>Language</th>\n",
       "    </tr>\n",
       "  </thead>\n",
       "  <tbody>\n",
       "    <tr>\n",
       "      <th>0</th>\n",
       "      <td>সুশাসনের সন্ধানে</td>\n",
       "      <td>আতিউর রহমান</td>\n",
       "      <td>প্রসঙ্গ বাংলাদেশ</td>\n",
       "      <td>5.00</td>\n",
       "      <td>5.0</td>\n",
       "      <td>2.0</td>\n",
       "      <td>325</td>\n",
       "      <td>280</td>\n",
       "      <td>45</td>\n",
       "      <td>14%</td>\n",
       "      <td>NaN</td>\n",
       "      <td>NaN</td>\n",
       "      <td>অন্যপ্রকাশ</td>\n",
       "      <td>9848682368</td>\n",
       "      <td>1st Published, 2003</td>\n",
       "      <td>216.0</td>\n",
       "      <td>বাংলাদেশ</td>\n",
       "      <td>বাংলা</td>\n",
       "    </tr>\n",
       "    <tr>\n",
       "      <th>1</th>\n",
       "      <td>শেষের কবিতা</td>\n",
       "      <td>রবীন্দ্রনাথ ঠাকুর</td>\n",
       "      <td>চিরায়ত উপন্যাস</td>\n",
       "      <td>4.23</td>\n",
       "      <td>83.0</td>\n",
       "      <td>46.0</td>\n",
       "      <td>200</td>\n",
       "      <td>150</td>\n",
       "      <td>50</td>\n",
       "      <td>25%</td>\n",
       "      <td>In Stock</td>\n",
       "      <td>18</td>\n",
       "      <td>বিশ্বসাহিত্য ভবন</td>\n",
       "      <td>98483091351</td>\n",
       "      <td>1st Published, 2014</td>\n",
       "      <td>78.0</td>\n",
       "      <td>বাংলাদেশ</td>\n",
       "      <td>বাংলা</td>\n",
       "    </tr>\n",
       "    <tr>\n",
       "      <th>2</th>\n",
       "      <td>নৌকাডুবি</td>\n",
       "      <td>রবীন্দ্রনাথ ঠাকুর</td>\n",
       "      <td>চিরায়ত উপন্যাস</td>\n",
       "      <td>4.40</td>\n",
       "      <td>20.0</td>\n",
       "      <td>10.0</td>\n",
       "      <td>320</td>\n",
       "      <td>240</td>\n",
       "      <td>80</td>\n",
       "      <td>25%</td>\n",
       "      <td>In Stock</td>\n",
       "      <td>2</td>\n",
       "      <td>বিশ্বসাহিত্য ভবন</td>\n",
       "      <td>98483091431</td>\n",
       "      <td>1st Published, 2019</td>\n",
       "      <td>156.0</td>\n",
       "      <td>বাংলাদেশ</td>\n",
       "      <td>বাংলা</td>\n",
       "    </tr>\n",
       "    <tr>\n",
       "      <th>3</th>\n",
       "      <td>গোরা</td>\n",
       "      <td>রবীন্দ্রনাথ ঠাকুর</td>\n",
       "      <td>চিরায়ত উপন্যাস</td>\n",
       "      <td>4.75</td>\n",
       "      <td>8.0</td>\n",
       "      <td>3.0</td>\n",
       "      <td>300</td>\n",
       "      <td>225</td>\n",
       "      <td>75</td>\n",
       "      <td>25%</td>\n",
       "      <td>In Stock</td>\n",
       "      <td>1</td>\n",
       "      <td>বিশ্বসাহিত্য ভবন</td>\n",
       "      <td>NaN</td>\n",
       "      <td>1st Published, 2018</td>\n",
       "      <td>239.0</td>\n",
       "      <td>বাংলাদেশ</td>\n",
       "      <td>বাংলা</td>\n",
       "    </tr>\n",
       "    <tr>\n",
       "      <th>4</th>\n",
       "      <td>চোখের বালি</td>\n",
       "      <td>রবীন্দ্রনাথ ঠাকুর</td>\n",
       "      <td>চিরায়ত উপন্যাস</td>\n",
       "      <td>4.92</td>\n",
       "      <td>13.0</td>\n",
       "      <td>8.0</td>\n",
       "      <td>300</td>\n",
       "      <td>225</td>\n",
       "      <td>75</td>\n",
       "      <td>25%</td>\n",
       "      <td>In Stock</td>\n",
       "      <td>1</td>\n",
       "      <td>বিশ্বসাহিত্য ভবন</td>\n",
       "      <td>98483095246</td>\n",
       "      <td>1st Published, 2013</td>\n",
       "      <td>156.0</td>\n",
       "      <td>বাংলাদেশ</td>\n",
       "      <td>বাংলা</td>\n",
       "    </tr>\n",
       "    <tr>\n",
       "      <th>...</th>\n",
       "      <td>...</td>\n",
       "      <td>...</td>\n",
       "      <td>...</td>\n",
       "      <td>...</td>\n",
       "      <td>...</td>\n",
       "      <td>...</td>\n",
       "      <td>...</td>\n",
       "      <td>...</td>\n",
       "      <td>...</td>\n",
       "      <td>...</td>\n",
       "      <td>...</td>\n",
       "      <td>...</td>\n",
       "      <td>...</td>\n",
       "      <td>...</td>\n",
       "      <td>...</td>\n",
       "      <td>...</td>\n",
       "      <td>...</td>\n",
       "      <td>...</td>\n",
       "    </tr>\n",
       "    <tr>\n",
       "      <th>20079</th>\n",
       "      <td>শ্রেষ্ঠ উপন্যাস</td>\n",
       "      <td>বঙ্কিমচন্দ্র চট্টোপাধ্যায়</td>\n",
       "      <td>চিরায়ত উপন্যাস</td>\n",
       "      <td>NaN</td>\n",
       "      <td>NaN</td>\n",
       "      <td>NaN</td>\n",
       "      <td>400</td>\n",
       "      <td>344</td>\n",
       "      <td>56</td>\n",
       "      <td>14%</td>\n",
       "      <td>NaN</td>\n",
       "      <td>NaN</td>\n",
       "      <td>জনতা প্রকাশ</td>\n",
       "      <td>9.84703E+12</td>\n",
       "      <td>1st, 2010</td>\n",
       "      <td>528.0</td>\n",
       "      <td>বাংলাদেশ</td>\n",
       "      <td>বাংলা</td>\n",
       "    </tr>\n",
       "    <tr>\n",
       "      <th>20080</th>\n",
       "      <td>শ্রেষ্ঠ রচন</td>\n",
       "      <td>মানিক বন্দ্যোপাধ্যায়</td>\n",
       "      <td>রচনা সংকলন ও সমগ্র</td>\n",
       "      <td>NaN</td>\n",
       "      <td>NaN</td>\n",
       "      <td>NaN</td>\n",
       "      <td>300</td>\n",
       "      <td>258</td>\n",
       "      <td>42</td>\n",
       "      <td>14%</td>\n",
       "      <td>NaN</td>\n",
       "      <td>NaN</td>\n",
       "      <td>জনতা প্রকাশ</td>\n",
       "      <td>NaN</td>\n",
       "      <td>NaN</td>\n",
       "      <td>NaN</td>\n",
       "      <td>বাংলাদেশ</td>\n",
       "      <td>বাংলা</td>\n",
       "    </tr>\n",
       "    <tr>\n",
       "      <th>20081</th>\n",
       "      <td>দহন</td>\n",
       "      <td>নজরুল ইসলাম</td>\n",
       "      <td>সমকালীন উপন্যাস</td>\n",
       "      <td>NaN</td>\n",
       "      <td>NaN</td>\n",
       "      <td>NaN</td>\n",
       "      <td>100</td>\n",
       "      <td>75</td>\n",
       "      <td>25</td>\n",
       "      <td>25%</td>\n",
       "      <td>NaN</td>\n",
       "      <td>NaN</td>\n",
       "      <td>জনতা প্রকাশ</td>\n",
       "      <td>NaN</td>\n",
       "      <td>NaN</td>\n",
       "      <td>NaN</td>\n",
       "      <td>বাংলাদেশ</td>\n",
       "      <td>বাংলা</td>\n",
       "    </tr>\n",
       "    <tr>\n",
       "      <th>20082</th>\n",
       "      <td>এনগেজমেন্ট</td>\n",
       "      <td>রিয়াজ খান</td>\n",
       "      <td>সমকালীন উপন্যাস</td>\n",
       "      <td>NaN</td>\n",
       "      <td>NaN</td>\n",
       "      <td>NaN</td>\n",
       "      <td>60</td>\n",
       "      <td>54</td>\n",
       "      <td>6</td>\n",
       "      <td>10%</td>\n",
       "      <td>NaN</td>\n",
       "      <td>NaN</td>\n",
       "      <td>জনতা প্রকাশ</td>\n",
       "      <td>NaN</td>\n",
       "      <td>NaN</td>\n",
       "      <td>NaN</td>\n",
       "      <td>বাংলাদেশ</td>\n",
       "      <td>বাংলা</td>\n",
       "    </tr>\n",
       "    <tr>\n",
       "      <th>20083</th>\n",
       "      <td>বিরহ বেদন</td>\n",
       "      <td>রফিকুজ্জামান হুমায়ুন</td>\n",
       "      <td>সমকালীন উপন্যাস</td>\n",
       "      <td>NaN</td>\n",
       "      <td>NaN</td>\n",
       "      <td>NaN</td>\n",
       "      <td>150</td>\n",
       "      <td>132</td>\n",
       "      <td>18</td>\n",
       "      <td>12%</td>\n",
       "      <td>NaN</td>\n",
       "      <td>NaN</td>\n",
       "      <td>জনতা প্রকাশ</td>\n",
       "      <td>NaN</td>\n",
       "      <td>NaN</td>\n",
       "      <td>NaN</td>\n",
       "      <td>বাংলাদেশ</td>\n",
       "      <td>বাংলা</td>\n",
       "    </tr>\n",
       "  </tbody>\n",
       "</table>\n",
       "<p>20084 rows × 18 columns</p>\n",
       "</div>"
      ],
      "text/plain": [
       "                  Title                     Authors            Category  \\\n",
       "0      সুশাসনের সন্ধানে                 আতিউর রহমান    প্রসঙ্গ বাংলাদেশ   \n",
       "1           শেষের কবিতা           রবীন্দ্রনাথ ঠাকুর      চিরায়ত উপন্যাস   \n",
       "2              নৌকাডুবি           রবীন্দ্রনাথ ঠাকুর      চিরায়ত উপন্যাস   \n",
       "3                  গোরা           রবীন্দ্রনাথ ঠাকুর      চিরায়ত উপন্যাস   \n",
       "4            চোখের বালি           রবীন্দ্রনাথ ঠাকুর      চিরায়ত উপন্যাস   \n",
       "...                 ...                         ...                 ...   \n",
       "20079   শ্রেষ্ঠ উপন্যাস  বঙ্কিমচন্দ্র চট্টোপাধ্যায়      চিরায়ত উপন্যাস   \n",
       "20080       শ্রেষ্ঠ রচন        মানিক বন্দ্যোপাধ্যায়  রচনা সংকলন ও সমগ্র   \n",
       "20081               দহন                 নজরুল ইসলাম     সমকালীন উপন্যাস   \n",
       "20082        এনগেজমেন্ট                   রিয়াজ খান     সমকালীন উপন্যাস   \n",
       "20083         বিরহ বেদন        রফিকুজ্জামান হুমায়ুন     সমকালীন উপন্যাস   \n",
       "\n",
       "       Rating  No_of_Rating  No_of_Review Original_Price Sell_Price  \\\n",
       "0        5.00           5.0           2.0            325        280   \n",
       "1        4.23          83.0          46.0            200        150   \n",
       "2        4.40          20.0          10.0            320        240   \n",
       "3        4.75           8.0           3.0            300        225   \n",
       "4        4.92          13.0           8.0            300        225   \n",
       "...       ...           ...           ...            ...        ...   \n",
       "20079     NaN           NaN           NaN            400        344   \n",
       "20080     NaN           NaN           NaN            300        258   \n",
       "20081     NaN           NaN           NaN            100         75   \n",
       "20082     NaN           NaN           NaN             60         54   \n",
       "20083     NaN           NaN           NaN            150        132   \n",
       "\n",
       "      Discount_Amount Discount_Percentage Stock_Availability  \\\n",
       "0                  45                 14%                NaN   \n",
       "1                  50                 25%           In Stock   \n",
       "2                  80                 25%           In Stock   \n",
       "3                  75                 25%           In Stock   \n",
       "4                  75                 25%           In Stock   \n",
       "...               ...                 ...                ...   \n",
       "20079              56                 14%                NaN   \n",
       "20080              42                 14%                NaN   \n",
       "20081              25                 25%                NaN   \n",
       "20082               6                 10%                NaN   \n",
       "20083              18                 12%                NaN   \n",
       "\n",
       "      No_of_Copies_Available         Publisher      ISBN_No  \\\n",
       "0                        NaN        অন্যপ্রকাশ   9848682368   \n",
       "1                         18  বিশ্বসাহিত্য ভবন  98483091351   \n",
       "2                          2  বিশ্বসাহিত্য ভবন  98483091431   \n",
       "3                          1  বিশ্বসাহিত্য ভবন          NaN   \n",
       "4                          1  বিশ্বসাহিত্য ভবন  98483095246   \n",
       "...                      ...               ...          ...   \n",
       "20079                    NaN       জনতা প্রকাশ  9.84703E+12   \n",
       "20080                    NaN       জনতা প্রকাশ          NaN   \n",
       "20081                    NaN       জনতা প্রকাশ          NaN   \n",
       "20082                    NaN       জনতা প্রকাশ          NaN   \n",
       "20083                    NaN       জনতা প্রকাশ          NaN   \n",
       "\n",
       "                   Edition  No_of_Pages   Country Language  \n",
       "0      1st Published, 2003        216.0  বাংলাদেশ    বাংলা  \n",
       "1      1st Published, 2014         78.0  বাংলাদেশ    বাংলা  \n",
       "2      1st Published, 2019        156.0  বাংলাদেশ    বাংলা  \n",
       "3      1st Published, 2018        239.0  বাংলাদেশ    বাংলা  \n",
       "4      1st Published, 2013        156.0  বাংলাদেশ    বাংলা  \n",
       "...                    ...          ...       ...      ...  \n",
       "20079            1st, 2010        528.0  বাংলাদেশ    বাংলা  \n",
       "20080                  NaN          NaN  বাংলাদেশ    বাংলা  \n",
       "20081                  NaN          NaN  বাংলাদেশ    বাংলা  \n",
       "20082                  NaN          NaN  বাংলাদেশ    বাংলা  \n",
       "20083                  NaN          NaN  বাংলাদেশ    বাংলা  \n",
       "\n",
       "[20084 rows x 18 columns]"
      ]
     },
     "execution_count": 128,
     "metadata": {},
     "output_type": "execute_result"
    }
   ],
   "source": [
    "df = pd.read_csv('rokomari_book_list_2024.csv')\n",
    "df"
   ]
  },
  {
   "cell_type": "code",
   "execution_count": 129,
   "id": "2950d41d",
   "metadata": {},
   "outputs": [
    {
     "name": "stdout",
     "output_type": "stream",
     "text": [
      "<class 'pandas.core.frame.DataFrame'>\n",
      "RangeIndex: 20084 entries, 0 to 20083\n",
      "Data columns (total 18 columns):\n",
      " #   Column                  Non-Null Count  Dtype  \n",
      "---  ------                  --------------  -----  \n",
      " 0   Title                   20084 non-null  object \n",
      " 1   Authors                 20084 non-null  object \n",
      " 2   Category                20084 non-null  object \n",
      " 3   Rating                  7620 non-null   float64\n",
      " 4   No_of_Rating            7639 non-null   float64\n",
      " 5   No_of_Review            7639 non-null   float64\n",
      " 6   Original_Price          19488 non-null  object \n",
      " 7   Sell_Price              20084 non-null  object \n",
      " 8   Discount_Amount         19488 non-null  object \n",
      " 9   Discount_Percentage     19488 non-null  object \n",
      " 10  Stock_Availability      2664 non-null   object \n",
      " 11  No_of_Copies_Available  2664 non-null   object \n",
      " 12  Publisher               19101 non-null  object \n",
      " 13  ISBN_No                 8885 non-null   object \n",
      " 14  Edition                 8335 non-null   object \n",
      " 15  No_of_Pages             8645 non-null   float64\n",
      " 16  Country                 19083 non-null  object \n",
      " 17  Language                18354 non-null  object \n",
      "dtypes: float64(4), object(14)\n",
      "memory usage: 2.8+ MB\n"
     ]
    }
   ],
   "source": [
    "df.info()"
   ]
  },
  {
   "cell_type": "code",
   "execution_count": null,
   "id": "cb26bb92",
   "metadata": {},
   "outputs": [],
   "source": []
  },
  {
   "cell_type": "code",
   "execution_count": 130,
   "id": "ea91bd8a",
   "metadata": {},
   "outputs": [
    {
     "data": {
      "text/plain": [
       "Title                         0\n",
       "Authors                       0\n",
       "Category                      0\n",
       "Rating                    12464\n",
       "No_of_Rating              12445\n",
       "No_of_Review              12445\n",
       "Original_Price              596\n",
       "Sell_Price                    0\n",
       "Discount_Amount             596\n",
       "Discount_Percentage         596\n",
       "Stock_Availability        17420\n",
       "No_of_Copies_Available    17420\n",
       "Publisher                   983\n",
       "ISBN_No                   11199\n",
       "Edition                   11749\n",
       "No_of_Pages               11439\n",
       "Country                    1001\n",
       "Language                   1730\n",
       "dtype: int64"
      ]
     },
     "execution_count": 130,
     "metadata": {},
     "output_type": "execute_result"
    }
   ],
   "source": [
    "df.isna().sum()"
   ]
  },
  {
   "cell_type": "code",
   "execution_count": 138,
   "id": "8c89f867",
   "metadata": {},
   "outputs": [
    {
     "data": {
      "text/html": [
       "<div>\n",
       "<style scoped>\n",
       "    .dataframe tbody tr th:only-of-type {\n",
       "        vertical-align: middle;\n",
       "    }\n",
       "\n",
       "    .dataframe tbody tr th {\n",
       "        vertical-align: top;\n",
       "    }\n",
       "\n",
       "    .dataframe thead th {\n",
       "        text-align: right;\n",
       "    }\n",
       "</style>\n",
       "<table border=\"1\" class=\"dataframe\">\n",
       "  <thead>\n",
       "    <tr style=\"text-align: right;\">\n",
       "      <th></th>\n",
       "      <th>Authors</th>\n",
       "    </tr>\n",
       "  </thead>\n",
       "  <tbody>\n",
       "    <tr>\n",
       "      <th>হুমায়ূন আহমেদ</th>\n",
       "      <td>301</td>\n",
       "    </tr>\n",
       "    <tr>\n",
       "      <th>ইমদাদুল হক মিলন</th>\n",
       "      <td>199</td>\n",
       "    </tr>\n",
       "    <tr>\n",
       "      <th>আলী ইমাম</th>\n",
       "      <td>181</td>\n",
       "    </tr>\n",
       "    <tr>\n",
       "      <th>রবীন্দ্রনাথ ঠাকুর</th>\n",
       "      <td>174</td>\n",
       "    </tr>\n",
       "    <tr>\n",
       "      <th>শরৎচন্দ্র চট্টোপাধ্যায়</th>\n",
       "      <td>121</td>\n",
       "    </tr>\n",
       "    <tr>\n",
       "      <th>মুহম্মদ জাফর ইকবাল</th>\n",
       "      <td>100</td>\n",
       "    </tr>\n",
       "    <tr>\n",
       "      <th>আনিসুল হক</th>\n",
       "      <td>80</td>\n",
       "    </tr>\n",
       "    <tr>\n",
       "      <th>আমীরুল ইসলাম</th>\n",
       "      <td>79</td>\n",
       "    </tr>\n",
       "    <tr>\n",
       "      <th>মুনতাসীর মামুন</th>\n",
       "      <td>78</td>\n",
       "    </tr>\n",
       "    <tr>\n",
       "      <th>কাজী নজরুল ইসলাম</th>\n",
       "      <td>69</td>\n",
       "    </tr>\n",
       "  </tbody>\n",
       "</table>\n",
       "</div>"
      ],
      "text/plain": [
       "                         Authors\n",
       "হুমায়ূন আহমেদ                301\n",
       "ইমদাদুল হক মিলন              199\n",
       "আলী ইমাম                     181\n",
       "রবীন্দ্রনাথ ঠাকুর            174\n",
       "শরৎচন্দ্র চট্টোপাধ্যায়      121\n",
       "মুহম্মদ জাফর ইকবাল           100\n",
       "আনিসুল হক                     80\n",
       "আমীরুল ইসলাম                  79\n",
       "মুনতাসীর মামুন                78\n",
       "কাজী নজরুল ইসলাম              69"
      ]
     },
     "execution_count": 138,
     "metadata": {},
     "output_type": "execute_result"
    }
   ],
   "source": [
    "pd.DataFrame(df['Authors'].value_counts()[:10])"
   ]
  },
  {
   "cell_type": "code",
   "execution_count": null,
   "id": "c75dda4e",
   "metadata": {},
   "outputs": [],
   "source": []
  }
 ],
 "metadata": {
  "kernelspec": {
   "display_name": "Python 3 (ipykernel)",
   "language": "python",
   "name": "python3"
  },
  "language_info": {
   "codemirror_mode": {
    "name": "ipython",
    "version": 3
   },
   "file_extension": ".py",
   "mimetype": "text/x-python",
   "name": "python",
   "nbconvert_exporter": "python",
   "pygments_lexer": "ipython3",
   "version": "3.9.12"
  }
 },
 "nbformat": 4,
 "nbformat_minor": 5
}

{
 "cells": [
  {
   "cell_type": "code",
   "execution_count": 1,
   "id": "d41d7885",
   "metadata": {},
   "outputs": [],
   "source": [
    "from selenium import webdriver\n",
    "from selenium.webdriver.common.keys import Keys\n",
    "from selenium.webdriver.common.by import By\n",
    "import pandas as pd\n",
    "import time"
   ]
  },
  {
   "cell_type": "code",
   "execution_count": 2,
   "id": "068c324d",
   "metadata": {},
   "outputs": [
    {
     "name": "stderr",
     "output_type": "stream",
     "text": [
      "C:\\Users\\Minju Mojumder\\AppData\\Local\\Temp\\ipykernel_13032\\2198018425.py:1: DeprecationWarning: executable_path has been deprecated, please pass in a Service object\n",
      "  driver = webdriver.Chrome('../chromedriver.exe')\n"
     ]
    }
   ],
   "source": [
    "driver = webdriver.Chrome('../chromedriver.exe')"
   ]
  },
  {
   "cell_type": "markdown",
   "id": "72fded36",
   "metadata": {},
   "source": [
    "## Test"
   ]
  },
  {
   "cell_type": "code",
   "execution_count": 362,
   "id": "ec77b367",
   "metadata": {},
   "outputs": [],
   "source": [
    "driver.get('https://www.rokomari.com/book/968/')"
   ]
  },
  {
   "cell_type": "markdown",
   "id": "22f04f78",
   "metadata": {},
   "source": [
    "### Title"
   ]
  },
  {
   "cell_type": "code",
   "execution_count": 69,
   "id": "0d6019f0",
   "metadata": {},
   "outputs": [],
   "source": [
    "title = driver.find_elements(By.TAG_NAME, 'h1')"
   ]
  },
  {
   "cell_type": "code",
   "execution_count": 70,
   "id": "61a5899f",
   "metadata": {},
   "outputs": [
    {
     "data": {
      "text/plain": [
       "[<selenium.webdriver.remote.webelement.WebElement (session=\"8bfa336061fb15c2a393204902df1e77\", element=\"20413A90D2DE5EC08D8D067574DBC2EF_element_977\")>]"
      ]
     },
     "execution_count": 70,
     "metadata": {},
     "output_type": "execute_result"
    }
   ],
   "source": [
    "title"
   ]
  },
  {
   "cell_type": "code",
   "execution_count": 71,
   "id": "993044ca",
   "metadata": {},
   "outputs": [
    {
     "data": {
      "text/plain": [
       "'জোছনা ও জননীর গল্প (হার্ডকভার)'"
      ]
     },
     "execution_count": 71,
     "metadata": {},
     "output_type": "execute_result"
    }
   ],
   "source": [
    "title[0].text"
   ]
  },
  {
   "cell_type": "code",
   "execution_count": 72,
   "id": "291135cb",
   "metadata": {},
   "outputs": [
    {
     "data": {
      "text/plain": [
       "'জোছনা ও জননীর গল্প'"
      ]
     },
     "execution_count": 72,
     "metadata": {},
     "output_type": "execute_result"
    }
   ],
   "source": [
    "title[0].text.rstrip(' (হার্ডকভার)')"
   ]
  },
  {
   "cell_type": "markdown",
   "id": "6a436e1f",
   "metadata": {},
   "source": [
    "### Author(s)"
   ]
  },
  {
   "cell_type": "code",
   "execution_count": 73,
   "id": "f69865f1",
   "metadata": {},
   "outputs": [],
   "source": [
    "authors = driver.find_elements(By.CSS_SELECTOR, '#details-page > section.details-book-section.d-flex.align-items-base > div.details-book-main-info-wrapper > div > div.col.details-book-main-info.align-self-center > div.details-book-main-info__content > p.details-book-info__content-author')"
   ]
  },
  {
   "cell_type": "code",
   "execution_count": 74,
   "id": "6275e380",
   "metadata": {},
   "outputs": [
    {
     "data": {
      "text/plain": [
       "[<selenium.webdriver.remote.webelement.WebElement (session=\"8bfa336061fb15c2a393204902df1e77\", element=\"20413A90D2DE5EC08D8D067574DBC2EF_element_953\")>]"
      ]
     },
     "execution_count": 74,
     "metadata": {},
     "output_type": "execute_result"
    }
   ],
   "source": [
    "authors"
   ]
  },
  {
   "cell_type": "code",
   "execution_count": 75,
   "id": "be58d9d8",
   "metadata": {},
   "outputs": [
    {
     "data": {
      "text/plain": [
       "'by হুমায়ূন আহমেদ'"
      ]
     },
     "execution_count": 75,
     "metadata": {},
     "output_type": "execute_result"
    }
   ],
   "source": [
    "authors[0].text"
   ]
  },
  {
   "cell_type": "code",
   "execution_count": 76,
   "id": "607f1e72",
   "metadata": {},
   "outputs": [
    {
     "data": {
      "text/plain": [
       "'হুমায়ূন আহমেদ'"
      ]
     },
     "execution_count": 76,
     "metadata": {},
     "output_type": "execute_result"
    }
   ],
   "source": [
    "authors[0].text.lstrip('by ')"
   ]
  },
  {
   "cell_type": "markdown",
   "id": "3eedaad3",
   "metadata": {},
   "source": [
    "### Category"
   ]
  },
  {
   "cell_type": "code",
   "execution_count": 77,
   "id": "6d95b419",
   "metadata": {},
   "outputs": [],
   "source": [
    "category = driver.find_elements(By.CSS_SELECTOR, '#details-page > section.details-book-section.d-flex.align-items-base > div.details-book-main-info-wrapper > div > div.col.details-book-main-info.align-self-center > div.details-book-main-info__content > div.details-book-info__content-category.d-flex.align-items-center')"
   ]
  },
  {
   "cell_type": "code",
   "execution_count": 78,
   "id": "ca8a7bdc",
   "metadata": {},
   "outputs": [
    {
     "data": {
      "text/plain": [
       "[<selenium.webdriver.remote.webelement.WebElement (session=\"8bfa336061fb15c2a393204902df1e77\", element=\"20413A90D2DE5EC08D8D067574DBC2EF_element_954\")>]"
      ]
     },
     "execution_count": 78,
     "metadata": {},
     "output_type": "execute_result"
    }
   ],
   "source": [
    "category"
   ]
  },
  {
   "cell_type": "code",
   "execution_count": 79,
   "id": "df74aa42",
   "metadata": {},
   "outputs": [
    {
     "data": {
      "text/plain": [
       "'Category:\\n#2 Best Seller in\\nরাজনৈতিক ও মুক্তিযুদ্ধভিত্তিক উপন্যাস'"
      ]
     },
     "execution_count": 79,
     "metadata": {},
     "output_type": "execute_result"
    }
   ],
   "source": [
    "category[0].text"
   ]
  },
  {
   "cell_type": "code",
   "execution_count": 80,
   "id": "6441c3e3",
   "metadata": {},
   "outputs": [
    {
     "data": {
      "text/plain": [
       "'রাজনৈতিক ও মুক্তিযুদ্ধভিত্তিক উপন্যাস'"
      ]
     },
     "execution_count": 80,
     "metadata": {},
     "output_type": "execute_result"
    }
   ],
   "source": [
    "category[0].text.split('\\n')[-1]"
   ]
  },
  {
   "cell_type": "markdown",
   "id": "2748f877",
   "metadata": {},
   "source": [
    "### Rating"
   ]
  },
  {
   "cell_type": "code",
   "execution_count": 81,
   "id": "f8a4ba38",
   "metadata": {},
   "outputs": [],
   "source": [
    "rating = driver.find_elements(By.CSS_SELECTOR, '#summary > div.review-wrapper > div.d-flex.align-items-start.justify-content-start.mt-2 > div > div.review-wrapper__rating-summary > h3')"
   ]
  },
  {
   "cell_type": "code",
   "execution_count": 82,
   "id": "273796c9",
   "metadata": {},
   "outputs": [
    {
     "data": {
      "text/plain": [
       "[<selenium.webdriver.remote.webelement.WebElement (session=\"8bfa336061fb15c2a393204902df1e77\", element=\"20413A90D2DE5EC08D8D067574DBC2EF_element_1062\")>]"
      ]
     },
     "execution_count": 82,
     "metadata": {},
     "output_type": "execute_result"
    }
   ],
   "source": [
    "rating"
   ]
  },
  {
   "cell_type": "code",
   "execution_count": 83,
   "id": "88200839",
   "metadata": {},
   "outputs": [
    {
     "data": {
      "text/plain": [
       "'4.62'"
      ]
     },
     "execution_count": 83,
     "metadata": {},
     "output_type": "execute_result"
    }
   ],
   "source": [
    "rating[0].text"
   ]
  },
  {
   "cell_type": "markdown",
   "id": "acd4df69",
   "metadata": {},
   "source": [
    "### Number of Rating and Reviews"
   ]
  },
  {
   "cell_type": "code",
   "execution_count": 89,
   "id": "e7627cba",
   "metadata": {},
   "outputs": [],
   "source": [
    "no_of_ratings_and_reviews = driver.find_elements(By.CSS_SELECTOR, '#js--rating-review-count-summary')"
   ]
  },
  {
   "cell_type": "code",
   "execution_count": 90,
   "id": "8f92d883",
   "metadata": {},
   "outputs": [
    {
     "data": {
      "text/plain": [
       "[<selenium.webdriver.remote.webelement.WebElement (session=\"8bfa336061fb15c2a393204902df1e77\", element=\"20413A90D2DE5EC08D8D067574DBC2EF_element_1065\")>]"
      ]
     },
     "execution_count": 90,
     "metadata": {},
     "output_type": "execute_result"
    }
   ],
   "source": [
    "no_of_ratings_and_reviews"
   ]
  },
  {
   "cell_type": "code",
   "execution_count": 91,
   "id": "92f0dba6",
   "metadata": {},
   "outputs": [
    {
     "data": {
      "text/plain": [
       "'306 Ratings and 120 Reviews'"
      ]
     },
     "execution_count": 91,
     "metadata": {},
     "output_type": "execute_result"
    }
   ],
   "source": [
    "no_of_ratings_and_reviews[0].text"
   ]
  },
  {
   "cell_type": "code",
   "execution_count": 92,
   "id": "9c33a4d5",
   "metadata": {},
   "outputs": [
    {
     "data": {
      "text/plain": [
       "'306'"
      ]
     },
     "execution_count": 92,
     "metadata": {},
     "output_type": "execute_result"
    }
   ],
   "source": [
    "no_of_ratings = no_of_ratings_and_reviews[0].text.split()[0]\n",
    "no_of_ratings"
   ]
  },
  {
   "cell_type": "code",
   "execution_count": 93,
   "id": "a05d2f2f",
   "metadata": {},
   "outputs": [
    {
     "data": {
      "text/plain": [
       "'120'"
      ]
     },
     "execution_count": 93,
     "metadata": {},
     "output_type": "execute_result"
    }
   ],
   "source": [
    "no_of_reviews = no_of_ratings_and_reviews[0].text.split()[3]\n",
    "no_of_reviews"
   ]
  },
  {
   "cell_type": "markdown",
   "id": "4209e3bb",
   "metadata": {},
   "source": [
    "### Actual Price"
   ]
  },
  {
   "cell_type": "code",
   "execution_count": 94,
   "id": "f722ebfe",
   "metadata": {},
   "outputs": [],
   "source": [
    "actual_price = driver.find_element(By.CSS_SELECTOR, '#details-page > section.details-book-section.d-flex.align-items-base > div.details-book-main-info-wrapper > div > div.col.details-book-main-info.align-self-center > div.details-book-main-info__content > div.details-book-info__content-book-price > strike')"
   ]
  },
  {
   "cell_type": "code",
   "execution_count": 95,
   "id": "cfec7ceb",
   "metadata": {},
   "outputs": [
    {
     "data": {
      "text/plain": [
       "<selenium.webdriver.remote.webelement.WebElement (session=\"8bfa336061fb15c2a393204902df1e77\", element=\"20413A90D2DE5EC08D8D067574DBC2EF_element_1078\")>"
      ]
     },
     "execution_count": 95,
     "metadata": {},
     "output_type": "execute_result"
    }
   ],
   "source": [
    "actual_price"
   ]
  },
  {
   "cell_type": "code",
   "execution_count": 96,
   "id": "fb7931db",
   "metadata": {},
   "outputs": [
    {
     "data": {
      "text/plain": [
       "'TK. 800'"
      ]
     },
     "execution_count": 96,
     "metadata": {},
     "output_type": "execute_result"
    }
   ],
   "source": [
    "actual_price.text"
   ]
  },
  {
   "cell_type": "code",
   "execution_count": 97,
   "id": "2c8ae2d6",
   "metadata": {},
   "outputs": [
    {
     "data": {
      "text/plain": [
       "'800'"
      ]
     },
     "execution_count": 97,
     "metadata": {},
     "output_type": "execute_result"
    }
   ],
   "source": [
    "actual_price.text.split()[1]"
   ]
  },
  {
   "cell_type": "markdown",
   "id": "d97e08ca",
   "metadata": {},
   "source": [
    "### Discount Price"
   ]
  },
  {
   "cell_type": "code",
   "execution_count": 98,
   "id": "2d995cef",
   "metadata": {},
   "outputs": [],
   "source": [
    "discount_price = driver.find_element(By.CSS_SELECTOR, '#details-page > section.details-book-section.d-flex.align-items-base > div.details-book-main-info-wrapper > div > div.col.details-book-main-info.align-self-center > div.details-book-main-info__content > div.details-book-info__content-book-price > span.sell-price')"
   ]
  },
  {
   "cell_type": "code",
   "execution_count": 99,
   "id": "73eb300a",
   "metadata": {},
   "outputs": [
    {
     "data": {
      "text/plain": [
       "<selenium.webdriver.remote.webelement.WebElement (session=\"8bfa336061fb15c2a393204902df1e77\", element=\"20413A90D2DE5EC08D8D067574DBC2EF_element_1080\")>"
      ]
     },
     "execution_count": 99,
     "metadata": {},
     "output_type": "execute_result"
    }
   ],
   "source": [
    "discount_price"
   ]
  },
  {
   "cell_type": "code",
   "execution_count": 100,
   "id": "b41d2172",
   "metadata": {},
   "outputs": [
    {
     "data": {
      "text/plain": [
       "'TK. 600'"
      ]
     },
     "execution_count": 100,
     "metadata": {},
     "output_type": "execute_result"
    }
   ],
   "source": [
    "discount_price.text"
   ]
  },
  {
   "cell_type": "code",
   "execution_count": 101,
   "id": "607546cc",
   "metadata": {},
   "outputs": [
    {
     "data": {
      "text/plain": [
       "'600'"
      ]
     },
     "execution_count": 101,
     "metadata": {},
     "output_type": "execute_result"
    }
   ],
   "source": [
    "discount_price.text.split()[1]"
   ]
  },
  {
   "cell_type": "markdown",
   "id": "0e3f710e",
   "metadata": {},
   "source": [
    "### Discount Amount and Percentage"
   ]
  },
  {
   "cell_type": "code",
   "execution_count": 102,
   "id": "6cf89b3d",
   "metadata": {},
   "outputs": [
    {
     "data": {
      "text/plain": [
       "<selenium.webdriver.remote.webelement.WebElement (session=\"8bfa336061fb15c2a393204902df1e77\", element=\"20413A90D2DE5EC08D8D067574DBC2EF_element_995\")>"
      ]
     },
     "execution_count": 102,
     "metadata": {},
     "output_type": "execute_result"
    }
   ],
   "source": [
    "discount_amount_percentage = driver.find_element(By.CSS_SELECTOR, '#details-page > section.details-book-section.d-flex.align-items-base > div.details-book-main-info-wrapper > div > div.col.details-book-main-info.align-self-center > div.details-book-main-info__content > div.details-book-info__content-book-price > span.discount > span')\n",
    "discount_amount_percentage"
   ]
  },
  {
   "cell_type": "code",
   "execution_count": 103,
   "id": "7f01d769",
   "metadata": {},
   "outputs": [
    {
     "data": {
      "text/plain": [
       "'You Save TK. 200 (25%)'"
      ]
     },
     "execution_count": 103,
     "metadata": {},
     "output_type": "execute_result"
    }
   ],
   "source": [
    "discount_amount_percentage.text"
   ]
  },
  {
   "cell_type": "code",
   "execution_count": 105,
   "id": "4d560bb1",
   "metadata": {},
   "outputs": [
    {
     "data": {
      "text/plain": [
       "'200'"
      ]
     },
     "execution_count": 105,
     "metadata": {},
     "output_type": "execute_result"
    }
   ],
   "source": [
    "discount_amount = discount_amount_percentage.text.split()[3]\n",
    "discount_amount"
   ]
  },
  {
   "cell_type": "code",
   "execution_count": 109,
   "id": "9ea8929d",
   "metadata": {},
   "outputs": [
    {
     "data": {
      "text/plain": [
       "'25%'"
      ]
     },
     "execution_count": 109,
     "metadata": {},
     "output_type": "execute_result"
    }
   ],
   "source": [
    "discount_percentage = discount_amount_percentage.text.split()[4]\n",
    "discount_percentage.strip('()')"
   ]
  },
  {
   "cell_type": "markdown",
   "id": "fbb468b8",
   "metadata": {},
   "source": [
    "### Stock Availability and Number of Copies Available"
   ]
  },
  {
   "cell_type": "code",
   "execution_count": 364,
   "id": "397c6ceb",
   "metadata": {},
   "outputs": [
    {
     "data": {
      "text/plain": [
       "<selenium.webdriver.remote.webelement.WebElement (session=\"04e5eecfb534d88216f6ba589d1417c8\", element=\"2000B32BF5DFFBA0A58CD8C5906907E2_element_2566\")>"
      ]
     },
     "execution_count": 364,
     "metadata": {},
     "output_type": "execute_result"
    }
   ],
   "source": [
    "stock_availability_and_no_of_copies_available = driver.find_element(By.CLASS_NAME, 'stock-available')\n",
    "stock_availability_and_no_of_copies_available"
   ]
  },
  {
   "cell_type": "code",
   "execution_count": 370,
   "id": "46ff1eb3",
   "metadata": {},
   "outputs": [
    {
     "data": {
      "text/plain": [
       "'In Stock (37 copies available)'"
      ]
     },
     "execution_count": 370,
     "metadata": {},
     "output_type": "execute_result"
    }
   ],
   "source": [
    "stock_availability_and_no_of_copies_available.text"
   ]
  },
  {
   "cell_type": "code",
   "execution_count": 367,
   "id": "b3921bb8",
   "metadata": {},
   "outputs": [],
   "source": [
    "if 'only' in stock_availability_and_no_of_copies_available.text:\n",
    "    stock_availability = stock_availability_and_no_of_copies_available.text.split('\\n')[0].strip()\n",
    "    no_of_copies_available = stock_availability_and_no_of_copies_available.text.split('\\n')[1].split()[1]\n",
    "elif 'available' in stock_availability_and_no_of_copies_available.text:\n",
    "    stock_availability = stock_availability_and_no_of_copies_available.text.split('(')[0].strip()\n",
    "    no_of_copies_available = stock_availability_and_no_of_copies_available.text.split('(')[1].split()[0]"
   ]
  },
  {
   "cell_type": "code",
   "execution_count": 368,
   "id": "94cd2f50",
   "metadata": {},
   "outputs": [
    {
     "data": {
      "text/plain": [
       "'In Stock'"
      ]
     },
     "execution_count": 368,
     "metadata": {},
     "output_type": "execute_result"
    }
   ],
   "source": [
    "stock_availability"
   ]
  },
  {
   "cell_type": "code",
   "execution_count": 369,
   "id": "8730e236",
   "metadata": {},
   "outputs": [
    {
     "data": {
      "text/plain": [
       "'37'"
      ]
     },
     "execution_count": 369,
     "metadata": {},
     "output_type": "execute_result"
    }
   ],
   "source": [
    "no_of_copies_available"
   ]
  },
  {
   "cell_type": "code",
   "execution_count": 380,
   "id": "28c32915",
   "metadata": {},
   "outputs": [
    {
     "name": "stdout",
     "output_type": "stream",
     "text": [
      "In Stock\n",
      "(only 1 copy left)\n",
      "\n",
      "\n",
      "\n",
      "Stock Available: In Stock\n",
      "No of copies available: 1\n"
     ]
    }
   ],
   "source": [
    "driver.get('https://www.rokomari.com/book/18/')\n",
    "\n",
    "stock_availability_and_no_of_copies_available = driver.find_element(By.CLASS_NAME, 'stock-available')\n",
    "print(stock_availability_and_no_of_copies_available.text)\n",
    "\n",
    "if 'only' in stock_availability_and_no_of_copies_available.text:\n",
    "    stock_availability = stock_availability_and_no_of_copies_available.text.split('\\n')[0].strip()\n",
    "    no_of_copies_available = stock_availability_and_no_of_copies_available.text.split('\\n')[1].split()[1]\n",
    "elif 'available' in stock_availability_and_no_of_copies_available.text:\n",
    "    stock_availability = stock_availability_and_no_of_copies_available.text.split('(')[0].strip()\n",
    "    no_of_copies_available = stock_availability_and_no_of_copies_available.text.split('(')[1].split()[0]\n",
    "    \n",
    "print('\\n\\n')\n",
    "print(f'Stock Available: {stock_availability}')\n",
    "print(f'No of copies available: {no_of_copies_available}')"
   ]
  },
  {
   "cell_type": "markdown",
   "id": "2436c47b",
   "metadata": {},
   "source": [
    "### Publisher"
   ]
  },
  {
   "cell_type": "code",
   "execution_count": 137,
   "id": "dd346974",
   "metadata": {},
   "outputs": [
    {
     "data": {
      "text/plain": [
       "<selenium.webdriver.remote.webelement.WebElement (session=\"8bfa336061fb15c2a393204902df1e77\", element=\"20413A90D2DE5EC08D8D067574DBC2EF_element_1139\")>"
      ]
     },
     "execution_count": 137,
     "metadata": {},
     "output_type": "execute_result"
    }
   ],
   "source": [
    "puslisher = driver.find_element(By.CSS_SELECTOR, '#book-additional-specification > table > tbody > tr:nth-child(3) > td.publisher-link > a')\n",
    "puslisher"
   ]
  },
  {
   "cell_type": "code",
   "execution_count": 138,
   "id": "e5fa8f00",
   "metadata": {},
   "outputs": [
    {
     "data": {
      "text/plain": [
       "'অন্যপ্রকাশ'"
      ]
     },
     "execution_count": 138,
     "metadata": {},
     "output_type": "execute_result"
    }
   ],
   "source": [
    "puslisher.text"
   ]
  },
  {
   "cell_type": "markdown",
   "id": "d07c8369",
   "metadata": {},
   "source": [
    "### ISBN"
   ]
  },
  {
   "cell_type": "code",
   "execution_count": 139,
   "id": "55268d53",
   "metadata": {},
   "outputs": [
    {
     "data": {
      "text/plain": [
       "<selenium.webdriver.remote.webelement.WebElement (session=\"8bfa336061fb15c2a393204902df1e77\", element=\"20413A90D2DE5EC08D8D067574DBC2EF_element_1117\")>"
      ]
     },
     "execution_count": 139,
     "metadata": {},
     "output_type": "execute_result"
    }
   ],
   "source": [
    "ISBN = driver.find_element(By.CSS_SELECTOR, '#book-additional-specification > table > tbody > tr:nth-child(4) > td:nth-child(2)')\n",
    "ISBN"
   ]
  },
  {
   "cell_type": "code",
   "execution_count": 140,
   "id": "82ca4944",
   "metadata": {},
   "outputs": [
    {
     "data": {
      "text/plain": [
       "'9848682767'"
      ]
     },
     "execution_count": 140,
     "metadata": {},
     "output_type": "execute_result"
    }
   ],
   "source": [
    "ISBN.text"
   ]
  },
  {
   "cell_type": "markdown",
   "id": "a8173624",
   "metadata": {},
   "source": [
    "### Edition"
   ]
  },
  {
   "cell_type": "code",
   "execution_count": 141,
   "id": "691ef8dd",
   "metadata": {},
   "outputs": [
    {
     "data": {
      "text/plain": [
       "<selenium.webdriver.remote.webelement.WebElement (session=\"8bfa336061fb15c2a393204902df1e77\", element=\"20413A90D2DE5EC08D8D067574DBC2EF_element_1144\")>"
      ]
     },
     "execution_count": 141,
     "metadata": {},
     "output_type": "execute_result"
    }
   ],
   "source": [
    "edition = driver.find_element(By.CSS_SELECTOR, '#book-additional-specification > table > tbody > tr:nth-child(5) > td:nth-child(2)')\n",
    "edition"
   ]
  },
  {
   "cell_type": "code",
   "execution_count": 142,
   "id": "bf3b2829",
   "metadata": {},
   "outputs": [
    {
     "data": {
      "text/plain": [
       "'8th'"
      ]
     },
     "execution_count": 142,
     "metadata": {},
     "output_type": "execute_result"
    }
   ],
   "source": [
    "edition.text"
   ]
  },
  {
   "cell_type": "markdown",
   "id": "5a21410d",
   "metadata": {},
   "source": [
    "### Number of Pages"
   ]
  },
  {
   "cell_type": "code",
   "execution_count": 143,
   "id": "7c844e63",
   "metadata": {},
   "outputs": [
    {
     "data": {
      "text/plain": [
       "<selenium.webdriver.remote.webelement.WebElement (session=\"8bfa336061fb15c2a393204902df1e77\", element=\"20413A90D2DE5EC08D8D067574DBC2EF_element_1119\")>"
      ]
     },
     "execution_count": 143,
     "metadata": {},
     "output_type": "execute_result"
    }
   ],
   "source": [
    "no_of_pages = driver.find_element(By.CSS_SELECTOR, '#book-additional-specification > table > tbody > tr:nth-child(6) > td:nth-child(2)')\n",
    "no_of_pages"
   ]
  },
  {
   "cell_type": "code",
   "execution_count": 144,
   "id": "22b56e9e",
   "metadata": {},
   "outputs": [
    {
     "data": {
      "text/plain": [
       "'528'"
      ]
     },
     "execution_count": 144,
     "metadata": {},
     "output_type": "execute_result"
    }
   ],
   "source": [
    "no_of_pages.text"
   ]
  },
  {
   "cell_type": "markdown",
   "id": "4c635030",
   "metadata": {},
   "source": [
    "### Country"
   ]
  },
  {
   "cell_type": "code",
   "execution_count": 145,
   "id": "5b3c07ac",
   "metadata": {},
   "outputs": [
    {
     "data": {
      "text/plain": [
       "<selenium.webdriver.remote.webelement.WebElement (session=\"8bfa336061fb15c2a393204902df1e77\", element=\"20413A90D2DE5EC08D8D067574DBC2EF_element_1154\")>"
      ]
     },
     "execution_count": 145,
     "metadata": {},
     "output_type": "execute_result"
    }
   ],
   "source": [
    "country = driver.find_element(By.CSS_SELECTOR, '#book-additional-specification > table > tbody > tr:nth-child(7) > td:nth-child(2)')\n",
    "country"
   ]
  },
  {
   "cell_type": "code",
   "execution_count": 146,
   "id": "66dc167a",
   "metadata": {},
   "outputs": [
    {
     "data": {
      "text/plain": [
       "'বাংলাদেশ'"
      ]
     },
     "execution_count": 146,
     "metadata": {},
     "output_type": "execute_result"
    }
   ],
   "source": [
    "country.text"
   ]
  },
  {
   "cell_type": "markdown",
   "id": "eb504e29",
   "metadata": {},
   "source": [
    "### Language"
   ]
  },
  {
   "cell_type": "code",
   "execution_count": 147,
   "id": "7b329697",
   "metadata": {},
   "outputs": [
    {
     "data": {
      "text/plain": [
       "<selenium.webdriver.remote.webelement.WebElement (session=\"8bfa336061fb15c2a393204902df1e77\", element=\"20413A90D2DE5EC08D8D067574DBC2EF_element_1158\")>"
      ]
     },
     "execution_count": 147,
     "metadata": {},
     "output_type": "execute_result"
    }
   ],
   "source": [
    "language  = driver.find_element(By.CSS_SELECTOR, '#book-additional-specification > table > tbody > tr:nth-child(8) > td:nth-child(2)')\n",
    "language"
   ]
  },
  {
   "cell_type": "code",
   "execution_count": 148,
   "id": "9b0d912c",
   "metadata": {},
   "outputs": [
    {
     "data": {
      "text/plain": [
       "'বাংলা'"
      ]
     },
     "execution_count": 148,
     "metadata": {},
     "output_type": "execute_result"
    }
   ],
   "source": [
    "language.text"
   ]
  },
  {
   "cell_type": "code",
   "execution_count": null,
   "id": "e04ec8b5",
   "metadata": {},
   "outputs": [],
   "source": []
  },
  {
   "cell_type": "code",
   "execution_count": null,
   "id": "2a786b22",
   "metadata": {},
   "outputs": [],
   "source": []
  },
  {
   "cell_type": "markdown",
   "id": "1c1bf8f7",
   "metadata": {},
   "source": [
    "## Main"
   ]
  },
  {
   "cell_type": "code",
   "execution_count": 3,
   "id": "17180a41",
   "metadata": {},
   "outputs": [],
   "source": [
    "def title_scrap(driver):\n",
    "    try:\n",
    "        title_element = driver.find_element(By.TAG_NAME, 'h1')\n",
    "        title = title_element.text.rstrip('(হার্ডকভার)').strip()\n",
    "        return title\n",
    "    except:\n",
    "        return 'N/A'"
   ]
  },
  {
   "cell_type": "code",
   "execution_count": 4,
   "id": "e04a9be3",
   "metadata": {},
   "outputs": [],
   "source": [
    "def author_scrap(driver):\n",
    "    try:\n",
    "        authors_element = driver.find_element(By.CSS_SELECTOR, '#details-page > section.details-book-section.d-flex.align-items-base > div.details-book-main-info-wrapper > div > div.col.details-book-main-info.align-self-center > div.details-book-main-info__content > p.details-book-info__content-author')\n",
    "        authors = authors_element.text.lstrip('by ')\n",
    "        return authors\n",
    "    except:\n",
    "        return 'N/A'"
   ]
  },
  {
   "cell_type": "code",
   "execution_count": 5,
   "id": "a6cccdb9",
   "metadata": {},
   "outputs": [],
   "source": [
    "def category_scrap(driver):\n",
    "    try:\n",
    "        category_element = driver.find_element(By.CSS_SELECTOR, '#details-page > section.details-book-section.d-flex.align-items-base > div.details-book-main-info-wrapper > div > div.col.details-book-main-info.align-self-center > div.details-book-main-info__content > div.details-book-info__content-category.d-flex.align-items-center')\n",
    "        category = category_element.text.split('\\n')[-1]\n",
    "        return category\n",
    "    except:\n",
    "        return 'N/A'"
   ]
  },
  {
   "cell_type": "code",
   "execution_count": 6,
   "id": "db89e6c4",
   "metadata": {},
   "outputs": [],
   "source": [
    "def rating_scrap(driver):\n",
    "    try:\n",
    "        rating_element = driver.find_element(By.CSS_SELECTOR, '#summary > div.review-wrapper > div.d-flex.align-items-start.justify-content-start.mt-2 > div > div.review-wrapper__rating-summary > h3')\n",
    "        rating = rating_element.text\n",
    "        return rating\n",
    "    except:\n",
    "        return 'N/A'"
   ]
  },
  {
   "cell_type": "code",
   "execution_count": 7,
   "id": "fe3af659",
   "metadata": {},
   "outputs": [],
   "source": [
    "def no_of_rating_and_review_scrap(driver):\n",
    "    try:\n",
    "        no_of_ratings_and_reviews_element = driver.find_element(By.CSS_SELECTOR, '#js--rating-review-count-summary')\n",
    "        no_of_ratings = no_of_ratings_and_reviews_element.text.split()[0]\n",
    "        no_of_reviews = no_of_ratings_and_reviews_element.text.split()[3]\n",
    "        return no_of_ratings, no_of_reviews\n",
    "    except:\n",
    "        return 'N/A', 'N/A'"
   ]
  },
  {
   "cell_type": "code",
   "execution_count": 8,
   "id": "a2c06cf0",
   "metadata": {},
   "outputs": [],
   "source": [
    "def actual_price_scrap(driver):\n",
    "    try:\n",
    "        actual_price_element = driver.find_element(By.CSS_SELECTOR, '#details-page > section.details-book-section.d-flex.align-items-base > div.details-book-main-info-wrapper > div > div.col.details-book-main-info.align-self-center > div.details-book-main-info__content > div.details-book-info__content-book-price > strike')\n",
    "        actual_price = actual_price_element.text.split()[1]\n",
    "        return actual_price\n",
    "    except:\n",
    "        return 'N/A'"
   ]
  },
  {
   "cell_type": "code",
   "execution_count": 9,
   "id": "1e058e84",
   "metadata": {},
   "outputs": [],
   "source": [
    "def actual_price_scrap(driver):\n",
    "    try:\n",
    "        actual_price_element = driver.find_element(By.CSS_SELECTOR, '#details-page > section.details-book-section.d-flex.align-items-base > div.details-book-main-info-wrapper > div > div.col.details-book-main-info.align-self-center > div.details-book-main-info__content > div.details-book-info__content-book-price > strike')\n",
    "        actual_price = actual_price_element.text.split()[1]\n",
    "        return actual_price\n",
    "    except:\n",
    "        return 'N/A'"
   ]
  },
  {
   "cell_type": "code",
   "execution_count": 10,
   "id": "9345c3c3",
   "metadata": {},
   "outputs": [],
   "source": [
    "def discount_price_scrap(driver):\n",
    "    try:\n",
    "        discount_price_element = driver.find_element(By.CSS_SELECTOR, '#details-page > section.details-book-section.d-flex.align-items-base > div.details-book-main-info-wrapper > div > div.col.details-book-main-info.align-self-center > div.details-book-main-info__content > div.details-book-info__content-book-price > span.sell-price')\n",
    "        discount_price = discount_price_element.text.split()[1]\n",
    "        return discount_price\n",
    "    except:\n",
    "        return 'N/A'"
   ]
  },
  {
   "cell_type": "code",
   "execution_count": 11,
   "id": "0070a7c4",
   "metadata": {},
   "outputs": [],
   "source": [
    "def discount_amount_and_percentage_scrap(driver):\n",
    "    try:\n",
    "        discount_amount_percentage_element = driver.find_element(By.CSS_SELECTOR, '#details-page > section.details-book-section.d-flex.align-items-base > div.details-book-main-info-wrapper > div > div.col.details-book-main-info.align-self-center > div.details-book-main-info__content > div.details-book-info__content-book-price > span.discount > span')\n",
    "        discount_amount = discount_amount_percentage_element.text.split()[3]\n",
    "        discount_percentage = discount_amount_percentage_element.text.split()[4].strip('()')\n",
    "        return discount_amount, discount_percentage\n",
    "    except:\n",
    "        return 'N/A', 'N/A'"
   ]
  },
  {
   "cell_type": "code",
   "execution_count": 12,
   "id": "e32dbd8c",
   "metadata": {},
   "outputs": [],
   "source": [
    "def stock_availability_and_copies_available_scrap(driver):\n",
    "    try:\n",
    "        stock_availability_and_no_of_copies_available_element = driver.find_element(By.CLASS_NAME, 'stock-available')\n",
    "        if 'only' in stock_availability_and_no_of_copies_available_element.text:\n",
    "            stock_availability = stock_availability_and_no_of_copies_available_element.text.split('\\n')[0].strip()\n",
    "            no_of_copies_available = stock_availability_and_no_of_copies_available_element.text.split('\\n')[1].split()[1]\n",
    "        elif 'available' in stock_availability_and_no_of_copies_available_element.text:\n",
    "            stock_availability = stock_availability_and_no_of_copies_available_element.text.split('(')[0].strip()\n",
    "            no_of_copies_available = stock_availability_and_no_of_copies_available_element.text.split('(')[1].split()[0]\n",
    "        return stock_availability, no_of_copies_available\n",
    "    except:\n",
    "        return 'N/A', 'N/A'"
   ]
  },
  {
   "cell_type": "code",
   "execution_count": 13,
   "id": "b49248ab",
   "metadata": {},
   "outputs": [],
   "source": [
    "def publisher_scrap(driver):\n",
    "    try:\n",
    "        for i in range(1,9): #There are at most 8 specification for each book\n",
    "            if driver.find_element(By.CSS_SELECTOR, f'#book-additional-specification > table > tbody > tr:nth-child({i}) > td:nth-child(1)').text == 'Publisher':\n",
    "                puslisher_element = driver.find_element(By.CSS_SELECTOR, f'#book-additional-specification > table > tbody > tr:nth-child({i}) > td.publisher-link > a')\n",
    "                publisher = puslisher_element.text \n",
    "                break\n",
    "            \n",
    "#         if driver.find_element(By.CSS_SELECTOR, '#book-additional-specification > table > tbody > tr:nth-child(1) > td:nth-child(1)').text == 'Publisher':\n",
    "#             puslisher_element = driver.find_element(By.CSS_SELECTOR, '#book-additional-specification > table > tbody > tr:nth-child(1) > td.publisher-link > a')\n",
    "#             publisher = puslisher_element.text   \n",
    "#         elif driver.find_element(By.CSS_SELECTOR, '#book-additional-specification > table > tbody > tr:nth-child(2) > td:nth-child(1)').text == 'Publisher':\n",
    "#             puslisher_element = driver.find_element(By.CSS_SELECTOR, '#book-additional-specification > table > tbody > tr:nth-child(2) > td.publisher-link > a')\n",
    "#             publisher = puslisher_element.text \n",
    "#         elif driver.find_element(By.CSS_SELECTOR, '#book-additional-specification > table > tbody > tr:nth-child(3) > td:nth-child(1)').text == 'Publisher':\n",
    "#             puslisher_element = driver.find_element(By.CSS_SELECTOR, '#book-additional-specification > table > tbody > tr:nth-child(3) > td.publisher-link > a')\n",
    "#             publisher = puslisher_element.text \n",
    "#         elif driver.find_element(By.CSS_SELECTOR, '#book-additional-specification > table > tbody > tr:nth-child(4) > td:nth-child(1)').text == 'Publisher':\n",
    "#             puslisher_element = driver.find_element(By.CSS_SELECTOR, '#book-additional-specification > table > tbody > tr:nth-child(4) > td.publisher-link > a')\n",
    "#             publisher = puslisher_element.text \n",
    "#         elif driver.find_element(By.CSS_SELECTOR, '#book-additional-specification > table > tbody > tr:nth-child(5) > td:nth-child(1)').text == 'Publisher':\n",
    "#             puslisher_element = driver.find_element(By.CSS_SELECTOR, '#book-additional-specification > table > tbody > tr:nth-child(5) > td.publisher-link > a')\n",
    "#             publisher = puslisher_element.text \n",
    "#         elif driver.find_element(By.CSS_SELECTOR, '#book-additional-specification > table > tbody > tr:nth-child(6) > td:nth-child(1)').text == 'Publisher':\n",
    "#             puslisher_element = driver.find_element(By.CSS_SELECTOR, '#book-additional-specification > table > tbody > tr:nth-child(6) > td.publisher-link > a')\n",
    "#             publisher = puslisher_element.text \n",
    "#         elif driver.find_element(By.CSS_SELECTOR, '#book-additional-specification > table > tbody > tr:nth-child(7) > td:nth-child(1)').text == 'Publisher':\n",
    "#             puslisher_element = driver.find_element(By.CSS_SELECTOR, '#book-additional-specification > table > tbody > tr:nth-child(7) > td.publisher-link > a')\n",
    "#             publisher = puslisher_element.text \n",
    "#         elif driver.find_element(By.CSS_SELECTOR, '#book-additional-specification > table > tbody > tr:nth-child(8) > td:nth-child(1)').text == 'Publisher':\n",
    "#             puslisher_element = driver.find_element(By.CSS_SELECTOR, '#book-additional-specification > table > tbody > tr:nth-child(8) > td.publisher-link > a')\n",
    "#             publisher = puslisher_element.text \n",
    "        return publisher \n",
    "    except:\n",
    "        return 'N/A'"
   ]
  },
  {
   "cell_type": "code",
   "execution_count": 14,
   "id": "2a318f4c",
   "metadata": {},
   "outputs": [],
   "source": [
    "def ISBN_scrap(driver):\n",
    "    try:\n",
    "        for i in range(1,9): #There are at most 8 specification for each book\n",
    "            if driver.find_element(By.CSS_SELECTOR, f'#book-additional-specification > table > tbody > tr:nth-child({i}) > td:nth-child(1)').text == 'ISBN':\n",
    "                ISBN_element = driver.find_element(By.CSS_SELECTOR, f'#book-additional-specification > table > tbody > tr:nth-child({i}) > td:nth-child(2)')\n",
    "                ISBN = ISBN_element.text\n",
    "                break\n",
    "            \n",
    "#         if driver.find_element(By.CSS_SELECTOR, '#book-additional-specification > table > tbody > tr:nth-child(1) > td:nth-child(1)').text == 'ISBN':\n",
    "#             ISBN_element = driver.find_element(By.CSS_SELECTOR, '#book-additional-specification > table > tbody > tr:nth-child(1) > td:nth-child(2)')\n",
    "#             ISBN = ISBN_element.text\n",
    "#         elif driver.find_element(By.CSS_SELECTOR, '#book-additional-specification > table > tbody > tr:nth-child(2) > td:nth-child(1)').text == 'ISBN':\n",
    "#             ISBN_element = driver.find_element(By.CSS_SELECTOR, '#book-additional-specification > table > tbody > tr:nth-child(2) > td:nth-child(2)')\n",
    "#             ISBN = ISBN_element.text\n",
    "#         elif driver.find_element(By.CSS_SELECTOR, '#book-additional-specification > table > tbody > tr:nth-child(3) > td:nth-child(1)').text == 'ISBN':\n",
    "#             ISBN_element = driver.find_element(By.CSS_SELECTOR, '#book-additional-specification > table > tbody > tr:nth-child(3) > td:nth-child(2)')\n",
    "#             ISBN = ISBN_element.text\n",
    "#         elif driver.find_element(By.CSS_SELECTOR, '#book-additional-specification > table > tbody > tr:nth-child(4) > td:nth-child(1)').text == 'ISBN':\n",
    "#             ISBN_element = driver.find_element(By.CSS_SELECTOR, '#book-additional-specification > table > tbody > tr:nth-child(4) > td:nth-child(2)')\n",
    "#             ISBN = ISBN_element.text\n",
    "#         elif driver.find_element(By.CSS_SELECTOR, '#book-additional-specification > table > tbody > tr:nth-child(5) > td:nth-child(1)').text == 'ISBN':\n",
    "#             ISBN_element = driver.find_element(By.CSS_SELECTOR, '#book-additional-specification > table > tbody > tr:nth-child(5) > td:nth-child(2)')\n",
    "#             ISBN = ISBN_element.text\n",
    "#         elif driver.find_element(By.CSS_SELECTOR, '#book-additional-specification > table > tbody > tr:nth-child(6) > td:nth-child(1)').text == 'ISBN':\n",
    "#             ISBN_element = driver.find_element(By.CSS_SELECTOR, '#book-additional-specification > table > tbody > tr:nth-child(6) > td:nth-child(2)')\n",
    "#             ISBN = ISBN_element.text\n",
    "#         elif driver.find_element(By.CSS_SELECTOR, '#book-additional-specification > table > tbody > tr:nth-child(7) > td:nth-child(1)').text == 'ISBN':\n",
    "#             ISBN_element = driver.find_element(By.CSS_SELECTOR, '#book-additional-specification > table > tbody > tr:nth-child(7) > td:nth-child(2)')\n",
    "#             ISBN = ISBN_element.text\n",
    "#         elif driver.find_element(By.CSS_SELECTOR, '#book-additional-specification > table > tbody > tr:nth-child(8) > td:nth-child(1)').text == 'ISBN':\n",
    "#             ISBN_element = driver.find_element(By.CSS_SELECTOR, '#book-additional-specification > table > tbody > tr:nth-child(8) > td:nth-child(2)')\n",
    "#             ISBN = ISBN_element.text\n",
    "        return ISBN\n",
    "    except:\n",
    "        return 'N/A'"
   ]
  },
  {
   "cell_type": "code",
   "execution_count": 15,
   "id": "46a5b1ab",
   "metadata": {},
   "outputs": [],
   "source": [
    "def edition_scrap(driver):\n",
    "    try:\n",
    "        for i in range(1,9): #There are at most 8 specification for each book\n",
    "            if driver.find_element(By.CSS_SELECTOR, f'#book-additional-specification > table > tbody > tr:nth-child({i}) > td:nth-child(1)').text == 'Edition':\n",
    "                edition_element = driver.find_element(By.CSS_SELECTOR, f'#book-additional-specification > table > tbody > tr:nth-child({i}) > td:nth-child(2)')\n",
    "                edition = edition_element.text\n",
    "                break\n",
    "            \n",
    "#         if driver.find_element(By.CSS_SELECTOR, '#book-additional-specification > table > tbody > tr:nth-child(1) > td:nth-child(1)').text == 'Edition':\n",
    "#             edition_element = driver.find_element(By.CSS_SELECTOR, '#book-additional-specification > table > tbody > tr:nth-child(1) > td:nth-child(2)')\n",
    "#             edition = edition_element.text\n",
    "#         elif driver.find_element(By.CSS_SELECTOR, '#book-additional-specification > table > tbody > tr:nth-child(2) > td:nth-child(1)').text == 'Edition':\n",
    "#             edition_element = driver.find_element(By.CSS_SELECTOR, '#book-additional-specification > table > tbody > tr:nth-child(2) > td:nth-child(2)')\n",
    "#             edition = edition_element.text\n",
    "#         elif driver.find_element(By.CSS_SELECTOR, '#book-additional-specification > table > tbody > tr:nth-child(3) > td:nth-child(1)').text == 'Edition':\n",
    "#             edition_element = driver.find_element(By.CSS_SELECTOR, '#book-additional-specification > table > tbody > tr:nth-child(3) > td:nth-child(2)')\n",
    "#             edition = edition_element.text\n",
    "#         elif driver.find_element(By.CSS_SELECTOR, '#book-additional-specification > table > tbody > tr:nth-child(4) > td:nth-child(1)').text == 'Edition':\n",
    "#             edition_element = driver.find_element(By.CSS_SELECTOR, '#book-additional-specification > table > tbody > tr:nth-child(4) > td:nth-child(2)')\n",
    "#             edition = edition_element.text\n",
    "#         elif driver.find_element(By.CSS_SELECTOR, '#book-additional-specification > table > tbody > tr:nth-child(5) > td:nth-child(1)').text == 'Edition':\n",
    "#             edition_element = driver.find_element(By.CSS_SELECTOR, '#book-additional-specification > table > tbody > tr:nth-child(5) > td:nth-child(2)')\n",
    "#             edition = edition_element.text\n",
    "#         elif driver.find_element(By.CSS_SELECTOR, '#book-additional-specification > table > tbody > tr:nth-child(6) > td:nth-child(1)').text == 'Edition':\n",
    "#             edition_element = driver.find_element(By.CSS_SELECTOR, '#book-additional-specification > table > tbody > tr:nth-child(6) > td:nth-child(2)')\n",
    "#             edition = edition_element.text\n",
    "#         elif driver.find_element(By.CSS_SELECTOR, '#book-additional-specification > table > tbody > tr:nth-child(7) > td:nth-child(1)').text == 'Edition':\n",
    "#             edition_element = driver.find_element(By.CSS_SELECTOR, '#book-additional-specification > table > tbody > tr:nth-child(7) > td:nth-child(2)')\n",
    "#             edition = edition_element.text\n",
    "#         elif driver.find_element(By.CSS_SELECTOR, '#book-additional-specification > table > tbody > tr:nth-child(8) > td:nth-child(1)').text == 'Edition':\n",
    "#             edition_element = driver.find_element(By.CSS_SELECTOR, '#book-additional-specification > table > tbody > tr:nth-child(8) > td:nth-child(2)')\n",
    "#             edition = edition_element.text\n",
    "        return edition\n",
    "    except:\n",
    "        return 'N/A'"
   ]
  },
  {
   "cell_type": "code",
   "execution_count": 16,
   "id": "59c170a4",
   "metadata": {},
   "outputs": [],
   "source": [
    "def no_of_pages_scrap(driver):\n",
    "    try:\n",
    "        for i in range(1,9): #There are at most 8 specification for each book\n",
    "            if driver.find_element(By.CSS_SELECTOR, f'#book-additional-specification > table > tbody > tr:nth-child({i}) > td:nth-child(1)').text == 'Number of Pages':\n",
    "                no_of_pages_element = driver.find_element(By.CSS_SELECTOR, f'#book-additional-specification > table > tbody > tr:nth-child({i}) > td:nth-child(2)')\n",
    "                no_of_pages = no_of_pages_element.text\n",
    "                break\n",
    "                \n",
    "#         if driver.find_element(By.CSS_SELECTOR, '#book-additional-specification > table > tbody > tr:nth-child(1) > td:nth-child(1)').text == 'Number of Pages':\n",
    "#             no_of_pages_element = driver.find_element(By.CSS_SELECTOR, '#book-additional-specification > table > tbody > tr:nth-child(1) > td:nth-child(2)')\n",
    "#             no_of_pages = no_of_pages_element.text\n",
    "#         elif driver.find_element(By.CSS_SELECTOR, '#book-additional-specification > table > tbody > tr:nth-child(2) > td:nth-child(1)').text == 'Number of Pages':\n",
    "#             no_of_pages_element = driver.find_element(By.CSS_SELECTOR, '#book-additional-specification > table > tbody > tr:nth-child(2) > td:nth-child(2)')\n",
    "#             no_of_pages = no_of_pages_element.text\n",
    "#         elif driver.find_element(By.CSS_SELECTOR, '#book-additional-specification > table > tbody > tr:nth-child(3) > td:nth-child(1)').text == 'Number of Pages':\n",
    "#             no_of_pages_element = driver.find_element(By.CSS_SELECTOR, '#book-additional-specification > table > tbody > tr:nth-child(3) > td:nth-child(2)')\n",
    "#             no_of_pages = no_of_pages_element.text\n",
    "#         elif driver.find_element(By.CSS_SELECTOR, '#book-additional-specification > table > tbody > tr:nth-child(4) > td:nth-child(1)').text == 'Number of Pages':\n",
    "#             no_of_pages_element = driver.find_element(By.CSS_SELECTOR, '#book-additional-specification > table > tbody > tr:nth-child(4) > td:nth-child(2)')\n",
    "#             no_of_pages = no_of_pages_element.text\n",
    "#         elif driver.find_element(By.CSS_SELECTOR, '#book-additional-specification > table > tbody > tr:nth-child(5) > td:nth-child(1)').text == 'Number of Pages':\n",
    "#             no_of_pages_element = driver.find_element(By.CSS_SELECTOR, '#book-additional-specification > table > tbody > tr:nth-child(5) > td:nth-child(2)')\n",
    "#             no_of_pages = no_of_pages_element.text\n",
    "#         elif driver.find_element(By.CSS_SELECTOR, '#book-additional-specification > table > tbody > tr:nth-child(6) > td:nth-child(1)').text == 'Number of Pages':\n",
    "#             no_of_pages_element = driver.find_element(By.CSS_SELECTOR, '#book-additional-specification > table > tbody > tr:nth-child(6) > td:nth-child(2)')\n",
    "#             no_of_pages = no_of_pages_element.text\n",
    "#         elif driver.find_element(By.CSS_SELECTOR, '#book-additional-specification > table > tbody > tr:nth-child(7) > td:nth-child(1)').text == 'Number of Pages':\n",
    "#             no_of_pages_element = driver.find_element(By.CSS_SELECTOR, '#book-additional-specification > table > tbody > tr:nth-child(7) > td:nth-child(2)')\n",
    "#             no_of_pages = no_of_pages_element.text\n",
    "#         elif driver.find_element(By.CSS_SELECTOR, '#book-additional-specification > table > tbody > tr:nth-child(8) > td:nth-child(1)').text == 'Number of Pages':\n",
    "#             no_of_pages_element = driver.find_element(By.CSS_SELECTOR, '#book-additional-specification > table > tbody > tr:nth-child(8) > td:nth-child(2)')\n",
    "#             no_of_pages = no_of_pages_element.text\n",
    "        return no_of_pages\n",
    "    except:\n",
    "        return 'N/A'"
   ]
  },
  {
   "cell_type": "code",
   "execution_count": 17,
   "id": "d27e51aa",
   "metadata": {},
   "outputs": [],
   "source": [
    "def country_scrap(driver):\n",
    "    try:\n",
    "        for i in range(1,9): #There are at most 8 specification for each book\n",
    "            if driver.find_element(By.CSS_SELECTOR, f'#book-additional-specification > table > tbody > tr:nth-child({i}) > td:nth-child(1)').text == 'Country':\n",
    "                country_element = driver.find_element(By.CSS_SELECTOR, f'#book-additional-specification > table > tbody > tr:nth-child({i}) > td:nth-child(2)')\n",
    "                country = country_element.text\n",
    "                break\n",
    "#         if driver.find_element(By.CSS_SELECTOR, '#book-additional-specification > table > tbody > tr:nth-child(1) > td:nth-child(1)').text == 'Country':\n",
    "#             country_element = driver.find_element(By.CSS_SELECTOR, '#book-additional-specification > table > tbody > tr:nth-child(1) > td:nth-child(2)')\n",
    "#             country = country_element.text\n",
    "#         elif driver.find_element(By.CSS_SELECTOR, '#book-additional-specification > table > tbody > tr:nth-child(2) > td:nth-child(1)').text == 'Country':\n",
    "#             country_element = driver.find_element(By.CSS_SELECTOR, '#book-additional-specification > table > tbody > tr:nth-child(2) > td:nth-child(2)')\n",
    "#             country = country_element.text\n",
    "#         elif driver.find_element(By.CSS_SELECTOR, '#book-additional-specification > table > tbody > tr:nth-child(3) > td:nth-child(1)').text == 'Country':\n",
    "#             country_element = driver.find_element(By.CSS_SELECTOR, '#book-additional-specification > table > tbody > tr:nth-child(3) > td:nth-child(2)')\n",
    "#             country = country_element.text\n",
    "#         elif driver.find_element(By.CSS_SELECTOR, '#book-additional-specification > table > tbody > tr:nth-child(4) > td:nth-child(1)').text == 'Country':\n",
    "#             country_element = driver.find_element(By.CSS_SELECTOR, '#book-additional-specification > table > tbody > tr:nth-child(4) > td:nth-child(2)')\n",
    "#             country = country_element.text\n",
    "#         elif driver.find_element(By.CSS_SELECTOR, '#book-additional-specification > table > tbody > tr:nth-child(5) > td:nth-child(1)').text == 'Country':\n",
    "#             country_element = driver.find_element(By.CSS_SELECTOR, '#book-additional-specification > table > tbody > tr:nth-child(5) > td:nth-child(2)')\n",
    "#             country = country_element.text\n",
    "#         elif driver.find_element(By.CSS_SELECTOR, '#book-additional-specification > table > tbody > tr:nth-child(6) > td:nth-child(1)').text == 'Country':\n",
    "#             country_element = driver.find_element(By.CSS_SELECTOR, '#book-additional-specification > table > tbody > tr:nth-child(6) > td:nth-child(2)')\n",
    "#             country = country_element.text\n",
    "#         elif driver.find_element(By.CSS_SELECTOR, '#book-additional-specification > table > tbody > tr:nth-child(7) > td:nth-child(1)').text == 'Country':\n",
    "#             country_element = driver.find_element(By.CSS_SELECTOR, '#book-additional-specification > table > tbody > tr:nth-child(7) > td:nth-child(2)')\n",
    "#             country = country_element.text\n",
    "#         elif driver.find_element(By.CSS_SELECTOR, '#book-additional-specification > table > tbody > tr:nth-child(8) > td:nth-child(1)').text == 'Country':\n",
    "#             country_element = driver.find_element(By.CSS_SELECTOR, '#book-additional-specification > table > tbody > tr:nth-child(8) > td:nth-child(2)')\n",
    "#             country = country_element.text\n",
    "        return country\n",
    "    except:\n",
    "        return 'N/A'"
   ]
  },
  {
   "cell_type": "code",
   "execution_count": 18,
   "id": "45c072f6",
   "metadata": {},
   "outputs": [],
   "source": [
    "def language_scrap(driver):\n",
    "    try:\n",
    "        for i in range(1,9): #There are at most 8 specification for each book\n",
    "            if driver.find_element(By.CSS_SELECTOR, f'#book-additional-specification > table > tbody > tr:nth-child({i}) > td:nth-child(1)').text == 'Language':\n",
    "                language_element  = driver.find_element(By.CSS_SELECTOR, f'#book-additional-specification > table > tbody > tr:nth-child({i}) > td:nth-child(2)')\n",
    "                language = language_element.text\n",
    "                break\n",
    "                \n",
    "#         if driver.find_element(By.CSS_SELECTOR, '#book-additional-specification > table > tbody > tr:nth-child(1) > td:nth-child(1)').text == 'Language':\n",
    "#             language_element  = driver.find_element(By.CSS_SELECTOR, '#book-additional-specification > table > tbody > tr:nth-child(1) > td:nth-child(2)')\n",
    "#             language = language_element.text\n",
    "#         elif driver.find_element(By.CSS_SELECTOR, '#book-additional-specification > table > tbody > tr:nth-child(2) > td:nth-child(1)').text == 'Language':\n",
    "#             language_element  = driver.find_element(By.CSS_SELECTOR, '#book-additional-specification > table > tbody > tr:nth-child(2) > td:nth-child(2)')\n",
    "#             language = language_element.text\n",
    "#         elif driver.find_element(By.CSS_SELECTOR, '#book-additional-specification > table > tbody > tr:nth-child(3) > td:nth-child(1)').text == 'Language':\n",
    "#             language_element  = driver.find_element(By.CSS_SELECTOR, '#book-additional-specification > table > tbody > tr:nth-child(3) > td:nth-child(2)')\n",
    "#             language = language_element.text\n",
    "#         elif driver.find_element(By.CSS_SELECTOR, '#book-additional-specification > table > tbody > tr:nth-child(4) > td:nth-child(1)').text == 'Language':\n",
    "#             language_element  = driver.find_element(By.CSS_SELECTOR, '#book-additional-specification > table > tbody > tr:nth-child(4) > td:nth-child(2)')\n",
    "#             language = language_element.text\n",
    "#         elif driver.find_element(By.CSS_SELECTOR, '#book-additional-specification > table > tbody > tr:nth-child(5) > td:nth-child(1)').text == 'Language':\n",
    "#             language_element  = driver.find_element(By.CSS_SELECTOR, '#book-additional-specification > table > tbody > tr:nth-child(5) > td:nth-child(2)')\n",
    "#             language = language_element.text\n",
    "#         elif driver.find_element(By.CSS_SELECTOR, '#book-additional-specification > table > tbody > tr:nth-child(6) > td:nth-child(1)').text == 'Language':\n",
    "#             language_element  = driver.find_element(By.CSS_SELECTOR, '#book-additional-specification > table > tbody > tr:nth-child(6) > td:nth-child(2)')\n",
    "#             language = language_element.text\n",
    "#         elif driver.find_element(By.CSS_SELECTOR, '#book-additional-specification > table > tbody > tr:nth-child(7) > td:nth-child(1)').text == 'Language':\n",
    "#             language_element  = driver.find_element(By.CSS_SELECTOR, '#book-additional-specification > table > tbody > tr:nth-child(7) > td:nth-child(2)')\n",
    "#             language = language_element.text\n",
    "#         elif driver.find_element(By.CSS_SELECTOR, '#book-additional-specification > table > tbody > tr:nth-child(8) > td:nth-child(1)').text == 'Language':\n",
    "#             language_element  = driver.find_element(By.CSS_SELECTOR, '#book-additional-specification > table > tbody > tr:nth-child(8) > td:nth-child(2)')\n",
    "#             language = language_element.text\n",
    "        return language\n",
    "    except:\n",
    "        return 'N/A'"
   ]
  },
  {
   "cell_type": "code",
   "execution_count": null,
   "id": "a7c5f577",
   "metadata": {},
   "outputs": [],
   "source": []
  },
  {
   "cell_type": "code",
   "execution_count": null,
   "id": "4a78fbfd",
   "metadata": {},
   "outputs": [],
   "source": [
    "title_list = []\n",
    "authors_list = []\n",
    "category_list = []\n",
    "rating_list = []\n",
    "no_of_ratings_list = []\n",
    "no_of_reviews_list = []\n",
    "actual_price_list = []\n",
    "discount_price_list = []\n",
    "discount_amount_list = []\n",
    "discount_percentage_list = []\n",
    "stock_availability_list = []\n",
    "no_of_copies_available_list = []\n",
    "publisher_list = []\n",
    "ISBN_list = []\n",
    "edition_list = []\n",
    "number_of_pages_list = []\n",
    "country_list = []\n",
    "language_list = []\n",
    "\n",
    "for i in range(1, 500): #There are 176,999 books available on rokomari.com as of 04/03/2024\n",
    "    driver.get(f'https://www.rokomari.com/book/{i}/')\n",
    "    \n",
    "    title = title_scrap(driver)\n",
    "    if title == 'N/A' or title == 'This site can’t be reached':\n",
    "        continue\n",
    "    authors = author_scrap(driver)\n",
    "    category = category_scrap(driver)\n",
    "    rating = rating_scrap(driver)\n",
    "    no_of_ratings, no_of_reviews = no_of_rating_and_review_scrap(driver)\n",
    "    actual_price = actual_price_scrap(driver)\n",
    "    discount_price = discount_price_scrap(driver)\n",
    "    discount_amount, discount_percentage = discount_amount_and_percentage_scrap(driver)\n",
    "    stock_availability, no_of_copies_available = stock_availability_and_copies_available_scrap(driver)\n",
    "    \n",
    "    try:\n",
    "        # Find the element with the CSS selector '#book-additional-specification-tab'\n",
    "        element = driver.find_element(By.CSS_SELECTOR, '#book-additional-specification-tab')\n",
    "        # Scroll the element into view using JavaScript\n",
    "        driver.execute_script(\"arguments[0].scrollIntoView(true);\", element)\n",
    "        # Click the element using JavaScript\n",
    "        driver.execute_script(\"arguments[0].click();\", element)\n",
    "        time.sleep(1.5)\n",
    "    except:\n",
    "        pass\n",
    "        # print(i, '--> No Book Found')\n",
    "    \n",
    "    publisher = publisher_scrap(driver)\n",
    "    ISBN = ISBN_scrap(driver)\n",
    "    edition = edition_scrap(driver)\n",
    "    number_of_pages = no_of_pages_scrap(driver)\n",
    "    country = country_scrap(driver)\n",
    "    language = language_scrap(driver)\n",
    "    \n",
    "    title_list.append(title)\n",
    "    authors_list.append(authors)\n",
    "    category_list.append(category)\n",
    "    rating_list.append(rating)\n",
    "    no_of_ratings_list.append(no_of_ratings)\n",
    "    no_of_reviews_list.append(no_of_reviews)\n",
    "    actual_price_list.append(actual_price)\n",
    "    discount_price_list.append(discount_price)\n",
    "    discount_amount_list.append(discount_amount)\n",
    "    discount_percentage_list.append(discount_percentage)\n",
    "    stock_availability_list.append(stock_availability)\n",
    "    no_of_copies_available_list.append(no_of_copies_available)\n",
    "    publisher_list.append(publisher)\n",
    "    ISBN_list.append(ISBN)\n",
    "    edition_list.append(edition)\n",
    "    number_of_pages_list.append(number_of_pages)\n",
    "    country_list.append(country)\n",
    "    language_list.append(language)\n",
    "    \n",
    "    \n",
    "df_lst = [title_list, authors_list, category_list, rating_list, no_of_ratings_list, no_of_reviews_list, actual_price_list,\n",
    "          discount_price_list, discount_amount_list, discount_percentage_list, stock_availability_list, no_of_copies_available_list,\n",
    "          publisher_list, ISBN_list, edition_list, number_of_pages_list, country_list, language_list]\n",
    "\n",
    "column_lst = ['Title', 'Authors', 'Category', 'Rating', 'No_of_Rating', 'No_of_Review', 'Actual_Price', 'Discount_Price', \n",
    "              'Discount_Amount', 'Discount_Percentage', 'Stock_Availability', 'No_of_Copies_Available', 'Publisher', 'ISBN_No',\n",
    "              'Edition', 'No_of_Pages', 'Country', 'Language']\n",
    "df = pd.DataFrame(df_lst).T\n",
    "df.columns = column_lst\n",
    "df.to_csv('rokomari_book_list_2024.csv', index=False)\n",
    "    "
   ]
  },
  {
   "cell_type": "code",
   "execution_count": 20,
   "id": "a6d0c119",
   "metadata": {},
   "outputs": [],
   "source": [
    "df_lst = [title_list, authors_list, category_list, rating_list, no_of_ratings_list, no_of_reviews_list, actual_price_list,\n",
    "          discount_price_list, discount_amount_list, discount_percentage_list, stock_availability_list, no_of_copies_available_list,\n",
    "          publisher_list, ISBN_list, edition_list, number_of_pages_list, country_list, language_list]\n",
    "\n",
    "column_lst = ['Title', 'Authors', 'Category', 'Rating', 'No_of_Rating', 'No_of_Review', 'Actual_Price', 'Discount_Price', \n",
    "              'Discount_Amount', 'Discount_Percentage', 'Stock_Availability', 'No_of_Copies_Available', 'Publisher', 'ISBN_No',\n",
    "              'Edition', 'No_of_Pages', 'Country', 'Language']\n",
    "df = pd.DataFrame(df_lst).T\n",
    "df.columns = column_lst\n",
    "df.to_csv('rokomari_book_list_2024.csv', index=False)"
   ]
  },
  {
   "cell_type": "code",
   "execution_count": 23,
   "id": "713d3dba",
   "metadata": {
    "scrolled": false
   },
   "outputs": [
    {
     "data": {
      "text/html": [
       "<div>\n",
       "<style scoped>\n",
       "    .dataframe tbody tr th:only-of-type {\n",
       "        vertical-align: middle;\n",
       "    }\n",
       "\n",
       "    .dataframe tbody tr th {\n",
       "        vertical-align: top;\n",
       "    }\n",
       "\n",
       "    .dataframe thead th {\n",
       "        text-align: right;\n",
       "    }\n",
       "</style>\n",
       "<table border=\"1\" class=\"dataframe\">\n",
       "  <thead>\n",
       "    <tr style=\"text-align: right;\">\n",
       "      <th></th>\n",
       "      <th>Title</th>\n",
       "      <th>Authors</th>\n",
       "      <th>Category</th>\n",
       "      <th>Rating</th>\n",
       "      <th>No_of_Rating</th>\n",
       "      <th>No_of_Review</th>\n",
       "      <th>Actual_Price</th>\n",
       "      <th>Discount_Price</th>\n",
       "      <th>Discount_Amount</th>\n",
       "      <th>Discount_Percentage</th>\n",
       "      <th>Stock_Availability</th>\n",
       "      <th>No_of_Copies_Available</th>\n",
       "      <th>Publisher</th>\n",
       "      <th>ISBN_No</th>\n",
       "      <th>Edition</th>\n",
       "      <th>No_of_Pages</th>\n",
       "      <th>Country</th>\n",
       "      <th>Language</th>\n",
       "    </tr>\n",
       "  </thead>\n",
       "  <tbody>\n",
       "    <tr>\n",
       "      <th>0</th>\n",
       "      <td>সুশাসনের সন্ধানে</td>\n",
       "      <td>আতিউর রহমান</td>\n",
       "      <td>প্রসঙ্গ বাংলাদেশ</td>\n",
       "      <td>5.00</td>\n",
       "      <td>5</td>\n",
       "      <td>2</td>\n",
       "      <td>325</td>\n",
       "      <td>280</td>\n",
       "      <td>45</td>\n",
       "      <td>14%</td>\n",
       "      <td>NaN</td>\n",
       "      <td>NaN</td>\n",
       "      <td>অন্যপ্রকাশ</td>\n",
       "      <td>9.848682e+09</td>\n",
       "      <td>1st Published, 2003</td>\n",
       "      <td>216</td>\n",
       "      <td>বাংলাদেশ</td>\n",
       "      <td>বাংলা</td>\n",
       "    </tr>\n",
       "    <tr>\n",
       "      <th>1</th>\n",
       "      <td>শেষের কবিতা</td>\n",
       "      <td>রবীন্দ্রনাথ ঠাকুর</td>\n",
       "      <td>চিরায়ত উপন্যাস</td>\n",
       "      <td>4.23</td>\n",
       "      <td>83</td>\n",
       "      <td>46</td>\n",
       "      <td>200</td>\n",
       "      <td>150</td>\n",
       "      <td>50</td>\n",
       "      <td>25%</td>\n",
       "      <td>NaN</td>\n",
       "      <td>NaN</td>\n",
       "      <td>বিশ্বসাহিত্য ভবন</td>\n",
       "      <td>9.848309e+10</td>\n",
       "      <td>1st Published, 2014</td>\n",
       "      <td>78</td>\n",
       "      <td>বাংলাদেশ</td>\n",
       "      <td>বাংলা</td>\n",
       "    </tr>\n",
       "    <tr>\n",
       "      <th>2</th>\n",
       "      <td>নৌকাডুবি</td>\n",
       "      <td>রবীন্দ্রনাথ ঠাকুর</td>\n",
       "      <td>চিরায়ত উপন্যাস</td>\n",
       "      <td>4.40</td>\n",
       "      <td>20</td>\n",
       "      <td>10</td>\n",
       "      <td>320</td>\n",
       "      <td>240</td>\n",
       "      <td>80</td>\n",
       "      <td>25%</td>\n",
       "      <td>In Stock</td>\n",
       "      <td>2.0</td>\n",
       "      <td>বিশ্বসাহিত্য ভবন</td>\n",
       "      <td>9.848309e+10</td>\n",
       "      <td>1st Published, 2019</td>\n",
       "      <td>156</td>\n",
       "      <td>বাংলাদেশ</td>\n",
       "      <td>বাংলা</td>\n",
       "    </tr>\n",
       "    <tr>\n",
       "      <th>3</th>\n",
       "      <td>গোরা</td>\n",
       "      <td>রবীন্দ্রনাথ ঠাকুর</td>\n",
       "      <td>চিরায়ত উপন্যাস</td>\n",
       "      <td>4.75</td>\n",
       "      <td>8</td>\n",
       "      <td>3</td>\n",
       "      <td>300</td>\n",
       "      <td>225</td>\n",
       "      <td>75</td>\n",
       "      <td>25%</td>\n",
       "      <td>In Stock</td>\n",
       "      <td>1.0</td>\n",
       "      <td>বিশ্বসাহিত্য ভবন</td>\n",
       "      <td>NaN</td>\n",
       "      <td>1st Published, 2018</td>\n",
       "      <td>239</td>\n",
       "      <td>বাংলাদেশ</td>\n",
       "      <td>বাংলা</td>\n",
       "    </tr>\n",
       "    <tr>\n",
       "      <th>4</th>\n",
       "      <td>চোখের বালি</td>\n",
       "      <td>রবীন্দ্রনাথ ঠাকুর</td>\n",
       "      <td>চিরায়ত উপন্যাস</td>\n",
       "      <td>4.92</td>\n",
       "      <td>13</td>\n",
       "      <td>8</td>\n",
       "      <td>300</td>\n",
       "      <td>225</td>\n",
       "      <td>75</td>\n",
       "      <td>25%</td>\n",
       "      <td>In Stock</td>\n",
       "      <td>1.0</td>\n",
       "      <td>বিশ্বসাহিত্য ভবন</td>\n",
       "      <td>9.848310e+10</td>\n",
       "      <td>1st Published, 2013</td>\n",
       "      <td>156</td>\n",
       "      <td>বাংলাদেশ</td>\n",
       "      <td>বাংলা</td>\n",
       "    </tr>\n",
       "    <tr>\n",
       "      <th>5</th>\n",
       "      <td>ঘরে-বাইরে</td>\n",
       "      <td>রবীন্দ্রনাথ ঠাকুর</td>\n",
       "      <td>চিরায়ত উপন্যাস</td>\n",
       "      <td>4.20</td>\n",
       "      <td>5</td>\n",
       "      <td>1</td>\n",
       "      <td>300</td>\n",
       "      <td>225</td>\n",
       "      <td>75</td>\n",
       "      <td>25%</td>\n",
       "      <td>In Stock</td>\n",
       "      <td>13.0</td>\n",
       "      <td>বিশ্বসাহিত্য ভবন</td>\n",
       "      <td>NaN</td>\n",
       "      <td>1st Published, 2014</td>\n",
       "      <td>128</td>\n",
       "      <td>বাংলাদেশ</td>\n",
       "      <td>বাংলা</td>\n",
       "    </tr>\n",
       "    <tr>\n",
       "      <th>6</th>\n",
       "      <td>যোগাযোগ</td>\n",
       "      <td>রবীন্দ্রনাথ ঠাকুর</td>\n",
       "      <td>চিরায়ত উপন্যাস</td>\n",
       "      <td>4.60</td>\n",
       "      <td>10</td>\n",
       "      <td>6</td>\n",
       "      <td>250</td>\n",
       "      <td>188</td>\n",
       "      <td>62</td>\n",
       "      <td>25%</td>\n",
       "      <td>In Stock</td>\n",
       "      <td>4.0</td>\n",
       "      <td>বিশ্বসাহিত্য ভবন</td>\n",
       "      <td>9.848326e+09</td>\n",
       "      <td>1st Published, 2010</td>\n",
       "      <td>144</td>\n",
       "      <td>বাংলাদেশ</td>\n",
       "      <td>বাংলা</td>\n",
       "    </tr>\n",
       "    <tr>\n",
       "      <th>7</th>\n",
       "      <td>স্ত্রীরপত্র ও পয়লা নম্বর</td>\n",
       "      <td>রবীন্দ্রনাথ ঠাকুর</td>\n",
       "      <td>চিরায়ত গল্প</td>\n",
       "      <td>4.00</td>\n",
       "      <td>5</td>\n",
       "      <td>1</td>\n",
       "      <td>50</td>\n",
       "      <td>38</td>\n",
       "      <td>12</td>\n",
       "      <td>24%</td>\n",
       "      <td>NaN</td>\n",
       "      <td>NaN</td>\n",
       "      <td>বিশ্বসাহিত্য ভবন</td>\n",
       "      <td>NaN</td>\n",
       "      <td>1st Published, 2012</td>\n",
       "      <td>32</td>\n",
       "      <td>বাংলাদেশ</td>\n",
       "      <td>বাংলা</td>\n",
       "    </tr>\n",
       "    <tr>\n",
       "      <th>8</th>\n",
       "      <td>নষ্টনীড়</td>\n",
       "      <td>রবীন্দ্রনাথ ঠাকুর</td>\n",
       "      <td>চিরায়ত গল্প</td>\n",
       "      <td>4.86</td>\n",
       "      <td>7</td>\n",
       "      <td>2</td>\n",
       "      <td>60</td>\n",
       "      <td>45</td>\n",
       "      <td>15</td>\n",
       "      <td>25%</td>\n",
       "      <td>In Stock</td>\n",
       "      <td>1.0</td>\n",
       "      <td>রাফাত পাবলিকেশন্স</td>\n",
       "      <td>9.848325e+10</td>\n",
       "      <td>1st Published, 2006</td>\n",
       "      <td>48</td>\n",
       "      <td>বাংলাদেশ</td>\n",
       "      <td>বাংলা</td>\n",
       "    </tr>\n",
       "    <tr>\n",
       "      <th>9</th>\n",
       "      <td>শাস্তি ও সমাপ্তি</td>\n",
       "      <td>রবীন্দ্রনাথ ঠাকুর</td>\n",
       "      <td>চিরায়ত গল্প</td>\n",
       "      <td>5.00</td>\n",
       "      <td>4</td>\n",
       "      <td>1</td>\n",
       "      <td>50</td>\n",
       "      <td>38</td>\n",
       "      <td>12</td>\n",
       "      <td>24%</td>\n",
       "      <td>NaN</td>\n",
       "      <td>NaN</td>\n",
       "      <td>রাফাত পাবলিকেশন্স</td>\n",
       "      <td>9.848325e+09</td>\n",
       "      <td>1st Published, 2006</td>\n",
       "      <td>32</td>\n",
       "      <td>বাংলাদেশ</td>\n",
       "      <td>বাংলা</td>\n",
       "    </tr>\n",
       "    <tr>\n",
       "      <th>10</th>\n",
       "      <td>নির্বাচিত ছোটগল্প</td>\n",
       "      <td>রবীন্দ্রনাথ ঠাকুর ,  রতন সিদ্দিকী (সম্পাদক)</td>\n",
       "      <td>বাংলা কবিতা</td>\n",
       "      <td>4.75</td>\n",
       "      <td>4</td>\n",
       "      <td>0</td>\n",
       "      <td>400</td>\n",
       "      <td>300</td>\n",
       "      <td>100</td>\n",
       "      <td>25%</td>\n",
       "      <td>NaN</td>\n",
       "      <td>NaN</td>\n",
       "      <td>রাফাত পাবলিকেশন্স</td>\n",
       "      <td>NaN</td>\n",
       "      <td>2nd Edition, 2023</td>\n",
       "      <td>224</td>\n",
       "      <td>বাংলাদেশ</td>\n",
       "      <td>বাংলা</td>\n",
       "    </tr>\n",
       "    <tr>\n",
       "      <th>11</th>\n",
       "      <td>রচনাবলী-২</td>\n",
       "      <td>জিল্লুর রহমান সিদ্দিকী</td>\n",
       "      <td>রচনা সংকলন ও সমগ্র</td>\n",
       "      <td>5.00</td>\n",
       "      <td>1</td>\n",
       "      <td>0</td>\n",
       "      <td>450</td>\n",
       "      <td>338</td>\n",
       "      <td>112</td>\n",
       "      <td>25%</td>\n",
       "      <td>NaN</td>\n",
       "      <td>NaN</td>\n",
       "      <td>অনন্যা</td>\n",
       "      <td>9.847011e+12</td>\n",
       "      <td>1st Published, 2009</td>\n",
       "      <td>551</td>\n",
       "      <td>বাংলাদেশ</td>\n",
       "      <td>বাংলা</td>\n",
       "    </tr>\n",
       "    <tr>\n",
       "      <th>12</th>\n",
       "      <td>মৌলবাদ ও যুদ্ধাপরাধ</td>\n",
       "      <td>শাহরিয়ার কবির</td>\n",
       "      <td>প্রবন্ধ, নিবন্ধ ও গবেষণা সমগ্র/সংকলন</td>\n",
       "      <td>1.89</td>\n",
       "      <td>9</td>\n",
       "      <td>0</td>\n",
       "      <td>160</td>\n",
       "      <td>120</td>\n",
       "      <td>40</td>\n",
       "      <td>25%</td>\n",
       "      <td>NaN</td>\n",
       "      <td>NaN</td>\n",
       "      <td>অনন্যা</td>\n",
       "      <td>9.847011e+12</td>\n",
       "      <td>1st Published, 2009</td>\n",
       "      <td>112</td>\n",
       "      <td>বাংলাদেশ</td>\n",
       "      <td>বাংলা</td>\n",
       "    </tr>\n",
       "    <tr>\n",
       "      <th>13</th>\n",
       "      <td>ঢাকা : স্মৃতি বিস্মৃতির নগরী ২য় খণ্ড</td>\n",
       "      <td>মুনতাসীর মামুন</td>\n",
       "      <td>ঢাকার ইতিহাস</td>\n",
       "      <td>4.00</td>\n",
       "      <td>14</td>\n",
       "      <td>2</td>\n",
       "      <td>550</td>\n",
       "      <td>413</td>\n",
       "      <td>137</td>\n",
       "      <td>25%</td>\n",
       "      <td>In Stock</td>\n",
       "      <td>1.0</td>\n",
       "      <td>অনন্যা</td>\n",
       "      <td>9.847011e+12</td>\n",
       "      <td>2nd Printed, 2014</td>\n",
       "      <td>264</td>\n",
       "      <td>বাংলাদেশ</td>\n",
       "      <td>বাংলা</td>\n",
       "    </tr>\n",
       "    <tr>\n",
       "      <th>14</th>\n",
       "      <td>রাজাকার সমগ্র</td>\n",
       "      <td>মুনতাসীর মামুন</td>\n",
       "      <td>মুক্তিযুদ্ধকালীন ইতিহাস</td>\n",
       "      <td>3.00</td>\n",
       "      <td>19</td>\n",
       "      <td>3</td>\n",
       "      <td>550</td>\n",
       "      <td>413</td>\n",
       "      <td>137</td>\n",
       "      <td>25%</td>\n",
       "      <td>In Stock</td>\n",
       "      <td>1.0</td>\n",
       "      <td>অনন্যা</td>\n",
       "      <td>9.847011e+12</td>\n",
       "      <td>3rd Printed, 2013</td>\n",
       "      <td>576</td>\n",
       "      <td>বাংলাদেশ</td>\n",
       "      <td>বাংলা</td>\n",
       "    </tr>\n",
       "  </tbody>\n",
       "</table>\n",
       "</div>"
      ],
      "text/plain": [
       "                                   Title  \\\n",
       "0                       সুশাসনের সন্ধানে   \n",
       "1                            শেষের কবিতা   \n",
       "2                               নৌকাডুবি   \n",
       "3                                   গোরা   \n",
       "4                             চোখের বালি   \n",
       "5                              ঘরে-বাইরে   \n",
       "6                                যোগাযোগ   \n",
       "7               স্ত্রীরপত্র ও পয়লা নম্বর   \n",
       "8                                নষ্টনীড়   \n",
       "9                       শাস্তি ও সমাপ্তি   \n",
       "10                     নির্বাচিত ছোটগল্প   \n",
       "11                             রচনাবলী-২   \n",
       "12                   মৌলবাদ ও যুদ্ধাপরাধ   \n",
       "13  ঢাকা : স্মৃতি বিস্মৃতির নগরী ২য় খণ্ড   \n",
       "14                         রাজাকার সমগ্র   \n",
       "\n",
       "                                        Authors  \\\n",
       "0                                   আতিউর রহমান   \n",
       "1                             রবীন্দ্রনাথ ঠাকুর   \n",
       "2                             রবীন্দ্রনাথ ঠাকুর   \n",
       "3                             রবীন্দ্রনাথ ঠাকুর   \n",
       "4                             রবীন্দ্রনাথ ঠাকুর   \n",
       "5                             রবীন্দ্রনাথ ঠাকুর   \n",
       "6                             রবীন্দ্রনাথ ঠাকুর   \n",
       "7                             রবীন্দ্রনাথ ঠাকুর   \n",
       "8                             রবীন্দ্রনাথ ঠাকুর   \n",
       "9                             রবীন্দ্রনাথ ঠাকুর   \n",
       "10  রবীন্দ্রনাথ ঠাকুর ,  রতন সিদ্দিকী (সম্পাদক)   \n",
       "11                       জিল্লুর রহমান সিদ্দিকী   \n",
       "12                               শাহরিয়ার কবির   \n",
       "13                               মুনতাসীর মামুন   \n",
       "14                               মুনতাসীর মামুন   \n",
       "\n",
       "                                Category  Rating  No_of_Rating  No_of_Review  \\\n",
       "0                       প্রসঙ্গ বাংলাদেশ    5.00             5             2   \n",
       "1                         চিরায়ত উপন্যাস    4.23            83            46   \n",
       "2                         চিরায়ত উপন্যাস    4.40            20            10   \n",
       "3                         চিরায়ত উপন্যাস    4.75             8             3   \n",
       "4                         চিরায়ত উপন্যাস    4.92            13             8   \n",
       "5                         চিরায়ত উপন্যাস    4.20             5             1   \n",
       "6                         চিরায়ত উপন্যাস    4.60            10             6   \n",
       "7                            চিরায়ত গল্প    4.00             5             1   \n",
       "8                            চিরায়ত গল্প    4.86             7             2   \n",
       "9                            চিরায়ত গল্প    5.00             4             1   \n",
       "10                           বাংলা কবিতা    4.75             4             0   \n",
       "11                    রচনা সংকলন ও সমগ্র    5.00             1             0   \n",
       "12  প্রবন্ধ, নিবন্ধ ও গবেষণা সমগ্র/সংকলন    1.89             9             0   \n",
       "13                          ঢাকার ইতিহাস    4.00            14             2   \n",
       "14               মুক্তিযুদ্ধকালীন ইতিহাস    3.00            19             3   \n",
       "\n",
       "    Actual_Price  Discount_Price  Discount_Amount Discount_Percentage  \\\n",
       "0            325             280               45                 14%   \n",
       "1            200             150               50                 25%   \n",
       "2            320             240               80                 25%   \n",
       "3            300             225               75                 25%   \n",
       "4            300             225               75                 25%   \n",
       "5            300             225               75                 25%   \n",
       "6            250             188               62                 25%   \n",
       "7             50              38               12                 24%   \n",
       "8             60              45               15                 25%   \n",
       "9             50              38               12                 24%   \n",
       "10           400             300              100                 25%   \n",
       "11           450             338              112                 25%   \n",
       "12           160             120               40                 25%   \n",
       "13           550             413              137                 25%   \n",
       "14           550             413              137                 25%   \n",
       "\n",
       "   Stock_Availability  No_of_Copies_Available          Publisher  \\\n",
       "0                 NaN                     NaN         অন্যপ্রকাশ   \n",
       "1                 NaN                     NaN   বিশ্বসাহিত্য ভবন   \n",
       "2            In Stock                     2.0   বিশ্বসাহিত্য ভবন   \n",
       "3            In Stock                     1.0   বিশ্বসাহিত্য ভবন   \n",
       "4            In Stock                     1.0   বিশ্বসাহিত্য ভবন   \n",
       "5            In Stock                    13.0   বিশ্বসাহিত্য ভবন   \n",
       "6            In Stock                     4.0   বিশ্বসাহিত্য ভবন   \n",
       "7                 NaN                     NaN   বিশ্বসাহিত্য ভবন   \n",
       "8            In Stock                     1.0  রাফাত পাবলিকেশন্স   \n",
       "9                 NaN                     NaN  রাফাত পাবলিকেশন্স   \n",
       "10                NaN                     NaN  রাফাত পাবলিকেশন্স   \n",
       "11                NaN                     NaN             অনন্যা   \n",
       "12                NaN                     NaN             অনন্যা   \n",
       "13           In Stock                     1.0             অনন্যা   \n",
       "14           In Stock                     1.0             অনন্যা   \n",
       "\n",
       "         ISBN_No              Edition  No_of_Pages   Country Language  \n",
       "0   9.848682e+09  1st Published, 2003          216  বাংলাদেশ    বাংলা  \n",
       "1   9.848309e+10  1st Published, 2014           78  বাংলাদেশ    বাংলা  \n",
       "2   9.848309e+10  1st Published, 2019          156  বাংলাদেশ    বাংলা  \n",
       "3            NaN  1st Published, 2018          239  বাংলাদেশ    বাংলা  \n",
       "4   9.848310e+10  1st Published, 2013          156  বাংলাদেশ    বাংলা  \n",
       "5            NaN  1st Published, 2014          128  বাংলাদেশ    বাংলা  \n",
       "6   9.848326e+09  1st Published, 2010          144  বাংলাদেশ    বাংলা  \n",
       "7            NaN  1st Published, 2012           32  বাংলাদেশ    বাংলা  \n",
       "8   9.848325e+10  1st Published, 2006           48  বাংলাদেশ    বাংলা  \n",
       "9   9.848325e+09  1st Published, 2006           32  বাংলাদেশ    বাংলা  \n",
       "10           NaN    2nd Edition, 2023          224  বাংলাদেশ    বাংলা  \n",
       "11  9.847011e+12  1st Published, 2009          551  বাংলাদেশ    বাংলা  \n",
       "12  9.847011e+12  1st Published, 2009          112  বাংলাদেশ    বাংলা  \n",
       "13  9.847011e+12    2nd Printed, 2014          264  বাংলাদেশ    বাংলা  \n",
       "14  9.847011e+12    3rd Printed, 2013          576  বাংলাদেশ    বাংলা  "
      ]
     },
     "execution_count": 23,
     "metadata": {},
     "output_type": "execute_result"
    }
   ],
   "source": [
    "import pandas as pd\n",
    "dfa = pd.read_csv('rokomari_book_list_2024.csv')\n",
    "dfa"
   ]
  },
  {
   "cell_type": "code",
   "execution_count": null,
   "id": "5e12a0a8",
   "metadata": {},
   "outputs": [],
   "source": [
    "df['Authors'].value_counts()[:30]"
   ]
  },
  {
   "cell_type": "code",
   "execution_count": null,
   "id": "feca7cf6",
   "metadata": {},
   "outputs": [],
   "source": []
  }
 ],
 "metadata": {
  "kernelspec": {
   "display_name": "Python 3 (ipykernel)",
   "language": "python",
   "name": "python3"
  },
  "language_info": {
   "codemirror_mode": {
    "name": "ipython",
    "version": 3
   },
   "file_extension": ".py",
   "mimetype": "text/x-python",
   "name": "python",
   "nbconvert_exporter": "python",
   "pygments_lexer": "ipython3",
   "version": "3.9.12"
  }
 },
 "nbformat": 4,
 "nbformat_minor": 5
}
